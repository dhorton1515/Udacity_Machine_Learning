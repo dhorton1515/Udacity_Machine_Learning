{
 "cells": [
  {
   "cell_type": "markdown",
   "metadata": {},
   "source": [
    "# Project: Identify Customer Segments\n",
    "\n",
    "In this project, you will apply unsupervised learning techniques to identify segments of the population that form the core customer base for a mail-order sales company in Germany. These segments can then be used to direct marketing campaigns towards audiences that will have the highest expected rate of returns. The data that you will use has been provided by our partners at Bertelsmann Arvato Analytics, and represents a real-life data science task.\n",
    "\n",
    "This notebook will help you complete this task by providing a framework within which you will perform your analysis steps. In each step of the project, you will see some text describing the subtask that you will perform, followed by one or more code cells for you to complete your work. **Feel free to add additional code and markdown cells as you go along so that you can explore everything in precise chunks.** The code cells provided in the base template will outline only the major tasks, and will usually not be enough to cover all of the minor tasks that comprise it.\n",
    "\n",
    "It should be noted that while there will be precise guidelines on how you should handle certain tasks in the project, there will also be places where an exact specification is not provided. **There will be times in the project where you will need to make and justify your own decisions on how to treat the data.** These are places where there may not be only one way to handle the data. In real-life tasks, there may be many valid ways to approach an analysis task. One of the most important things you can do is clearly document your approach so that other scientists can understand the decisions you've made.\n",
    "\n",
    "At the end of most sections, there will be a Markdown cell labeled **Discussion**. In these cells, you will report your findings for the completed section, as well as document the decisions that you made in your approach to each subtask. **Your project will be evaluated not just on the code used to complete the tasks outlined, but also your communication about your observations and conclusions at each stage.**"
   ]
  },
  {
   "cell_type": "code",
   "execution_count": 1,
   "metadata": {},
   "outputs": [
    {
     "data": {
      "text/plain": [
       "\"'\\nImport note: The classroom currently uses sklearn version 0.19.\\nIf you need to use an imputer, it is available in sklearn.preprocessing.Imputer,\\ninstead of sklearn.impute as in newer versions of sklearn.\\n\""
      ]
     },
     "execution_count": 1,
     "metadata": {},
     "output_type": "execute_result"
    }
   ],
   "source": [
    "# import libraries here; add more as necessary\n",
    "import numpy as np\n",
    "import pandas as pd\n",
    "import matplotlib.pyplot as plt\n",
    "import seaborn as sns\n",
    "\n",
    "# magic word for producing visualizations in notebook\n",
    "%matplotlib inline\n",
    "\n",
    "''''\n",
    "Import note: The classroom currently uses sklearn version 0.19.\n",
    "If you need to use an imputer, it is available in sklearn.preprocessing.Imputer,\n",
    "instead of sklearn.impute as in newer versions of sklearn.\n",
    "'''"
   ]
  },
  {
   "cell_type": "markdown",
   "metadata": {},
   "source": [
    "### Step 0: Load the Data\n",
    "\n",
    "There are four files associated with this project (not including this one):\n",
    "\n",
    "- `Udacity_AZDIAS_Subset.csv`: Demographics data for the general population of Germany; 891211 persons (rows) x 85 features (columns).\n",
    "- `Udacity_CUSTOMERS_Subset.csv`: Demographics data for customers of a mail-order company; 191652 persons (rows) x 85 features (columns).\n",
    "- `Data_Dictionary.md`: Detailed information file about the features in the provided datasets.\n",
    "- `AZDIAS_Feature_Summary.csv`: Summary of feature attributes for demographics data; 85 features (rows) x 4 columns\n",
    "\n",
    "Each row of the demographics files represents a single person, but also includes information outside of individuals, including information about their household, building, and neighborhood. You will use this information to cluster the general population into groups with similar demographic properties. Then, you will see how the people in the customers dataset fit into those created clusters. The hope here is that certain clusters are over-represented in the customers data, as compared to the general population; those over-represented clusters will be assumed to be part of the core userbase. This information can then be used for further applications, such as targeting for a marketing campaign.\n",
    "\n",
    "To start off with, load in the demographics data for the general population into a pandas DataFrame, and do the same for the feature attributes summary. Note for all of the `.csv` data files in this project: they're semicolon (`;`) delimited, so you'll need an additional argument in your [`read_csv()`](https://pandas.pydata.org/pandas-docs/stable/generated/pandas.read_csv.html) call to read in the data properly. Also, considering the size of the main dataset, it may take some time for it to load completely.\n",
    "\n",
    "Once the dataset is loaded, it's recommended that you take a little bit of time just browsing the general structure of the dataset and feature summary file. You'll be getting deep into the innards of the cleaning in the first major step of the project, so gaining some general familiarity can help you get your bearings."
   ]
  },
  {
   "cell_type": "code",
   "execution_count": 2,
   "metadata": {},
   "outputs": [],
   "source": [
    "# Load in the general demographics data.\n",
    "azdias = pd.read_csv(\"Udacity_AZDIAS_Subset.csv\", sep=\";\")\n",
    "\n",
    "# Load in the feature summary file.\n",
    "feat_info = pd.read_csv(\"AZDIAS_Feature_Summary.csv\", sep=\";\")"
   ]
  },
  {
   "cell_type": "code",
   "execution_count": 3,
   "metadata": {},
   "outputs": [
    {
     "data": {
      "text/html": [
       "<div>\n",
       "<style scoped>\n",
       "    .dataframe tbody tr th:only-of-type {\n",
       "        vertical-align: middle;\n",
       "    }\n",
       "\n",
       "    .dataframe tbody tr th {\n",
       "        vertical-align: top;\n",
       "    }\n",
       "\n",
       "    .dataframe thead th {\n",
       "        text-align: right;\n",
       "    }\n",
       "</style>\n",
       "<table border=\"1\" class=\"dataframe\">\n",
       "  <thead>\n",
       "    <tr style=\"text-align: right;\">\n",
       "      <th></th>\n",
       "      <th>attribute</th>\n",
       "      <th>information_level</th>\n",
       "      <th>type</th>\n",
       "      <th>missing_or_unknown</th>\n",
       "    </tr>\n",
       "  </thead>\n",
       "  <tbody>\n",
       "    <tr>\n",
       "      <th>0</th>\n",
       "      <td>AGER_TYP</td>\n",
       "      <td>person</td>\n",
       "      <td>categorical</td>\n",
       "      <td>[-1,0]</td>\n",
       "    </tr>\n",
       "    <tr>\n",
       "      <th>1</th>\n",
       "      <td>ALTERSKATEGORIE_GROB</td>\n",
       "      <td>person</td>\n",
       "      <td>ordinal</td>\n",
       "      <td>[-1,0,9]</td>\n",
       "    </tr>\n",
       "    <tr>\n",
       "      <th>2</th>\n",
       "      <td>ANREDE_KZ</td>\n",
       "      <td>person</td>\n",
       "      <td>categorical</td>\n",
       "      <td>[-1,0]</td>\n",
       "    </tr>\n",
       "    <tr>\n",
       "      <th>3</th>\n",
       "      <td>CJT_GESAMTTYP</td>\n",
       "      <td>person</td>\n",
       "      <td>categorical</td>\n",
       "      <td>[0]</td>\n",
       "    </tr>\n",
       "    <tr>\n",
       "      <th>4</th>\n",
       "      <td>FINANZ_MINIMALIST</td>\n",
       "      <td>person</td>\n",
       "      <td>ordinal</td>\n",
       "      <td>[-1]</td>\n",
       "    </tr>\n",
       "  </tbody>\n",
       "</table>\n",
       "</div>"
      ],
      "text/plain": [
       "              attribute information_level         type missing_or_unknown\n",
       "0              AGER_TYP            person  categorical             [-1,0]\n",
       "1  ALTERSKATEGORIE_GROB            person      ordinal           [-1,0,9]\n",
       "2             ANREDE_KZ            person  categorical             [-1,0]\n",
       "3         CJT_GESAMTTYP            person  categorical                [0]\n",
       "4     FINANZ_MINIMALIST            person      ordinal               [-1]"
      ]
     },
     "execution_count": 3,
     "metadata": {},
     "output_type": "execute_result"
    }
   ],
   "source": [
    "# Check the structure of the data after it's loaded (e.g. print the number of\n",
    "# rows and columns, print the first few rows).\n",
    "feat_info.head()"
   ]
  },
  {
   "cell_type": "code",
   "execution_count": 4,
   "metadata": {},
   "outputs": [
    {
     "name": "stdout",
     "output_type": "stream",
     "text": [
      "<class 'pandas.core.frame.DataFrame'>\n",
      "RangeIndex: 85 entries, 0 to 84\n",
      "Data columns (total 4 columns):\n",
      "attribute             85 non-null object\n",
      "information_level     85 non-null object\n",
      "type                  85 non-null object\n",
      "missing_or_unknown    85 non-null object\n",
      "dtypes: object(4)\n",
      "memory usage: 2.7+ KB\n"
     ]
    }
   ],
   "source": [
    "feat_info.info()"
   ]
  },
  {
   "cell_type": "code",
   "execution_count": 5,
   "metadata": {},
   "outputs": [
    {
     "data": {
      "text/html": [
       "<div>\n",
       "<style scoped>\n",
       "    .dataframe tbody tr th:only-of-type {\n",
       "        vertical-align: middle;\n",
       "    }\n",
       "\n",
       "    .dataframe tbody tr th {\n",
       "        vertical-align: top;\n",
       "    }\n",
       "\n",
       "    .dataframe thead th {\n",
       "        text-align: right;\n",
       "    }\n",
       "</style>\n",
       "<table border=\"1\" class=\"dataframe\">\n",
       "  <thead>\n",
       "    <tr style=\"text-align: right;\">\n",
       "      <th></th>\n",
       "      <th>AGER_TYP</th>\n",
       "      <th>ALTERSKATEGORIE_GROB</th>\n",
       "      <th>ANREDE_KZ</th>\n",
       "      <th>CJT_GESAMTTYP</th>\n",
       "      <th>FINANZ_MINIMALIST</th>\n",
       "      <th>FINANZ_SPARER</th>\n",
       "      <th>FINANZ_VORSORGER</th>\n",
       "      <th>FINANZ_ANLEGER</th>\n",
       "      <th>FINANZ_UNAUFFAELLIGER</th>\n",
       "      <th>FINANZ_HAUSBAUER</th>\n",
       "      <th>...</th>\n",
       "      <th>PLZ8_ANTG1</th>\n",
       "      <th>PLZ8_ANTG2</th>\n",
       "      <th>PLZ8_ANTG3</th>\n",
       "      <th>PLZ8_ANTG4</th>\n",
       "      <th>PLZ8_BAUMAX</th>\n",
       "      <th>PLZ8_HHZ</th>\n",
       "      <th>PLZ8_GBZ</th>\n",
       "      <th>ARBEIT</th>\n",
       "      <th>ORTSGR_KLS9</th>\n",
       "      <th>RELAT_AB</th>\n",
       "    </tr>\n",
       "  </thead>\n",
       "  <tbody>\n",
       "    <tr>\n",
       "      <th>0</th>\n",
       "      <td>-1</td>\n",
       "      <td>2</td>\n",
       "      <td>1</td>\n",
       "      <td>2.0</td>\n",
       "      <td>3</td>\n",
       "      <td>4</td>\n",
       "      <td>3</td>\n",
       "      <td>5</td>\n",
       "      <td>5</td>\n",
       "      <td>3</td>\n",
       "      <td>...</td>\n",
       "      <td>NaN</td>\n",
       "      <td>NaN</td>\n",
       "      <td>NaN</td>\n",
       "      <td>NaN</td>\n",
       "      <td>NaN</td>\n",
       "      <td>NaN</td>\n",
       "      <td>NaN</td>\n",
       "      <td>NaN</td>\n",
       "      <td>NaN</td>\n",
       "      <td>NaN</td>\n",
       "    </tr>\n",
       "    <tr>\n",
       "      <th>1</th>\n",
       "      <td>-1</td>\n",
       "      <td>1</td>\n",
       "      <td>2</td>\n",
       "      <td>5.0</td>\n",
       "      <td>1</td>\n",
       "      <td>5</td>\n",
       "      <td>2</td>\n",
       "      <td>5</td>\n",
       "      <td>4</td>\n",
       "      <td>5</td>\n",
       "      <td>...</td>\n",
       "      <td>2.0</td>\n",
       "      <td>3.0</td>\n",
       "      <td>2.0</td>\n",
       "      <td>1.0</td>\n",
       "      <td>1.0</td>\n",
       "      <td>5.0</td>\n",
       "      <td>4.0</td>\n",
       "      <td>3.0</td>\n",
       "      <td>5.0</td>\n",
       "      <td>4.0</td>\n",
       "    </tr>\n",
       "    <tr>\n",
       "      <th>2</th>\n",
       "      <td>-1</td>\n",
       "      <td>3</td>\n",
       "      <td>2</td>\n",
       "      <td>3.0</td>\n",
       "      <td>1</td>\n",
       "      <td>4</td>\n",
       "      <td>1</td>\n",
       "      <td>2</td>\n",
       "      <td>3</td>\n",
       "      <td>5</td>\n",
       "      <td>...</td>\n",
       "      <td>3.0</td>\n",
       "      <td>3.0</td>\n",
       "      <td>1.0</td>\n",
       "      <td>0.0</td>\n",
       "      <td>1.0</td>\n",
       "      <td>4.0</td>\n",
       "      <td>4.0</td>\n",
       "      <td>3.0</td>\n",
       "      <td>5.0</td>\n",
       "      <td>2.0</td>\n",
       "    </tr>\n",
       "    <tr>\n",
       "      <th>3</th>\n",
       "      <td>2</td>\n",
       "      <td>4</td>\n",
       "      <td>2</td>\n",
       "      <td>2.0</td>\n",
       "      <td>4</td>\n",
       "      <td>2</td>\n",
       "      <td>5</td>\n",
       "      <td>2</td>\n",
       "      <td>1</td>\n",
       "      <td>2</td>\n",
       "      <td>...</td>\n",
       "      <td>2.0</td>\n",
       "      <td>2.0</td>\n",
       "      <td>2.0</td>\n",
       "      <td>0.0</td>\n",
       "      <td>1.0</td>\n",
       "      <td>3.0</td>\n",
       "      <td>4.0</td>\n",
       "      <td>2.0</td>\n",
       "      <td>3.0</td>\n",
       "      <td>3.0</td>\n",
       "    </tr>\n",
       "    <tr>\n",
       "      <th>4</th>\n",
       "      <td>-1</td>\n",
       "      <td>3</td>\n",
       "      <td>1</td>\n",
       "      <td>5.0</td>\n",
       "      <td>4</td>\n",
       "      <td>3</td>\n",
       "      <td>4</td>\n",
       "      <td>1</td>\n",
       "      <td>3</td>\n",
       "      <td>2</td>\n",
       "      <td>...</td>\n",
       "      <td>2.0</td>\n",
       "      <td>4.0</td>\n",
       "      <td>2.0</td>\n",
       "      <td>1.0</td>\n",
       "      <td>2.0</td>\n",
       "      <td>3.0</td>\n",
       "      <td>3.0</td>\n",
       "      <td>4.0</td>\n",
       "      <td>6.0</td>\n",
       "      <td>5.0</td>\n",
       "    </tr>\n",
       "  </tbody>\n",
       "</table>\n",
       "<p>5 rows × 85 columns</p>\n",
       "</div>"
      ],
      "text/plain": [
       "   AGER_TYP  ALTERSKATEGORIE_GROB  ANREDE_KZ  CJT_GESAMTTYP  \\\n",
       "0        -1                     2          1            2.0   \n",
       "1        -1                     1          2            5.0   \n",
       "2        -1                     3          2            3.0   \n",
       "3         2                     4          2            2.0   \n",
       "4        -1                     3          1            5.0   \n",
       "\n",
       "   FINANZ_MINIMALIST  FINANZ_SPARER  FINANZ_VORSORGER  FINANZ_ANLEGER  \\\n",
       "0                  3              4                 3               5   \n",
       "1                  1              5                 2               5   \n",
       "2                  1              4                 1               2   \n",
       "3                  4              2                 5               2   \n",
       "4                  4              3                 4               1   \n",
       "\n",
       "   FINANZ_UNAUFFAELLIGER  FINANZ_HAUSBAUER    ...     PLZ8_ANTG1  PLZ8_ANTG2  \\\n",
       "0                      5                 3    ...            NaN         NaN   \n",
       "1                      4                 5    ...            2.0         3.0   \n",
       "2                      3                 5    ...            3.0         3.0   \n",
       "3                      1                 2    ...            2.0         2.0   \n",
       "4                      3                 2    ...            2.0         4.0   \n",
       "\n",
       "   PLZ8_ANTG3  PLZ8_ANTG4  PLZ8_BAUMAX  PLZ8_HHZ  PLZ8_GBZ  ARBEIT  \\\n",
       "0         NaN         NaN          NaN       NaN       NaN     NaN   \n",
       "1         2.0         1.0          1.0       5.0       4.0     3.0   \n",
       "2         1.0         0.0          1.0       4.0       4.0     3.0   \n",
       "3         2.0         0.0          1.0       3.0       4.0     2.0   \n",
       "4         2.0         1.0          2.0       3.0       3.0     4.0   \n",
       "\n",
       "   ORTSGR_KLS9  RELAT_AB  \n",
       "0          NaN       NaN  \n",
       "1          5.0       4.0  \n",
       "2          5.0       2.0  \n",
       "3          3.0       3.0  \n",
       "4          6.0       5.0  \n",
       "\n",
       "[5 rows x 85 columns]"
      ]
     },
     "execution_count": 5,
     "metadata": {},
     "output_type": "execute_result"
    }
   ],
   "source": [
    "azdias.head()"
   ]
  },
  {
   "cell_type": "code",
   "execution_count": 6,
   "metadata": {},
   "outputs": [
    {
     "name": "stdout",
     "output_type": "stream",
     "text": [
      "<class 'pandas.core.frame.DataFrame'>\n",
      "RangeIndex: 891221 entries, 0 to 891220\n",
      "Data columns (total 85 columns):\n",
      "AGER_TYP                 891221 non-null int64\n",
      "ALTERSKATEGORIE_GROB     891221 non-null int64\n",
      "ANREDE_KZ                891221 non-null int64\n",
      "CJT_GESAMTTYP            886367 non-null float64\n",
      "FINANZ_MINIMALIST        891221 non-null int64\n",
      "FINANZ_SPARER            891221 non-null int64\n",
      "FINANZ_VORSORGER         891221 non-null int64\n",
      "FINANZ_ANLEGER           891221 non-null int64\n",
      "FINANZ_UNAUFFAELLIGER    891221 non-null int64\n",
      "FINANZ_HAUSBAUER         891221 non-null int64\n",
      "FINANZTYP                891221 non-null int64\n",
      "GEBURTSJAHR              891221 non-null int64\n",
      "GFK_URLAUBERTYP          886367 non-null float64\n",
      "GREEN_AVANTGARDE         891221 non-null int64\n",
      "HEALTH_TYP               891221 non-null int64\n",
      "LP_LEBENSPHASE_FEIN      886367 non-null float64\n",
      "LP_LEBENSPHASE_GROB      886367 non-null float64\n",
      "LP_FAMILIE_FEIN          886367 non-null float64\n",
      "LP_FAMILIE_GROB          886367 non-null float64\n",
      "LP_STATUS_FEIN           886367 non-null float64\n",
      "LP_STATUS_GROB           886367 non-null float64\n",
      "NATIONALITAET_KZ         891221 non-null int64\n",
      "PRAEGENDE_JUGENDJAHRE    891221 non-null int64\n",
      "RETOURTYP_BK_S           886367 non-null float64\n",
      "SEMIO_SOZ                891221 non-null int64\n",
      "SEMIO_FAM                891221 non-null int64\n",
      "SEMIO_REL                891221 non-null int64\n",
      "SEMIO_MAT                891221 non-null int64\n",
      "SEMIO_VERT               891221 non-null int64\n",
      "SEMIO_LUST               891221 non-null int64\n",
      "SEMIO_ERL                891221 non-null int64\n",
      "SEMIO_KULT               891221 non-null int64\n",
      "SEMIO_RAT                891221 non-null int64\n",
      "SEMIO_KRIT               891221 non-null int64\n",
      "SEMIO_DOM                891221 non-null int64\n",
      "SEMIO_KAEM               891221 non-null int64\n",
      "SEMIO_PFLICHT            891221 non-null int64\n",
      "SEMIO_TRADV              891221 non-null int64\n",
      "SHOPPER_TYP              891221 non-null int64\n",
      "SOHO_KZ                  817722 non-null float64\n",
      "TITEL_KZ                 817722 non-null float64\n",
      "VERS_TYP                 891221 non-null int64\n",
      "ZABEOTYP                 891221 non-null int64\n",
      "ALTER_HH                 817722 non-null float64\n",
      "ANZ_PERSONEN             817722 non-null float64\n",
      "ANZ_TITEL                817722 non-null float64\n",
      "HH_EINKOMMEN_SCORE       872873 non-null float64\n",
      "KK_KUNDENTYP             306609 non-null float64\n",
      "W_KEIT_KIND_HH           783619 non-null float64\n",
      "WOHNDAUER_2008           817722 non-null float64\n",
      "ANZ_HAUSHALTE_AKTIV      798073 non-null float64\n",
      "ANZ_HH_TITEL             794213 non-null float64\n",
      "GEBAEUDETYP              798073 non-null float64\n",
      "KONSUMNAEHE              817252 non-null float64\n",
      "MIN_GEBAEUDEJAHR         798073 non-null float64\n",
      "OST_WEST_KZ              798073 non-null object\n",
      "WOHNLAGE                 798073 non-null float64\n",
      "CAMEO_DEUG_2015          792242 non-null object\n",
      "CAMEO_DEU_2015           792242 non-null object\n",
      "CAMEO_INTL_2015          792242 non-null object\n",
      "KBA05_ANTG1              757897 non-null float64\n",
      "KBA05_ANTG2              757897 non-null float64\n",
      "KBA05_ANTG3              757897 non-null float64\n",
      "KBA05_ANTG4              757897 non-null float64\n",
      "KBA05_BAUMAX             757897 non-null float64\n",
      "KBA05_GBZ                757897 non-null float64\n",
      "BALLRAUM                 797481 non-null float64\n",
      "EWDICHTE                 797481 non-null float64\n",
      "INNENSTADT               797481 non-null float64\n",
      "GEBAEUDETYP_RASTER       798066 non-null float64\n",
      "KKK                      770025 non-null float64\n",
      "MOBI_REGIO               757897 non-null float64\n",
      "ONLINE_AFFINITAET        886367 non-null float64\n",
      "REGIOTYP                 770025 non-null float64\n",
      "KBA13_ANZAHL_PKW         785421 non-null float64\n",
      "PLZ8_ANTG1               774706 non-null float64\n",
      "PLZ8_ANTG2               774706 non-null float64\n",
      "PLZ8_ANTG3               774706 non-null float64\n",
      "PLZ8_ANTG4               774706 non-null float64\n",
      "PLZ8_BAUMAX              774706 non-null float64\n",
      "PLZ8_HHZ                 774706 non-null float64\n",
      "PLZ8_GBZ                 774706 non-null float64\n",
      "ARBEIT                   794005 non-null float64\n",
      "ORTSGR_KLS9              794005 non-null float64\n",
      "RELAT_AB                 794005 non-null float64\n",
      "dtypes: float64(49), int64(32), object(4)\n",
      "memory usage: 578.0+ MB\n"
     ]
    }
   ],
   "source": [
    "azdias.info()"
   ]
  },
  {
   "cell_type": "markdown",
   "metadata": {},
   "source": [
    "> **Tip**: Add additional cells to keep everything in reasonably-sized chunks! Keyboard shortcut `esc --> a` (press escape to enter command mode, then press the 'A' key) adds a new cell before the active cell, and `esc --> b` adds a new cell after the active cell. If you need to convert an active cell to a markdown cell, use `esc --> m` and to convert to a code cell, use `esc --> y`. \n",
    "\n",
    "## Step 1: Preprocessing\n",
    "\n",
    "### Step 1.1: Assess Missing Data\n",
    "\n",
    "The feature summary file contains a summary of properties for each demographics data column. You will use this file to help you make cleaning decisions during this stage of the project. First of all, you should assess the demographics data in terms of missing data. Pay attention to the following points as you perform your analysis, and take notes on what you observe. Make sure that you fill in the **Discussion** cell with your findings and decisions at the end of each step that has one!\n",
    "\n",
    "#### Step 1.1.1: Convert Missing Value Codes to NaNs\n",
    "The fourth column of the feature attributes summary (loaded in above as `feat_info`) documents the codes from the data dictionary that indicate missing or unknown data. While the file encodes this as a list (e.g. `[-1,0]`), this will get read in as a string object. You'll need to do a little bit of parsing to make use of it to identify and clean the data. Convert data that matches a 'missing' or 'unknown' value code into a numpy NaN value. You might want to see how much data takes on a 'missing' or 'unknown' code, and how much data is naturally missing, as a point of interest.\n",
    "\n",
    "**As one more reminder, you are encouraged to add additional cells to break up your analysis into manageable chunks.**"
   ]
  },
  {
   "cell_type": "code",
   "execution_count": 7,
   "metadata": {},
   "outputs": [],
   "source": [
    "# Identify missing or unknown data values and convert them to NaNs.\n",
    "azdias_dup = azdias.copy()\n",
    "\n",
    "for i, row in feat_info.iterrows():\n",
    "    column = feat_info['attribute'][i]\n",
    "    missing_unknown = feat_info['missing_or_unknown'][i]\n",
    "    options = missing_unknown.strip('][').split(',')\n",
    "    # Condition if there are no actual values in the missing_or_unknown field. \n",
    "    if options[0] != '':\n",
    "        j = 0\n",
    "        k = len(options)\n",
    "        while j < k:\n",
    "            # Determines the datatype of the current column in the azdias dataset so \n",
    "            # we can match it with the appropriate variable type of the value taken \n",
    "            # from the missing_or_unknown field. \n",
    "            if azdias_dup[column].dtype == 'object':\n",
    "                option_val = options[j]\n",
    "            elif azdias_dup[column].dtype == 'float64':\n",
    "                option_val = pd.to_numeric(options[j])\n",
    "            else:\n",
    "                option_val = int(options[j])\n",
    "            matches = azdias_dup[column] == option_val\n",
    "            azdias_dup.loc[matches, column] = np.NaN\n",
    "            j += 1"
   ]
  },
  {
   "cell_type": "markdown",
   "metadata": {},
   "source": [
    "References: For strip.split function info: https://www.geeksforgeeks.org/python-convert-a-string-representation-of-list-into-list/\n",
    "For the iterate rows function: https://statisticsglobe.com/iterate-through-rows-pandas-dataframe-python\n"
   ]
  },
  {
   "cell_type": "code",
   "execution_count": 8,
   "metadata": {},
   "outputs": [
    {
     "data": {
      "text/plain": [
       "1.0    254761\n",
       "2.0    207463\n",
       "3.0    190219\n",
       "0.0    127582\n",
       "Name: SHOPPER_TYP, dtype: int64"
      ]
     },
     "execution_count": 8,
     "metadata": {},
     "output_type": "execute_result"
    }
   ],
   "source": [
    "azdias_dup['SHOPPER_TYP'].value_counts()"
   ]
  },
  {
   "cell_type": "markdown",
   "metadata": {},
   "source": [
    "#### Step 1.1.2: Assess Missing Data in Each Column\n",
    "\n",
    "How much missing data is present in each column? There are a few columns that are outliers in terms of the proportion of values that are missing. You will want to use matplotlib's [`hist()`](https://matplotlib.org/api/_as_gen/matplotlib.pyplot.hist.html) function to visualize the distribution of missing value counts to find these columns. Identify and document these columns. While some of these columns might have justifications for keeping or re-encoding the data, for this project you should just remove them from the dataframe. (Feel free to make remarks about these outlier columns in the discussion, however!)\n",
    "\n",
    "For the remaining features, are there any patterns in which columns have, or share, missing data?"
   ]
  },
  {
   "cell_type": "code",
   "execution_count": 9,
   "metadata": {},
   "outputs": [
    {
     "data": {
      "text/plain": [
       "<function matplotlib.pyplot.show(*args, **kw)>"
      ]
     },
     "execution_count": 9,
     "metadata": {},
     "output_type": "execute_result"
    },
    {
     "data": {
      "image/png": "[encoded data removed]",
      "text/plain": [
       "<matplotlib.figure.Figure at 0x7fd38d799e10>"
      ]
     },
     "metadata": {
      "needs_background": "light"
     },
     "output_type": "display_data"
    }
   ],
   "source": [
    "# Perform an assessment of how much missing data there is in each column of the\n",
    "plt.hist(azdias_dup.isnull())\n",
    "plt.legend\n",
    "plt.show"
   ]
  },
  {
   "cell_type": "code",
   "execution_count": 10,
   "metadata": {},
   "outputs": [],
   "source": [
    "null_temp = pd.DataFrame(azdias_dup.isnull().sum())\n",
    "null_temp.columns = ['Null_Count']"
   ]
  },
  {
   "cell_type": "code",
   "execution_count": 11,
   "metadata": {},
   "outputs": [
    {
     "data": {
      "text/html": [
       "<div>\n",
       "<style scoped>\n",
       "    .dataframe tbody tr th:only-of-type {\n",
       "        vertical-align: middle;\n",
       "    }\n",
       "\n",
       "    .dataframe tbody tr th {\n",
       "        vertical-align: top;\n",
       "    }\n",
       "\n",
       "    .dataframe thead th {\n",
       "        text-align: right;\n",
       "    }\n",
       "</style>\n",
       "<table border=\"1\" class=\"dataframe\">\n",
       "  <thead>\n",
       "    <tr style=\"text-align: right;\">\n",
       "      <th></th>\n",
       "      <th>Null_Count</th>\n",
       "    </tr>\n",
       "  </thead>\n",
       "  <tbody>\n",
       "    <tr>\n",
       "      <th>AGER_TYP</th>\n",
       "      <td>685843</td>\n",
       "    </tr>\n",
       "    <tr>\n",
       "      <th>GEBURTSJAHR</th>\n",
       "      <td>392318</td>\n",
       "    </tr>\n",
       "    <tr>\n",
       "      <th>TITEL_KZ</th>\n",
       "      <td>889061</td>\n",
       "    </tr>\n",
       "    <tr>\n",
       "      <th>ALTER_HH</th>\n",
       "      <td>310267</td>\n",
       "    </tr>\n",
       "    <tr>\n",
       "      <th>KK_KUNDENTYP</th>\n",
       "      <td>584612</td>\n",
       "    </tr>\n",
       "    <tr>\n",
       "      <th>KBA05_BAUMAX</th>\n",
       "      <td>476524</td>\n",
       "    </tr>\n",
       "  </tbody>\n",
       "</table>\n",
       "</div>"
      ],
      "text/plain": [
       "              Null_Count\n",
       "AGER_TYP          685843\n",
       "GEBURTSJAHR       392318\n",
       "TITEL_KZ          889061\n",
       "ALTER_HH          310267\n",
       "KK_KUNDENTYP      584612\n",
       "KBA05_BAUMAX      476524"
      ]
     },
     "execution_count": 11,
     "metadata": {},
     "output_type": "execute_result"
    }
   ],
   "source": [
    "null_temp.query('Null_Count > 200000')"
   ]
  },
  {
   "cell_type": "code",
   "execution_count": 12,
   "metadata": {},
   "outputs": [
    {
     "data": {
      "text/plain": [
       "2.0    98472\n",
       "1.0    79802\n",
       "3.0    27104\n",
       "Name: AGER_TYP, dtype: int64"
      ]
     },
     "execution_count": 12,
     "metadata": {},
     "output_type": "execute_result"
    }
   ],
   "source": [
    "# Investigate patterns in the amount of missing data in each column.\n",
    "azdias_dup['AGER_TYP'].value_counts()"
   ]
  },
  {
   "cell_type": "code",
   "execution_count": 13,
   "metadata": {},
   "outputs": [
    {
     "data": {
      "text/plain": [
       "1967.0    11183\n",
       "1965.0    11090\n",
       "1966.0    10933\n",
       "1970.0    10883\n",
       "1964.0    10799\n",
       "1968.0    10792\n",
       "1963.0    10513\n",
       "1969.0    10360\n",
       "1980.0    10275\n",
       "1962.0    10082\n",
       "1961.0     9880\n",
       "1971.0     9786\n",
       "1982.0     9516\n",
       "1978.0     9509\n",
       "1960.0     9492\n",
       "1979.0     9422\n",
       "1981.0     9374\n",
       "1977.0     9296\n",
       "1959.0     9098\n",
       "1972.0     9027\n",
       "1976.0     9005\n",
       "1983.0     8887\n",
       "1974.0     8676\n",
       "1984.0     8553\n",
       "1975.0     8480\n",
       "1973.0     8356\n",
       "1958.0     8323\n",
       "1986.0     8192\n",
       "1985.0     8180\n",
       "1957.0     8099\n",
       "          ...  \n",
       "2009.0      559\n",
       "2008.0      550\n",
       "2010.0      545\n",
       "2011.0      485\n",
       "1923.0      468\n",
       "2013.0      380\n",
       "1922.0      375\n",
       "1921.0      355\n",
       "2015.0      257\n",
       "1920.0      238\n",
       "1919.0      194\n",
       "2016.0      167\n",
       "2014.0      124\n",
       "1918.0       85\n",
       "1917.0       55\n",
       "1914.0       55\n",
       "1916.0       45\n",
       "1910.0       41\n",
       "1913.0       39\n",
       "1915.0       37\n",
       "1911.0       30\n",
       "1912.0       28\n",
       "1905.0        8\n",
       "1909.0        7\n",
       "1908.0        7\n",
       "1906.0        7\n",
       "1904.0        5\n",
       "1907.0        4\n",
       "1900.0        4\n",
       "1902.0        1\n",
       "Name: GEBURTSJAHR, Length: 116, dtype: int64"
      ]
     },
     "execution_count": 13,
     "metadata": {},
     "output_type": "execute_result"
    }
   ],
   "source": [
    "azdias_dup['GEBURTSJAHR'].value_counts()"
   ]
  },
  {
   "cell_type": "code",
   "execution_count": 14,
   "metadata": {},
   "outputs": [
    {
     "data": {
      "text/plain": [
       "1.0    1947\n",
       "5.0     104\n",
       "4.0      57\n",
       "3.0      49\n",
       "2.0       3\n",
       "Name: TITEL_KZ, dtype: int64"
      ]
     },
     "execution_count": 14,
     "metadata": {},
     "output_type": "execute_result"
    }
   ],
   "source": [
    "azdias_dup['TITEL_KZ'].value_counts()"
   ]
  },
  {
   "cell_type": "code",
   "execution_count": 15,
   "metadata": {},
   "outputs": [
    {
     "data": {
      "text/plain": [
       "18.0    60852\n",
       "17.0    55665\n",
       "19.0    52890\n",
       "15.0    51867\n",
       "16.0    51857\n",
       "14.0    44275\n",
       "21.0    41610\n",
       "20.0    40671\n",
       "13.0    37612\n",
       "12.0    34923\n",
       "10.0    30419\n",
       "11.0    27924\n",
       "9.0     22817\n",
       "8.0     13463\n",
       "7.0      8419\n",
       "6.0      3809\n",
       "5.0      1030\n",
       "4.0       603\n",
       "3.0       200\n",
       "2.0        47\n",
       "1.0         1\n",
       "Name: ALTER_HH, dtype: int64"
      ]
     },
     "execution_count": 15,
     "metadata": {},
     "output_type": "execute_result"
    }
   ],
   "source": [
    "azdias_dup['ALTER_HH'].value_counts()"
   ]
  },
  {
   "cell_type": "code",
   "execution_count": 16,
   "metadata": {},
   "outputs": [
    {
     "data": {
      "text/plain": [
       "3.0    65151\n",
       "2.0    62564\n",
       "5.0    48038\n",
       "4.0    44512\n",
       "6.0    44114\n",
       "1.0    42230\n",
       "Name: KK_KUNDENTYP, dtype: int64"
      ]
     },
     "execution_count": 16,
     "metadata": {},
     "output_type": "execute_result"
    }
   ],
   "source": [
    "azdias_dup['KK_KUNDENTYP'].value_counts()"
   ]
  },
  {
   "cell_type": "code",
   "execution_count": 17,
   "metadata": {},
   "outputs": [
    {
     "data": {
      "text/plain": [
       "1.0    208417\n",
       "5.0     98923\n",
       "3.0     59955\n",
       "4.0     37718\n",
       "2.0      9684\n",
       "Name: KBA05_BAUMAX, dtype: int64"
      ]
     },
     "execution_count": 17,
     "metadata": {},
     "output_type": "execute_result"
    }
   ],
   "source": [
    "azdias_dup['KBA05_BAUMAX'].value_counts()"
   ]
  },
  {
   "cell_type": "code",
   "execution_count": 18,
   "metadata": {},
   "outputs": [
    {
     "name": "stdout",
     "output_type": "stream",
     "text": [
      "<class 'pandas.core.frame.DataFrame'>\n",
      "RangeIndex: 891221 entries, 0 to 891220\n",
      "Data columns (total 79 columns):\n",
      "ALTERSKATEGORIE_GROB     888340 non-null float64\n",
      "ANREDE_KZ                891221 non-null float64\n",
      "CJT_GESAMTTYP            886367 non-null float64\n",
      "FINANZ_MINIMALIST        891221 non-null float64\n",
      "FINANZ_SPARER            891221 non-null float64\n",
      "FINANZ_VORSORGER         891221 non-null float64\n",
      "FINANZ_ANLEGER           891221 non-null float64\n",
      "FINANZ_UNAUFFAELLIGER    891221 non-null float64\n",
      "FINANZ_HAUSBAUER         891221 non-null float64\n",
      "FINANZTYP                891221 non-null float64\n",
      "GFK_URLAUBERTYP          886367 non-null float64\n",
      "GREEN_AVANTGARDE         891221 non-null int64\n",
      "HEALTH_TYP               780025 non-null float64\n",
      "LP_LEBENSPHASE_FEIN      793589 non-null float64\n",
      "LP_LEBENSPHASE_GROB      796649 non-null float64\n",
      "LP_FAMILIE_FEIN          813429 non-null float64\n",
      "LP_FAMILIE_GROB          813429 non-null float64\n",
      "LP_STATUS_FEIN           886367 non-null float64\n",
      "LP_STATUS_GROB           886367 non-null float64\n",
      "NATIONALITAET_KZ         782906 non-null float64\n",
      "PRAEGENDE_JUGENDJAHRE    783057 non-null float64\n",
      "RETOURTYP_BK_S           886367 non-null float64\n",
      "SEMIO_SOZ                891221 non-null float64\n",
      "SEMIO_FAM                891221 non-null float64\n",
      "SEMIO_REL                891221 non-null float64\n",
      "SEMIO_MAT                891221 non-null float64\n",
      "SEMIO_VERT               891221 non-null float64\n",
      "SEMIO_LUST               891221 non-null float64\n",
      "SEMIO_ERL                891221 non-null float64\n",
      "SEMIO_KULT               891221 non-null float64\n",
      "SEMIO_RAT                891221 non-null float64\n",
      "SEMIO_KRIT               891221 non-null float64\n",
      "SEMIO_DOM                891221 non-null float64\n",
      "SEMIO_KAEM               891221 non-null float64\n",
      "SEMIO_PFLICHT            891221 non-null float64\n",
      "SEMIO_TRADV              891221 non-null float64\n",
      "SHOPPER_TYP              780025 non-null float64\n",
      "SOHO_KZ                  817722 non-null float64\n",
      "VERS_TYP                 780025 non-null float64\n",
      "ZABEOTYP                 891221 non-null float64\n",
      "ANZ_PERSONEN             817722 non-null float64\n",
      "ANZ_TITEL                817722 non-null float64\n",
      "HH_EINKOMMEN_SCORE       872873 non-null float64\n",
      "W_KEIT_KIND_HH           743233 non-null float64\n",
      "WOHNDAUER_2008           817722 non-null float64\n",
      "ANZ_HAUSHALTE_AKTIV      791610 non-null float64\n",
      "ANZ_HH_TITEL             794213 non-null float64\n",
      "GEBAEUDETYP              798073 non-null float64\n",
      "KONSUMNAEHE              817252 non-null float64\n",
      "MIN_GEBAEUDEJAHR         798073 non-null float64\n",
      "OST_WEST_KZ              798073 non-null object\n",
      "WOHNLAGE                 798073 non-null float64\n",
      "CAMEO_DEUG_2015          791869 non-null object\n",
      "CAMEO_DEU_2015           791869 non-null object\n",
      "CAMEO_INTL_2015          791869 non-null object\n",
      "KBA05_ANTG1              757897 non-null float64\n",
      "KBA05_ANTG2              757897 non-null float64\n",
      "KBA05_ANTG3              757897 non-null float64\n",
      "KBA05_ANTG4              757897 non-null float64\n",
      "KBA05_GBZ                757897 non-null float64\n",
      "BALLRAUM                 797481 non-null float64\n",
      "EWDICHTE                 797481 non-null float64\n",
      "INNENSTADT               797481 non-null float64\n",
      "GEBAEUDETYP_RASTER       798066 non-null float64\n",
      "KKK                      733157 non-null float64\n",
      "MOBI_REGIO               757897 non-null float64\n",
      "ONLINE_AFFINITAET        886367 non-null float64\n",
      "REGIOTYP                 733157 non-null float64\n",
      "KBA13_ANZAHL_PKW         785421 non-null float64\n",
      "PLZ8_ANTG1               774706 non-null float64\n",
      "PLZ8_ANTG2               774706 non-null float64\n",
      "PLZ8_ANTG3               774706 non-null float64\n",
      "PLZ8_ANTG4               774706 non-null float64\n",
      "PLZ8_BAUMAX              774706 non-null float64\n",
      "PLZ8_HHZ                 774706 non-null float64\n",
      "PLZ8_GBZ                 774706 non-null float64\n",
      "ARBEIT                   793846 non-null float64\n",
      "ORTSGR_KLS9              793947 non-null float64\n",
      "RELAT_AB                 793846 non-null float64\n",
      "dtypes: float64(74), int64(1), object(4)\n",
      "memory usage: 537.2+ MB\n"
     ]
    }
   ],
   "source": [
    "# Remove the outlier columns from the dataset. (You'll perform other data\n",
    "# engineering tasks such as re-encoding and imputation later.)\n",
    "# azdias_dup.drop(['AGER_TYP', 'GEBURTSJAHR', 'TITEL_KZ', 'ALTER_HH', 'KK_KUNDENTYP', 'KBA05_BAUMAX'], axis=1)\n",
    "azdias_dup.pop('AGER_TYP')\n",
    "azdias_dup.pop('GEBURTSJAHR')\n",
    "azdias_dup.pop('TITEL_KZ')\n",
    "azdias_dup.pop('ALTER_HH')\n",
    "azdias_dup.pop('KK_KUNDENTYP')\n",
    "azdias_dup.pop('KBA05_BAUMAX')\n",
    "azdias_dup.info()"
   ]
  },
  {
   "cell_type": "markdown",
   "metadata": {},
   "source": [
    "#### Discussion 1.1.2: Assess Missing Data in Each Column\n",
    "\n",
    "Out of all the columns that had null values there were 6 of them that made up the overwhelming majority listed below: \n",
    "\n",
    "AGER_TYP = Best Age Typology <br>\n",
    "GEBURTSJAHR = Year of Birth <br>\n",
    "TITEL_KZ = Academic Title <br>\n",
    "ALTER_HH = Birthdate of head of household <br>\n",
    "KK_KUNDENTYP = Consumer pattern over past 12 months <br>\n",
    "KBA05_BAUMAX = Most common building type w/in a microcell <br>\n",
    "\n",
    "Since these columns were the biggest outliers, they were removed from the dataset. For the remainder of the columns they were pretty consistently filled in with some being better than others but overall there should be enough information available to use them. Most of the categories were pretty consistent as well in terms of having the same amount of null values. For example all the Financial and Personality columns had the same number of null values."
   ]
  },
  {
   "cell_type": "markdown",
   "metadata": {},
   "source": [
    "#### Step 1.1.3: Assess Missing Data in Each Row\n",
    "\n",
    "Now, you'll perform a similar assessment for the rows of the dataset. How much data is missing in each row? As with the columns, you should see some groups of points that have a very different numbers of missing values. Divide the data into two subsets: one for data points that are above some threshold for missing values, and a second subset for points below that threshold.\n",
    "\n",
    "In order to know what to do with the outlier rows, we should see if the distribution of data values on columns that are not missing data (or are missing very little data) are similar or different between the two groups. Select at least five of these columns and compare the distribution of values.\n",
    "- You can use seaborn's [`countplot()`](https://seaborn.pydata.org/generated/seaborn.countplot.html) function to create a bar chart of code frequencies and matplotlib's [`subplot()`](https://matplotlib.org/api/_as_gen/matplotlib.pyplot.subplot.html) function to put bar charts for the two subplots side by side.\n",
    "- To reduce repeated code, you might want to write a function that can perform this comparison, taking as one of its arguments a column to be compared.\n",
    "\n",
    "Depending on what you observe in your comparison, this will have implications on how you approach your conclusions later in the analysis. If the distributions of non-missing features look similar between the data with many missing values and the data with few or no missing values, then we could argue that simply dropping those points from the analysis won't present a major issue. On the other hand, if the data with many missing values looks very different from the data with few or no missing values, then we should make a note on those data as special. We'll revisit these data later on. **Either way, you should continue your analysis for now using just the subset of the data with few or no missing values.**"
   ]
  },
  {
   "cell_type": "code",
   "execution_count": 19,
   "metadata": {},
   "outputs": [
    {
     "data": {
      "text/html": [
       "<div>\n",
       "<style scoped>\n",
       "    .dataframe tbody tr th:only-of-type {\n",
       "        vertical-align: middle;\n",
       "    }\n",
       "\n",
       "    .dataframe tbody tr th {\n",
       "        vertical-align: top;\n",
       "    }\n",
       "\n",
       "    .dataframe thead th {\n",
       "        text-align: right;\n",
       "    }\n",
       "</style>\n",
       "<table border=\"1\" class=\"dataframe\">\n",
       "  <thead>\n",
       "    <tr style=\"text-align: right;\">\n",
       "      <th></th>\n",
       "      <th>null_count</th>\n",
       "    </tr>\n",
       "  </thead>\n",
       "  <tbody>\n",
       "    <tr>\n",
       "      <th>0</th>\n",
       "      <td>43</td>\n",
       "    </tr>\n",
       "    <tr>\n",
       "      <th>1</th>\n",
       "      <td>0</td>\n",
       "    </tr>\n",
       "    <tr>\n",
       "      <th>2</th>\n",
       "      <td>0</td>\n",
       "    </tr>\n",
       "    <tr>\n",
       "      <th>3</th>\n",
       "      <td>7</td>\n",
       "    </tr>\n",
       "    <tr>\n",
       "      <th>4</th>\n",
       "      <td>0</td>\n",
       "    </tr>\n",
       "  </tbody>\n",
       "</table>\n",
       "</div>"
      ],
      "text/plain": [
       "   null_count\n",
       "0          43\n",
       "1           0\n",
       "2           0\n",
       "3           7\n",
       "4           0"
      ]
     },
     "execution_count": 19,
     "metadata": {},
     "output_type": "execute_result"
    }
   ],
   "source": [
    "# How much data is missing in each row of the dataset?\n",
    "null_df = pd.DataFrame(azdias_dup.isnull().sum(axis=1))\n",
    "null_df.columns = ['null_count']\n",
    "null_df.head()"
   ]
  },
  {
   "cell_type": "code",
   "execution_count": 20,
   "metadata": {},
   "outputs": [
    {
     "data": {
      "text/html": [
       "<div>\n",
       "<style scoped>\n",
       "    .dataframe tbody tr th:only-of-type {\n",
       "        vertical-align: middle;\n",
       "    }\n",
       "\n",
       "    .dataframe tbody tr th {\n",
       "        vertical-align: top;\n",
       "    }\n",
       "\n",
       "    .dataframe thead th {\n",
       "        text-align: right;\n",
       "    }\n",
       "</style>\n",
       "<table border=\"1\" class=\"dataframe\">\n",
       "  <thead>\n",
       "    <tr style=\"text-align: right;\">\n",
       "      <th></th>\n",
       "      <th>null_count</th>\n",
       "    </tr>\n",
       "  </thead>\n",
       "  <tbody>\n",
       "    <tr>\n",
       "      <th>count</th>\n",
       "      <td>891221.000000</td>\n",
       "    </tr>\n",
       "    <tr>\n",
       "      <th>mean</th>\n",
       "      <td>5.649894</td>\n",
       "    </tr>\n",
       "    <tr>\n",
       "      <th>std</th>\n",
       "      <td>13.234687</td>\n",
       "    </tr>\n",
       "    <tr>\n",
       "      <th>min</th>\n",
       "      <td>0.000000</td>\n",
       "    </tr>\n",
       "    <tr>\n",
       "      <th>25%</th>\n",
       "      <td>0.000000</td>\n",
       "    </tr>\n",
       "    <tr>\n",
       "      <th>50%</th>\n",
       "      <td>0.000000</td>\n",
       "    </tr>\n",
       "    <tr>\n",
       "      <th>75%</th>\n",
       "      <td>3.000000</td>\n",
       "    </tr>\n",
       "    <tr>\n",
       "      <th>max</th>\n",
       "      <td>49.000000</td>\n",
       "    </tr>\n",
       "  </tbody>\n",
       "</table>\n",
       "</div>"
      ],
      "text/plain": [
       "          null_count\n",
       "count  891221.000000\n",
       "mean        5.649894\n",
       "std        13.234687\n",
       "min         0.000000\n",
       "25%         0.000000\n",
       "50%         0.000000\n",
       "75%         3.000000\n",
       "max        49.000000"
      ]
     },
     "execution_count": 20,
     "metadata": {},
     "output_type": "execute_result"
    }
   ],
   "source": [
    "null_df.describe()"
   ]
  },
  {
   "cell_type": "code",
   "execution_count": 21,
   "metadata": {},
   "outputs": [
    {
     "data": {
      "image/png": "[encoded data removed]",
      "text/plain": [
       "<matplotlib.figure.Figure at 0x7fd38a940898>"
      ]
     },
     "metadata": {
      "needs_background": "light"
     },
     "output_type": "display_data"
    }
   ],
   "source": [
    "null_df['null_count'].value_counts()\n",
    "plt.hist(null_df, bins = 50)\n",
    "plt.rcParams[\"figure.figsize\"] = (20,7)\n",
    "plt.show()"
   ]
  },
  {
   "cell_type": "code",
   "execution_count": 22,
   "metadata": {},
   "outputs": [
    {
     "name": "stdout",
     "output_type": "stream",
     "text": [
      "<class 'pandas.core.frame.DataFrame'>\n",
      "RangeIndex: 891221 entries, 0 to 891220\n",
      "Data columns (total 80 columns):\n",
      "ALTERSKATEGORIE_GROB     888340 non-null float64\n",
      "ANREDE_KZ                891221 non-null float64\n",
      "CJT_GESAMTTYP            886367 non-null float64\n",
      "FINANZ_MINIMALIST        891221 non-null float64\n",
      "FINANZ_SPARER            891221 non-null float64\n",
      "FINANZ_VORSORGER         891221 non-null float64\n",
      "FINANZ_ANLEGER           891221 non-null float64\n",
      "FINANZ_UNAUFFAELLIGER    891221 non-null float64\n",
      "FINANZ_HAUSBAUER         891221 non-null float64\n",
      "FINANZTYP                891221 non-null float64\n",
      "GFK_URLAUBERTYP          886367 non-null float64\n",
      "GREEN_AVANTGARDE         891221 non-null int64\n",
      "HEALTH_TYP               780025 non-null float64\n",
      "LP_LEBENSPHASE_FEIN      793589 non-null float64\n",
      "LP_LEBENSPHASE_GROB      796649 non-null float64\n",
      "LP_FAMILIE_FEIN          813429 non-null float64\n",
      "LP_FAMILIE_GROB          813429 non-null float64\n",
      "LP_STATUS_FEIN           886367 non-null float64\n",
      "LP_STATUS_GROB           886367 non-null float64\n",
      "NATIONALITAET_KZ         782906 non-null float64\n",
      "PRAEGENDE_JUGENDJAHRE    783057 non-null float64\n",
      "RETOURTYP_BK_S           886367 non-null float64\n",
      "SEMIO_SOZ                891221 non-null float64\n",
      "SEMIO_FAM                891221 non-null float64\n",
      "SEMIO_REL                891221 non-null float64\n",
      "SEMIO_MAT                891221 non-null float64\n",
      "SEMIO_VERT               891221 non-null float64\n",
      "SEMIO_LUST               891221 non-null float64\n",
      "SEMIO_ERL                891221 non-null float64\n",
      "SEMIO_KULT               891221 non-null float64\n",
      "SEMIO_RAT                891221 non-null float64\n",
      "SEMIO_KRIT               891221 non-null float64\n",
      "SEMIO_DOM                891221 non-null float64\n",
      "SEMIO_KAEM               891221 non-null float64\n",
      "SEMIO_PFLICHT            891221 non-null float64\n",
      "SEMIO_TRADV              891221 non-null float64\n",
      "SHOPPER_TYP              780025 non-null float64\n",
      "SOHO_KZ                  817722 non-null float64\n",
      "VERS_TYP                 780025 non-null float64\n",
      "ZABEOTYP                 891221 non-null float64\n",
      "ANZ_PERSONEN             817722 non-null float64\n",
      "ANZ_TITEL                817722 non-null float64\n",
      "HH_EINKOMMEN_SCORE       872873 non-null float64\n",
      "W_KEIT_KIND_HH           743233 non-null float64\n",
      "WOHNDAUER_2008           817722 non-null float64\n",
      "ANZ_HAUSHALTE_AKTIV      791610 non-null float64\n",
      "ANZ_HH_TITEL             794213 non-null float64\n",
      "GEBAEUDETYP              798073 non-null float64\n",
      "KONSUMNAEHE              817252 non-null float64\n",
      "MIN_GEBAEUDEJAHR         798073 non-null float64\n",
      "OST_WEST_KZ              798073 non-null object\n",
      "WOHNLAGE                 798073 non-null float64\n",
      "CAMEO_DEUG_2015          791869 non-null object\n",
      "CAMEO_DEU_2015           791869 non-null object\n",
      "CAMEO_INTL_2015          791869 non-null object\n",
      "KBA05_ANTG1              757897 non-null float64\n",
      "KBA05_ANTG2              757897 non-null float64\n",
      "KBA05_ANTG3              757897 non-null float64\n",
      "KBA05_ANTG4              757897 non-null float64\n",
      "KBA05_GBZ                757897 non-null float64\n",
      "BALLRAUM                 797481 non-null float64\n",
      "EWDICHTE                 797481 non-null float64\n",
      "INNENSTADT               797481 non-null float64\n",
      "GEBAEUDETYP_RASTER       798066 non-null float64\n",
      "KKK                      733157 non-null float64\n",
      "MOBI_REGIO               757897 non-null float64\n",
      "ONLINE_AFFINITAET        886367 non-null float64\n",
      "REGIOTYP                 733157 non-null float64\n",
      "KBA13_ANZAHL_PKW         785421 non-null float64\n",
      "PLZ8_ANTG1               774706 non-null float64\n",
      "PLZ8_ANTG2               774706 non-null float64\n",
      "PLZ8_ANTG3               774706 non-null float64\n",
      "PLZ8_ANTG4               774706 non-null float64\n",
      "PLZ8_BAUMAX              774706 non-null float64\n",
      "PLZ8_HHZ                 774706 non-null float64\n",
      "PLZ8_GBZ                 774706 non-null float64\n",
      "ARBEIT                   793846 non-null float64\n",
      "ORTSGR_KLS9              793947 non-null float64\n",
      "RELAT_AB                 793846 non-null float64\n",
      "null_count               891221 non-null int64\n",
      "dtypes: float64(74), int64(2), object(4)\n",
      "memory usage: 544.0+ MB\n"
     ]
    }
   ],
   "source": [
    "# Write code to divide the data into two subsets based on the number of missing\n",
    "# values in each row.\n",
    "azdias_dup = pd.concat([azdias_dup, null_df], axis=1, join='inner')\n",
    "azdias_dup.info()\n",
    "\n",
    "# Reference: For concat function with dataframes: https://www.geeksforgeeks.org/how-to-combine-two-dataframe-in-python-pandas/"
   ]
  },
  {
   "cell_type": "code",
   "execution_count": 23,
   "metadata": {},
   "outputs": [
    {
     "name": "stdout",
     "output_type": "stream",
     "text": [
      "<class 'pandas.core.frame.DataFrame'>\n",
      "Int64Index: 797426 entries, 1 to 891220\n",
      "Data columns (total 80 columns):\n",
      "ALTERSKATEGORIE_GROB     794642 non-null float64\n",
      "ANREDE_KZ                797426 non-null float64\n",
      "CJT_GESAMTTYP            792792 non-null float64\n",
      "FINANZ_MINIMALIST        797426 non-null float64\n",
      "FINANZ_SPARER            797426 non-null float64\n",
      "FINANZ_VORSORGER         797426 non-null float64\n",
      "FINANZ_ANLEGER           797426 non-null float64\n",
      "FINANZ_UNAUFFAELLIGER    797426 non-null float64\n",
      "FINANZ_HAUSBAUER         797426 non-null float64\n",
      "FINANZTYP                797426 non-null float64\n",
      "GFK_URLAUBERTYP          792792 non-null float64\n",
      "GREEN_AVANTGARDE         797426 non-null int64\n",
      "HEALTH_TYP               761009 non-null float64\n",
      "LP_LEBENSPHASE_FEIN      747775 non-null float64\n",
      "LP_LEBENSPHASE_GROB      750596 non-null float64\n",
      "LP_FAMILIE_FEIN          766305 non-null float64\n",
      "LP_FAMILIE_GROB          766305 non-null float64\n",
      "LP_STATUS_FEIN           792792 non-null float64\n",
      "LP_STATUS_GROB           792792 non-null float64\n",
      "NATIONALITAET_KZ         763793 non-null float64\n",
      "PRAEGENDE_JUGENDJAHRE    768968 non-null float64\n",
      "RETOURTYP_BK_S           792792 non-null float64\n",
      "SEMIO_SOZ                797426 non-null float64\n",
      "SEMIO_FAM                797426 non-null float64\n",
      "SEMIO_REL                797426 non-null float64\n",
      "SEMIO_MAT                797426 non-null float64\n",
      "SEMIO_VERT               797426 non-null float64\n",
      "SEMIO_LUST               797426 non-null float64\n",
      "SEMIO_ERL                797426 non-null float64\n",
      "SEMIO_KULT               797426 non-null float64\n",
      "SEMIO_RAT                797426 non-null float64\n",
      "SEMIO_KRIT               797426 non-null float64\n",
      "SEMIO_DOM                797426 non-null float64\n",
      "SEMIO_KAEM               797426 non-null float64\n",
      "SEMIO_PFLICHT            797426 non-null float64\n",
      "SEMIO_TRADV              797426 non-null float64\n",
      "SHOPPER_TYP              761009 non-null float64\n",
      "SOHO_KZ                  797426 non-null float64\n",
      "VERS_TYP                 761009 non-null float64\n",
      "ZABEOTYP                 797426 non-null float64\n",
      "ANZ_PERSONEN             797426 non-null float64\n",
      "ANZ_TITEL                797426 non-null float64\n",
      "HH_EINKOMMEN_SCORE       797426 non-null float64\n",
      "W_KEIT_KIND_HH           738526 non-null float64\n",
      "WOHNDAUER_2008           797426 non-null float64\n",
      "ANZ_HAUSHALTE_AKTIV      791096 non-null float64\n",
      "ANZ_HH_TITEL             793698 non-null float64\n",
      "GEBAEUDETYP              797426 non-null float64\n",
      "KONSUMNAEHE              797358 non-null float64\n",
      "MIN_GEBAEUDEJAHR         797426 non-null float64\n",
      "OST_WEST_KZ              797426 non-null object\n",
      "WOHNLAGE                 797426 non-null float64\n",
      "CAMEO_DEUG_2015          791423 non-null object\n",
      "CAMEO_DEU_2015           791423 non-null object\n",
      "CAMEO_INTL_2015          791423 non-null object\n",
      "KBA05_ANTG1              757890 non-null float64\n",
      "KBA05_ANTG2              757890 non-null float64\n",
      "KBA05_ANTG3              757890 non-null float64\n",
      "KBA05_ANTG4              757890 non-null float64\n",
      "KBA05_GBZ                757890 non-null float64\n",
      "BALLRAUM                 796835 non-null float64\n",
      "EWDICHTE                 796835 non-null float64\n",
      "INNENSTADT               796835 non-null float64\n",
      "GEBAEUDETYP_RASTER       797421 non-null float64\n",
      "KKK                      732993 non-null float64\n",
      "MOBI_REGIO               757890 non-null float64\n",
      "ONLINE_AFFINITAET        792792 non-null float64\n",
      "REGIOTYP                 732993 non-null float64\n",
      "KBA13_ANZAHL_PKW         785169 non-null float64\n",
      "PLZ8_ANTG1               774697 non-null float64\n",
      "PLZ8_ANTG2               774697 non-null float64\n",
      "PLZ8_ANTG3               774697 non-null float64\n",
      "PLZ8_ANTG4               774697 non-null float64\n",
      "PLZ8_BAUMAX              774697 non-null float64\n",
      "PLZ8_HHZ                 774697 non-null float64\n",
      "PLZ8_GBZ                 774697 non-null float64\n",
      "ARBEIT                   793208 non-null float64\n",
      "ORTSGR_KLS9              793308 non-null float64\n",
      "RELAT_AB                 793208 non-null float64\n",
      "null_count               797426 non-null int64\n",
      "dtypes: float64(74), int64(2), object(4)\n",
      "memory usage: 492.8+ MB\n"
     ]
    }
   ],
   "source": [
    "# Will break the datasets up between no null and values with nulls.\n",
    "azdias_under = azdias_dup.query('null_count <= 20')\n",
    "azdias_under.info()"
   ]
  },
  {
   "cell_type": "code",
   "execution_count": 24,
   "metadata": {},
   "outputs": [
    {
     "name": "stdout",
     "output_type": "stream",
     "text": [
      "<class 'pandas.core.frame.DataFrame'>\n",
      "Int64Index: 93795 entries, 0 to 891187\n",
      "Data columns (total 80 columns):\n",
      "ALTERSKATEGORIE_GROB     93698 non-null float64\n",
      "ANREDE_KZ                93795 non-null float64\n",
      "CJT_GESAMTTYP            93575 non-null float64\n",
      "FINANZ_MINIMALIST        93795 non-null float64\n",
      "FINANZ_SPARER            93795 non-null float64\n",
      "FINANZ_VORSORGER         93795 non-null float64\n",
      "FINANZ_ANLEGER           93795 non-null float64\n",
      "FINANZ_UNAUFFAELLIGER    93795 non-null float64\n",
      "FINANZ_HAUSBAUER         93795 non-null float64\n",
      "FINANZTYP                93795 non-null float64\n",
      "GFK_URLAUBERTYP          93575 non-null float64\n",
      "GREEN_AVANTGARDE         93795 non-null int64\n",
      "HEALTH_TYP               19016 non-null float64\n",
      "LP_LEBENSPHASE_FEIN      45814 non-null float64\n",
      "LP_LEBENSPHASE_GROB      46053 non-null float64\n",
      "LP_FAMILIE_FEIN          47124 non-null float64\n",
      "LP_FAMILIE_GROB          47124 non-null float64\n",
      "LP_STATUS_FEIN           93575 non-null float64\n",
      "LP_STATUS_GROB           93575 non-null float64\n",
      "NATIONALITAET_KZ         19113 non-null float64\n",
      "PRAEGENDE_JUGENDJAHRE    14089 non-null float64\n",
      "RETOURTYP_BK_S           93575 non-null float64\n",
      "SEMIO_SOZ                93795 non-null float64\n",
      "SEMIO_FAM                93795 non-null float64\n",
      "SEMIO_REL                93795 non-null float64\n",
      "SEMIO_MAT                93795 non-null float64\n",
      "SEMIO_VERT               93795 non-null float64\n",
      "SEMIO_LUST               93795 non-null float64\n",
      "SEMIO_ERL                93795 non-null float64\n",
      "SEMIO_KULT               93795 non-null float64\n",
      "SEMIO_RAT                93795 non-null float64\n",
      "SEMIO_KRIT               93795 non-null float64\n",
      "SEMIO_DOM                93795 non-null float64\n",
      "SEMIO_KAEM               93795 non-null float64\n",
      "SEMIO_PFLICHT            93795 non-null float64\n",
      "SEMIO_TRADV              93795 non-null float64\n",
      "SHOPPER_TYP              19016 non-null float64\n",
      "SOHO_KZ                  20296 non-null float64\n",
      "VERS_TYP                 19016 non-null float64\n",
      "ZABEOTYP                 93795 non-null float64\n",
      "ANZ_PERSONEN             20296 non-null float64\n",
      "ANZ_TITEL                20296 non-null float64\n",
      "HH_EINKOMMEN_SCORE       75447 non-null float64\n",
      "W_KEIT_KIND_HH           4707 non-null float64\n",
      "WOHNDAUER_2008           20296 non-null float64\n",
      "ANZ_HAUSHALTE_AKTIV      514 non-null float64\n",
      "ANZ_HH_TITEL             515 non-null float64\n",
      "GEBAEUDETYP              647 non-null float64\n",
      "KONSUMNAEHE              19894 non-null float64\n",
      "MIN_GEBAEUDEJAHR         647 non-null float64\n",
      "OST_WEST_KZ              647 non-null object\n",
      "WOHNLAGE                 647 non-null float64\n",
      "CAMEO_DEUG_2015          446 non-null object\n",
      "CAMEO_DEU_2015           446 non-null object\n",
      "CAMEO_INTL_2015          446 non-null object\n",
      "KBA05_ANTG1              7 non-null float64\n",
      "KBA05_ANTG2              7 non-null float64\n",
      "KBA05_ANTG3              7 non-null float64\n",
      "KBA05_ANTG4              7 non-null float64\n",
      "KBA05_GBZ                7 non-null float64\n",
      "BALLRAUM                 646 non-null float64\n",
      "EWDICHTE                 646 non-null float64\n",
      "INNENSTADT               646 non-null float64\n",
      "GEBAEUDETYP_RASTER       645 non-null float64\n",
      "KKK                      164 non-null float64\n",
      "MOBI_REGIO               7 non-null float64\n",
      "ONLINE_AFFINITAET        93575 non-null float64\n",
      "REGIOTYP                 164 non-null float64\n",
      "KBA13_ANZAHL_PKW         252 non-null float64\n",
      "PLZ8_ANTG1               9 non-null float64\n",
      "PLZ8_ANTG2               9 non-null float64\n",
      "PLZ8_ANTG3               9 non-null float64\n",
      "PLZ8_ANTG4               9 non-null float64\n",
      "PLZ8_BAUMAX              9 non-null float64\n",
      "PLZ8_HHZ                 9 non-null float64\n",
      "PLZ8_GBZ                 9 non-null float64\n",
      "ARBEIT                   638 non-null float64\n",
      "ORTSGR_KLS9              639 non-null float64\n",
      "RELAT_AB                 638 non-null float64\n",
      "null_count               93795 non-null int64\n",
      "dtypes: float64(74), int64(2), object(4)\n",
      "memory usage: 58.0+ MB\n"
     ]
    }
   ],
   "source": [
    "azdias_over = azdias_dup.query('null_count > 20')\n",
    "azdias_over.info()"
   ]
  },
  {
   "cell_type": "code",
   "execution_count": 25,
   "metadata": {},
   "outputs": [],
   "source": [
    "# Compare the distribution of values for at least five columns where there are\n",
    "# no or few missing values, between the two subsets.\n",
    "def subplot_graphs(column):\n",
    "    \n",
    "    plt.subplot(1, 2, 1)\n",
    "    sns.countplot(x=column, data = azdias_under)\n",
    "\n",
    "    plt.subplot(1, 2, 2)\n",
    "    sns.countplot(x=column, data = azdias_over)\n",
    "\n",
    "    plt.tight_layout(4)\n",
    "\n",
    "    plt.show()\n",
    "    \n",
    "    return"
   ]
  },
  {
   "cell_type": "code",
   "execution_count": 26,
   "metadata": {},
   "outputs": [
    {
     "data": {
      "image/png": "[encoded data removed]",
      "text/plain": [
       "<matplotlib.figure.Figure at 0x7fd38a5cab38>"
      ]
     },
     "metadata": {
      "needs_background": "light"
     },
     "output_type": "display_data"
    },
    {
     "data": {
      "image/png": "[encoded data removed]",
      "text/plain": [
       "<matplotlib.figure.Figure at 0x7fd38a5ca9b0>"
      ]
     },
     "metadata": {
      "needs_background": "light"
     },
     "output_type": "display_data"
    },
    {
     "data": {
      "image/png": "[encoded data removed]",
      "text/plain": [
       "<matplotlib.figure.Figure at 0x7fd38b516cf8>"
      ]
     },
     "metadata": {
      "needs_background": "light"
     },
     "output_type": "display_data"
    },
    {
     "data": {
      "image/png": "[encoded data removed]",
      "text/plain": [
       "<matplotlib.figure.Figure at 0x7fd38b58df60>"
      ]
     },
     "metadata": {
      "needs_background": "light"
     },
     "output_type": "display_data"
    },
    {
     "data": {
      "image/png": "[encoded data removed]",
      "text/plain": [
       "<matplotlib.figure.Figure at 0x7fd38b50f630>"
      ]
     },
     "metadata": {
      "needs_background": "light"
     },
     "output_type": "display_data"
    }
   ],
   "source": [
    "subplot_graphs('FINANZ_MINIMALIST')\n",
    "subplot_graphs('SEMIO_FAM')\n",
    "subplot_graphs('ZABEOTYP')\n",
    "subplot_graphs('ONLINE_AFFINITAET')\n",
    "subplot_graphs('LP_STATUS_FEIN')"
   ]
  },
  {
   "cell_type": "markdown",
   "metadata": {},
   "source": [
    "#### Discussion 1.1.3: Assess Missing Data in Each Row\n",
    "\n",
    "When we look at the two datasets we do see that there are some differences in the proportion of data in the selected columns. For example the FINANZ_MINIMALIST field has a relatively even distribution of records for the under dataset, while the over dataset is primiarly made up of values with 3.0. Similiarities such as that are showing within the next 4 charts as well, with the distribution being different across both datasets. "
   ]
  },
  {
   "cell_type": "markdown",
   "metadata": {},
   "source": [
    "### Step 1.2: Select and Re-Encode Features\n",
    "\n",
    "Checking for missing data isn't the only way in which you can prepare a dataset for analysis. Since the unsupervised learning techniques to be used will only work on data that is encoded numerically, you need to make a few encoding changes or additional assumptions to be able to make progress. In addition, while almost all of the values in the dataset are encoded using numbers, not all of them represent numeric values. Check the third column of the feature summary (`feat_info`) for a summary of types of measurement.\n",
    "- For numeric and interval data, these features can be kept without changes.\n",
    "- Most of the variables in the dataset are ordinal in nature. While ordinal values may technically be non-linear in spacing, make the simplifying assumption that the ordinal variables can be treated as being interval in nature (that is, kept without any changes).\n",
    "- Special handling may be necessary for the remaining two variable types: categorical, and 'mixed'.\n",
    "\n",
    "In the first two parts of this sub-step, you will perform an investigation of the categorical and mixed-type features and make a decision on each of them, whether you will keep, drop, or re-encode each. Then, in the last part, you will create a new data frame with only the selected and engineered columns.\n",
    "\n",
    "Data wrangling is often the trickiest part of the data analysis process, and there's a lot of it to be done here. But stick with it: once you're done with this step, you'll be ready to get to the machine learning parts of the project!"
   ]
  },
  {
   "cell_type": "code",
   "execution_count": 27,
   "metadata": {},
   "outputs": [
    {
     "data": {
      "text/plain": [
       "ordinal        49\n",
       "categorical    21\n",
       "mixed           7\n",
       "numeric         7\n",
       "interval        1\n",
       "Name: type, dtype: int64"
      ]
     },
     "execution_count": 27,
     "metadata": {},
     "output_type": "execute_result"
    }
   ],
   "source": [
    "# How many features are there of each data type?\n",
    "feat_info['type'].value_counts()"
   ]
  },
  {
   "cell_type": "markdown",
   "metadata": {},
   "source": [
    "#### Step 1.2.1: Re-Encode Categorical Features\n",
    "\n",
    "For categorical data, you would ordinarily need to encode the levels as dummy variables. Depending on the number of categories, perform one of the following:\n",
    "- For binary (two-level) categoricals that take numeric values, you can keep them without needing to do anything.\n",
    "- There is one binary variable that takes on non-numeric values. For this one, you need to re-encode the values as numbers or create a dummy variable.\n",
    "- For multi-level categoricals (three or more values), you can choose to encode the values using multiple dummy variables (e.g. via [OneHotEncoder](http://scikit-learn.org/stable/modules/generated/sklearn.preprocessing.OneHotEncoder.html)), or (to keep things straightforward) just drop them from the analysis. As always, document your choices in the Discussion section."
   ]
  },
  {
   "cell_type": "code",
   "execution_count": 28,
   "metadata": {},
   "outputs": [
    {
     "data": {
      "text/html": [
       "<div>\n",
       "<style scoped>\n",
       "    .dataframe tbody tr th:only-of-type {\n",
       "        vertical-align: middle;\n",
       "    }\n",
       "\n",
       "    .dataframe tbody tr th {\n",
       "        vertical-align: top;\n",
       "    }\n",
       "\n",
       "    .dataframe thead th {\n",
       "        text-align: right;\n",
       "    }\n",
       "</style>\n",
       "<table border=\"1\" class=\"dataframe\">\n",
       "  <thead>\n",
       "    <tr style=\"text-align: right;\">\n",
       "      <th></th>\n",
       "      <th>attribute</th>\n",
       "      <th>information_level</th>\n",
       "      <th>type</th>\n",
       "      <th>missing_or_unknown</th>\n",
       "      <th>ctg_num</th>\n",
       "      <th>ctg_values</th>\n",
       "    </tr>\n",
       "  </thead>\n",
       "  <tbody>\n",
       "    <tr>\n",
       "      <th>0</th>\n",
       "      <td>AGER_TYP</td>\n",
       "      <td>person</td>\n",
       "      <td>categorical</td>\n",
       "      <td>[-1,0]</td>\n",
       "      <td>NaN</td>\n",
       "      <td>NaN</td>\n",
       "    </tr>\n",
       "    <tr>\n",
       "      <th>2</th>\n",
       "      <td>ANREDE_KZ</td>\n",
       "      <td>person</td>\n",
       "      <td>categorical</td>\n",
       "      <td>[-1,0]</td>\n",
       "      <td>NaN</td>\n",
       "      <td>NaN</td>\n",
       "    </tr>\n",
       "    <tr>\n",
       "      <th>3</th>\n",
       "      <td>CJT_GESAMTTYP</td>\n",
       "      <td>person</td>\n",
       "      <td>categorical</td>\n",
       "      <td>[0]</td>\n",
       "      <td>NaN</td>\n",
       "      <td>NaN</td>\n",
       "    </tr>\n",
       "    <tr>\n",
       "      <th>10</th>\n",
       "      <td>FINANZTYP</td>\n",
       "      <td>person</td>\n",
       "      <td>categorical</td>\n",
       "      <td>[-1]</td>\n",
       "      <td>NaN</td>\n",
       "      <td>NaN</td>\n",
       "    </tr>\n",
       "    <tr>\n",
       "      <th>12</th>\n",
       "      <td>GFK_URLAUBERTYP</td>\n",
       "      <td>person</td>\n",
       "      <td>categorical</td>\n",
       "      <td>[]</td>\n",
       "      <td>NaN</td>\n",
       "      <td>NaN</td>\n",
       "    </tr>\n",
       "    <tr>\n",
       "      <th>13</th>\n",
       "      <td>GREEN_AVANTGARDE</td>\n",
       "      <td>person</td>\n",
       "      <td>categorical</td>\n",
       "      <td>[]</td>\n",
       "      <td>NaN</td>\n",
       "      <td>NaN</td>\n",
       "    </tr>\n",
       "    <tr>\n",
       "      <th>17</th>\n",
       "      <td>LP_FAMILIE_FEIN</td>\n",
       "      <td>person</td>\n",
       "      <td>categorical</td>\n",
       "      <td>[0]</td>\n",
       "      <td>NaN</td>\n",
       "      <td>NaN</td>\n",
       "    </tr>\n",
       "    <tr>\n",
       "      <th>18</th>\n",
       "      <td>LP_FAMILIE_GROB</td>\n",
       "      <td>person</td>\n",
       "      <td>categorical</td>\n",
       "      <td>[0]</td>\n",
       "      <td>NaN</td>\n",
       "      <td>NaN</td>\n",
       "    </tr>\n",
       "    <tr>\n",
       "      <th>19</th>\n",
       "      <td>LP_STATUS_FEIN</td>\n",
       "      <td>person</td>\n",
       "      <td>categorical</td>\n",
       "      <td>[0]</td>\n",
       "      <td>NaN</td>\n",
       "      <td>NaN</td>\n",
       "    </tr>\n",
       "    <tr>\n",
       "      <th>20</th>\n",
       "      <td>LP_STATUS_GROB</td>\n",
       "      <td>person</td>\n",
       "      <td>categorical</td>\n",
       "      <td>[0]</td>\n",
       "      <td>NaN</td>\n",
       "      <td>NaN</td>\n",
       "    </tr>\n",
       "    <tr>\n",
       "      <th>21</th>\n",
       "      <td>NATIONALITAET_KZ</td>\n",
       "      <td>person</td>\n",
       "      <td>categorical</td>\n",
       "      <td>[-1,0]</td>\n",
       "      <td>NaN</td>\n",
       "      <td>NaN</td>\n",
       "    </tr>\n",
       "    <tr>\n",
       "      <th>38</th>\n",
       "      <td>SHOPPER_TYP</td>\n",
       "      <td>person</td>\n",
       "      <td>categorical</td>\n",
       "      <td>[-1]</td>\n",
       "      <td>NaN</td>\n",
       "      <td>NaN</td>\n",
       "    </tr>\n",
       "    <tr>\n",
       "      <th>39</th>\n",
       "      <td>SOHO_KZ</td>\n",
       "      <td>person</td>\n",
       "      <td>categorical</td>\n",
       "      <td>[-1]</td>\n",
       "      <td>NaN</td>\n",
       "      <td>NaN</td>\n",
       "    </tr>\n",
       "    <tr>\n",
       "      <th>40</th>\n",
       "      <td>TITEL_KZ</td>\n",
       "      <td>person</td>\n",
       "      <td>categorical</td>\n",
       "      <td>[-1,0]</td>\n",
       "      <td>NaN</td>\n",
       "      <td>NaN</td>\n",
       "    </tr>\n",
       "    <tr>\n",
       "      <th>41</th>\n",
       "      <td>VERS_TYP</td>\n",
       "      <td>person</td>\n",
       "      <td>categorical</td>\n",
       "      <td>[-1]</td>\n",
       "      <td>NaN</td>\n",
       "      <td>NaN</td>\n",
       "    </tr>\n",
       "    <tr>\n",
       "      <th>42</th>\n",
       "      <td>ZABEOTYP</td>\n",
       "      <td>person</td>\n",
       "      <td>categorical</td>\n",
       "      <td>[-1,9]</td>\n",
       "      <td>NaN</td>\n",
       "      <td>NaN</td>\n",
       "    </tr>\n",
       "    <tr>\n",
       "      <th>47</th>\n",
       "      <td>KK_KUNDENTYP</td>\n",
       "      <td>household</td>\n",
       "      <td>categorical</td>\n",
       "      <td>[-1]</td>\n",
       "      <td>NaN</td>\n",
       "      <td>NaN</td>\n",
       "    </tr>\n",
       "    <tr>\n",
       "      <th>52</th>\n",
       "      <td>GEBAEUDETYP</td>\n",
       "      <td>building</td>\n",
       "      <td>categorical</td>\n",
       "      <td>[-1,0]</td>\n",
       "      <td>NaN</td>\n",
       "      <td>NaN</td>\n",
       "    </tr>\n",
       "    <tr>\n",
       "      <th>55</th>\n",
       "      <td>OST_WEST_KZ</td>\n",
       "      <td>building</td>\n",
       "      <td>categorical</td>\n",
       "      <td>[-1]</td>\n",
       "      <td>NaN</td>\n",
       "      <td>NaN</td>\n",
       "    </tr>\n",
       "    <tr>\n",
       "      <th>57</th>\n",
       "      <td>CAMEO_DEUG_2015</td>\n",
       "      <td>microcell_rr4</td>\n",
       "      <td>categorical</td>\n",
       "      <td>[-1,X]</td>\n",
       "      <td>NaN</td>\n",
       "      <td>NaN</td>\n",
       "    </tr>\n",
       "    <tr>\n",
       "      <th>58</th>\n",
       "      <td>CAMEO_DEU_2015</td>\n",
       "      <td>microcell_rr4</td>\n",
       "      <td>categorical</td>\n",
       "      <td>[XX]</td>\n",
       "      <td>NaN</td>\n",
       "      <td>NaN</td>\n",
       "    </tr>\n",
       "  </tbody>\n",
       "</table>\n",
       "</div>"
      ],
      "text/plain": [
       "           attribute information_level         type missing_or_unknown  \\\n",
       "0           AGER_TYP            person  categorical             [-1,0]   \n",
       "2          ANREDE_KZ            person  categorical             [-1,0]   \n",
       "3      CJT_GESAMTTYP            person  categorical                [0]   \n",
       "10         FINANZTYP            person  categorical               [-1]   \n",
       "12   GFK_URLAUBERTYP            person  categorical                 []   \n",
       "13  GREEN_AVANTGARDE            person  categorical                 []   \n",
       "17   LP_FAMILIE_FEIN            person  categorical                [0]   \n",
       "18   LP_FAMILIE_GROB            person  categorical                [0]   \n",
       "19    LP_STATUS_FEIN            person  categorical                [0]   \n",
       "20    LP_STATUS_GROB            person  categorical                [0]   \n",
       "21  NATIONALITAET_KZ            person  categorical             [-1,0]   \n",
       "38       SHOPPER_TYP            person  categorical               [-1]   \n",
       "39           SOHO_KZ            person  categorical               [-1]   \n",
       "40          TITEL_KZ            person  categorical             [-1,0]   \n",
       "41          VERS_TYP            person  categorical               [-1]   \n",
       "42          ZABEOTYP            person  categorical             [-1,9]   \n",
       "47      KK_KUNDENTYP         household  categorical               [-1]   \n",
       "52       GEBAEUDETYP          building  categorical             [-1,0]   \n",
       "55       OST_WEST_KZ          building  categorical               [-1]   \n",
       "57   CAMEO_DEUG_2015     microcell_rr4  categorical             [-1,X]   \n",
       "58    CAMEO_DEU_2015     microcell_rr4  categorical               [XX]   \n",
       "\n",
       "    ctg_num  ctg_values  \n",
       "0       NaN         NaN  \n",
       "2       NaN         NaN  \n",
       "3       NaN         NaN  \n",
       "10      NaN         NaN  \n",
       "12      NaN         NaN  \n",
       "13      NaN         NaN  \n",
       "17      NaN         NaN  \n",
       "18      NaN         NaN  \n",
       "19      NaN         NaN  \n",
       "20      NaN         NaN  \n",
       "21      NaN         NaN  \n",
       "38      NaN         NaN  \n",
       "39      NaN         NaN  \n",
       "40      NaN         NaN  \n",
       "41      NaN         NaN  \n",
       "42      NaN         NaN  \n",
       "47      NaN         NaN  \n",
       "52      NaN         NaN  \n",
       "55      NaN         NaN  \n",
       "57      NaN         NaN  \n",
       "58      NaN         NaN  "
      ]
     },
     "execution_count": 28,
     "metadata": {},
     "output_type": "execute_result"
    }
   ],
   "source": [
    "# Assess categorical variables: which are binary, which are multi-level, and\n",
    "# which one needs to be re-encoded?\n",
    "temp_ctgs = pd.DataFrame(feat_info.query('type == \"categorical\"'))\n",
    "temp_ctgs = temp_ctgs.reindex(columns = temp_ctgs.columns.tolist() + ['ctg_num','ctg_values'])\n",
    "temp_ctgs.head(21)"
   ]
  },
  {
   "cell_type": "code",
   "execution_count": 29,
   "metadata": {},
   "outputs": [],
   "source": [
    "def fill_cat_nulls(column, df): \n",
    "    df_median = df[column].median()\n",
    "    df[column] = df[column].fillna(value=df_median)\n",
    "    \n",
    "    return df_median"
   ]
  },
  {
   "cell_type": "code",
   "execution_count": 30,
   "metadata": {},
   "outputs": [
    {
     "name": "stderr",
     "output_type": "stream",
     "text": [
      "/opt/conda/lib/python3.6/site-packages/ipykernel_launcher.py:7: SettingWithCopyWarning: \n",
      "A value is trying to be set on a copy of a slice from a DataFrame\n",
      "\n",
      "See the caveats in the documentation: http://pandas.pydata.org/pandas-docs/stable/indexing.html#indexing-view-versus-copy\n",
      "  import sys\n",
      "/opt/conda/lib/python3.6/site-packages/ipykernel_launcher.py:8: SettingWithCopyWarning: \n",
      "A value is trying to be set on a copy of a slice from a DataFrame\n",
      "\n",
      "See the caveats in the documentation: http://pandas.pydata.org/pandas-docs/stable/indexing.html#indexing-view-versus-copy\n",
      "  \n",
      "/opt/conda/lib/python3.6/site-packages/pandas/core/indexing.py:189: SettingWithCopyWarning: \n",
      "A value is trying to be set on a copy of a slice from a DataFrame\n",
      "\n",
      "See the caveats in the documentation: http://pandas.pydata.org/pandas-docs/stable/indexing.html#indexing-view-versus-copy\n",
      "  self._setitem_with_indexer(indexer, value)\n"
     ]
    },
    {
     "data": {
      "text/html": [
       "<div>\n",
       "<style scoped>\n",
       "    .dataframe tbody tr th:only-of-type {\n",
       "        vertical-align: middle;\n",
       "    }\n",
       "\n",
       "    .dataframe tbody tr th {\n",
       "        vertical-align: top;\n",
       "    }\n",
       "\n",
       "    .dataframe thead th {\n",
       "        text-align: right;\n",
       "    }\n",
       "</style>\n",
       "<table border=\"1\" class=\"dataframe\">\n",
       "  <thead>\n",
       "    <tr style=\"text-align: right;\">\n",
       "      <th></th>\n",
       "      <th>attribute</th>\n",
       "      <th>information_level</th>\n",
       "      <th>type</th>\n",
       "      <th>missing_or_unknown</th>\n",
       "      <th>ctg_num</th>\n",
       "      <th>ctg_values</th>\n",
       "    </tr>\n",
       "  </thead>\n",
       "  <tbody>\n",
       "    <tr>\n",
       "      <th>0</th>\n",
       "      <td>AGER_TYP</td>\n",
       "      <td>person</td>\n",
       "      <td>categorical</td>\n",
       "      <td>[-1,0]</td>\n",
       "      <td>NaN</td>\n",
       "      <td>NaN</td>\n",
       "    </tr>\n",
       "    <tr>\n",
       "      <th>2</th>\n",
       "      <td>ANREDE_KZ</td>\n",
       "      <td>person</td>\n",
       "      <td>categorical</td>\n",
       "      <td>[-1,0]</td>\n",
       "      <td>2.0</td>\n",
       "      <td>[ 2.  1.]</td>\n",
       "    </tr>\n",
       "    <tr>\n",
       "      <th>3</th>\n",
       "      <td>CJT_GESAMTTYP</td>\n",
       "      <td>person</td>\n",
       "      <td>categorical</td>\n",
       "      <td>[0]</td>\n",
       "      <td>7.0</td>\n",
       "      <td>[  5.   3.   2.   4.   1.   6.  nan]</td>\n",
       "    </tr>\n",
       "    <tr>\n",
       "      <th>10</th>\n",
       "      <td>FINANZTYP</td>\n",
       "      <td>person</td>\n",
       "      <td>categorical</td>\n",
       "      <td>[-1]</td>\n",
       "      <td>6.0</td>\n",
       "      <td>[ 1.  6.  5.  2.  4.  3.]</td>\n",
       "    </tr>\n",
       "    <tr>\n",
       "      <th>12</th>\n",
       "      <td>GFK_URLAUBERTYP</td>\n",
       "      <td>person</td>\n",
       "      <td>categorical</td>\n",
       "      <td>[]</td>\n",
       "      <td>13.0</td>\n",
       "      <td>[ 10.   1.   5.  12.   9.   3.   8.  11.   4. ...</td>\n",
       "    </tr>\n",
       "    <tr>\n",
       "      <th>13</th>\n",
       "      <td>GREEN_AVANTGARDE</td>\n",
       "      <td>person</td>\n",
       "      <td>categorical</td>\n",
       "      <td>[]</td>\n",
       "      <td>2.0</td>\n",
       "      <td>[0 1]</td>\n",
       "    </tr>\n",
       "    <tr>\n",
       "      <th>17</th>\n",
       "      <td>LP_FAMILIE_FEIN</td>\n",
       "      <td>person</td>\n",
       "      <td>categorical</td>\n",
       "      <td>[0]</td>\n",
       "      <td>12.0</td>\n",
       "      <td>[  5.   1.  nan  10.   2.   7.  11.   8.   4. ...</td>\n",
       "    </tr>\n",
       "    <tr>\n",
       "      <th>18</th>\n",
       "      <td>LP_FAMILIE_GROB</td>\n",
       "      <td>person</td>\n",
       "      <td>categorical</td>\n",
       "      <td>[0]</td>\n",
       "      <td>6.0</td>\n",
       "      <td>[  3.   1.  nan   5.   2.   4.]</td>\n",
       "    </tr>\n",
       "    <tr>\n",
       "      <th>19</th>\n",
       "      <td>LP_STATUS_FEIN</td>\n",
       "      <td>person</td>\n",
       "      <td>categorical</td>\n",
       "      <td>[0]</td>\n",
       "      <td>11.0</td>\n",
       "      <td>[  2.   3.   9.   4.   1.  10.   5.   8.   6. ...</td>\n",
       "    </tr>\n",
       "    <tr>\n",
       "      <th>20</th>\n",
       "      <td>LP_STATUS_GROB</td>\n",
       "      <td>person</td>\n",
       "      <td>categorical</td>\n",
       "      <td>[0]</td>\n",
       "      <td>6.0</td>\n",
       "      <td>[  1.   2.   4.   5.   3.  nan]</td>\n",
       "    </tr>\n",
       "    <tr>\n",
       "      <th>21</th>\n",
       "      <td>NATIONALITAET_KZ</td>\n",
       "      <td>person</td>\n",
       "      <td>categorical</td>\n",
       "      <td>[-1,0]</td>\n",
       "      <td>4.0</td>\n",
       "      <td>[  1.   3.   2.  nan]</td>\n",
       "    </tr>\n",
       "    <tr>\n",
       "      <th>38</th>\n",
       "      <td>SHOPPER_TYP</td>\n",
       "      <td>person</td>\n",
       "      <td>categorical</td>\n",
       "      <td>[-1]</td>\n",
       "      <td>5.0</td>\n",
       "      <td>[  3.   2.   1.   0.  nan]</td>\n",
       "    </tr>\n",
       "    <tr>\n",
       "      <th>39</th>\n",
       "      <td>SOHO_KZ</td>\n",
       "      <td>person</td>\n",
       "      <td>categorical</td>\n",
       "      <td>[-1]</td>\n",
       "      <td>2.0</td>\n",
       "      <td>[ 1.  0.]</td>\n",
       "    </tr>\n",
       "    <tr>\n",
       "      <th>40</th>\n",
       "      <td>TITEL_KZ</td>\n",
       "      <td>person</td>\n",
       "      <td>categorical</td>\n",
       "      <td>[-1,0]</td>\n",
       "      <td>NaN</td>\n",
       "      <td>NaN</td>\n",
       "    </tr>\n",
       "    <tr>\n",
       "      <th>41</th>\n",
       "      <td>VERS_TYP</td>\n",
       "      <td>person</td>\n",
       "      <td>categorical</td>\n",
       "      <td>[-1]</td>\n",
       "      <td>3.0</td>\n",
       "      <td>[  2.   1.  nan]</td>\n",
       "    </tr>\n",
       "    <tr>\n",
       "      <th>42</th>\n",
       "      <td>ZABEOTYP</td>\n",
       "      <td>person</td>\n",
       "      <td>categorical</td>\n",
       "      <td>[-1,9]</td>\n",
       "      <td>6.0</td>\n",
       "      <td>[ 5.  3.  4.  1.  6.  2.]</td>\n",
       "    </tr>\n",
       "    <tr>\n",
       "      <th>47</th>\n",
       "      <td>KK_KUNDENTYP</td>\n",
       "      <td>household</td>\n",
       "      <td>categorical</td>\n",
       "      <td>[-1]</td>\n",
       "      <td>NaN</td>\n",
       "      <td>NaN</td>\n",
       "    </tr>\n",
       "    <tr>\n",
       "      <th>52</th>\n",
       "      <td>GEBAEUDETYP</td>\n",
       "      <td>building</td>\n",
       "      <td>categorical</td>\n",
       "      <td>[-1,0]</td>\n",
       "      <td>7.0</td>\n",
       "      <td>[ 8.  1.  3.  2.  6.  4.  5.]</td>\n",
       "    </tr>\n",
       "    <tr>\n",
       "      <th>55</th>\n",
       "      <td>OST_WEST_KZ</td>\n",
       "      <td>building</td>\n",
       "      <td>categorical</td>\n",
       "      <td>[-1]</td>\n",
       "      <td>2.0</td>\n",
       "      <td>['W' 'O']</td>\n",
       "    </tr>\n",
       "    <tr>\n",
       "      <th>57</th>\n",
       "      <td>CAMEO_DEUG_2015</td>\n",
       "      <td>microcell_rr4</td>\n",
       "      <td>categorical</td>\n",
       "      <td>[-1,X]</td>\n",
       "      <td>10.0</td>\n",
       "      <td>['8' '4' '2' '6' '1' '9' '5' '7' nan '3']</td>\n",
       "    </tr>\n",
       "    <tr>\n",
       "      <th>58</th>\n",
       "      <td>CAMEO_DEU_2015</td>\n",
       "      <td>microcell_rr4</td>\n",
       "      <td>categorical</td>\n",
       "      <td>[XX]</td>\n",
       "      <td>45.0</td>\n",
       "      <td>['8A' '4C' '2A' '6B' '8C' '4A' '2D' '1A' '1E' ...</td>\n",
       "    </tr>\n",
       "  </tbody>\n",
       "</table>\n",
       "</div>"
      ],
      "text/plain": [
       "           attribute information_level         type missing_or_unknown  \\\n",
       "0           AGER_TYP            person  categorical             [-1,0]   \n",
       "2          ANREDE_KZ            person  categorical             [-1,0]   \n",
       "3      CJT_GESAMTTYP            person  categorical                [0]   \n",
       "10         FINANZTYP            person  categorical               [-1]   \n",
       "12   GFK_URLAUBERTYP            person  categorical                 []   \n",
       "13  GREEN_AVANTGARDE            person  categorical                 []   \n",
       "17   LP_FAMILIE_FEIN            person  categorical                [0]   \n",
       "18   LP_FAMILIE_GROB            person  categorical                [0]   \n",
       "19    LP_STATUS_FEIN            person  categorical                [0]   \n",
       "20    LP_STATUS_GROB            person  categorical                [0]   \n",
       "21  NATIONALITAET_KZ            person  categorical             [-1,0]   \n",
       "38       SHOPPER_TYP            person  categorical               [-1]   \n",
       "39           SOHO_KZ            person  categorical               [-1]   \n",
       "40          TITEL_KZ            person  categorical             [-1,0]   \n",
       "41          VERS_TYP            person  categorical               [-1]   \n",
       "42          ZABEOTYP            person  categorical             [-1,9]   \n",
       "47      KK_KUNDENTYP         household  categorical               [-1]   \n",
       "52       GEBAEUDETYP          building  categorical             [-1,0]   \n",
       "55       OST_WEST_KZ          building  categorical               [-1]   \n",
       "57   CAMEO_DEUG_2015     microcell_rr4  categorical             [-1,X]   \n",
       "58    CAMEO_DEU_2015     microcell_rr4  categorical               [XX]   \n",
       "\n",
       "    ctg_num                                         ctg_values  \n",
       "0       NaN                                                NaN  \n",
       "2       2.0                                          [ 2.  1.]  \n",
       "3       7.0               [  5.   3.   2.   4.   1.   6.  nan]  \n",
       "10      6.0                          [ 1.  6.  5.  2.  4.  3.]  \n",
       "12     13.0  [ 10.   1.   5.  12.   9.   3.   8.  11.   4. ...  \n",
       "13      2.0                                              [0 1]  \n",
       "17     12.0  [  5.   1.  nan  10.   2.   7.  11.   8.   4. ...  \n",
       "18      6.0                    [  3.   1.  nan   5.   2.   4.]  \n",
       "19     11.0  [  2.   3.   9.   4.   1.  10.   5.   8.   6. ...  \n",
       "20      6.0                    [  1.   2.   4.   5.   3.  nan]  \n",
       "21      4.0                              [  1.   3.   2.  nan]  \n",
       "38      5.0                         [  3.   2.   1.   0.  nan]  \n",
       "39      2.0                                          [ 1.  0.]  \n",
       "40      NaN                                                NaN  \n",
       "41      3.0                                   [  2.   1.  nan]  \n",
       "42      6.0                          [ 5.  3.  4.  1.  6.  2.]  \n",
       "47      NaN                                                NaN  \n",
       "52      7.0                      [ 8.  1.  3.  2.  6.  4.  5.]  \n",
       "55      2.0                                          ['W' 'O']  \n",
       "57     10.0          ['8' '4' '2' '6' '1' '9' '5' '7' nan '3']  \n",
       "58     45.0  ['8A' '4C' '2A' '6B' '8C' '4A' '2D' '1A' '1E' ...  "
      ]
     },
     "execution_count": 30,
     "metadata": {},
     "output_type": "execute_result"
    }
   ],
   "source": [
    "removed_cols = {'AGER_TYP', 'GEBURTSJAHR', 'TITEL_KZ', 'ALTER_HH', 'KK_KUNDENTYP', 'KBA05_BAUMAX'}\n",
    "for i, row in temp_ctgs.iterrows():\n",
    "    column = temp_ctgs['attribute'][i]\n",
    "    if column not in removed_cols:\n",
    "        ctg_num = len(azdias_under[column].unique())\n",
    "        uniq_values = str(azdias_under[column].unique())\n",
    "        temp_ctgs['ctg_num'][i] = ctg_num\n",
    "        temp_ctgs['ctg_values'][i] = uniq_values\n",
    "\n",
    "temp_ctgs.head(21)"
   ]
  },
  {
   "cell_type": "code",
   "execution_count": 31,
   "metadata": {},
   "outputs": [],
   "source": [
    "from sklearn.preprocessing import OneHotEncoder\n",
    "\n",
    "def encoding_df(df_enc, column):\n",
    "    \n",
    "    fill_cat_nulls(column, df_enc)\n",
    "    dummy_df = pd.DataFrame(pd.get_dummies(df_enc[column], prefix=None))\n",
    "    df_enc = df_enc.join(dummy_df)\n",
    "    \n",
    "    #OHE = OneHotEncoder(handle_unknown='ignore')\n",
    "    #OHE_df = pd.DataFrame(OHE.fit_transform(df_enc[[column]]).toarray())\n",
    "    #OHE_df.columns = OHE.feature_names_in_([column])\n",
    "    #df_enc = df_enc.join(OHE_df)\n",
    "    df_enc.pop(column)\n",
    "    \n",
    "    return df_enc"
   ]
  },
  {
   "cell_type": "code",
   "execution_count": 32,
   "metadata": {},
   "outputs": [
    {
     "name": "stderr",
     "output_type": "stream",
     "text": [
      "/opt/conda/lib/python3.6/site-packages/ipykernel_launcher.py:3: SettingWithCopyWarning: \n",
      "A value is trying to be set on a copy of a slice from a DataFrame.\n",
      "Try using .loc[row_indexer,col_indexer] = value instead\n",
      "\n",
      "See the caveats in the documentation: http://pandas.pydata.org/pandas-docs/stable/indexing.html#indexing-view-versus-copy\n",
      "  This is separate from the ipykernel package so we can avoid doing imports until\n"
     ]
    }
   ],
   "source": [
    "azdias_under = encoding_df(azdias_under, 'CJT_GESAMTTYP')\n",
    "azdias_under = azdias_under.rename(columns={1:'consumption_minimalist', \\\n",
    "                                           2:'consumption_traditionalist', \\\n",
    "                                           3:'store_shopper', \\\n",
    "                                           4:'online_shopper', \\\n",
    "                                           5:'cross_channel_enthusiast', \\\n",
    "                                           6:'restricted_CC_enthusiast'})"
   ]
  },
  {
   "cell_type": "code",
   "execution_count": 33,
   "metadata": {},
   "outputs": [],
   "source": [
    "azdias_under = encoding_df(azdias_under, 'FINANZTYP')\n",
    "azdias_under = azdias_under.rename(columns={1:'low_financial_interest', \\\n",
    "                                           2:'money_saver', \\\n",
    "                                           3:'home_ownership', \\\n",
    "                                           4:'be_prepared', \\\n",
    "                                           5:'investor', \\\n",
    "                                           6:'inconspicuous'})"
   ]
  },
  {
   "cell_type": "code",
   "execution_count": 34,
   "metadata": {},
   "outputs": [],
   "source": [
    "azdias_under = encoding_df(azdias_under, 'GFK_URLAUBERTYP')\n",
    "azdias_under = azdias_under.rename(columns={1:'event_travelers', \\\n",
    "                                           2:'family_oriented_vacationist', \\\n",
    "                                           3:'winter_sportspeople', \\\n",
    "                                           4:'culture_lovers', \\\n",
    "                                           5:'nature_fans', \\\n",
    "                                           6:'hiker', \\\n",
    "                                           7:'golden_ager', \\\n",
    "                                           8:'homeland_connected_vacationist', \\\n",
    "                                           9:'package_tour_traveler', \\\n",
    "                                           10:'connoisseurs', \\\n",
    "                                           11:'active_families', \\\n",
    "                                           12:'without_vacation'})"
   ]
  },
  {
   "cell_type": "code",
   "execution_count": 35,
   "metadata": {},
   "outputs": [],
   "source": [
    "azdias_under = encoding_df(azdias_under, 'LP_FAMILIE_FEIN')\n",
    "azdias_under = azdias_under.rename(columns={1:'fs_single', \\\n",
    "                                           2:'fs_couple', \\\n",
    "                                           3:'fs_young_single_parent', \\\n",
    "                                           4:'fs_singe_par_w_teen', \\\n",
    "                                           5:'fs_single_par_w_child_full_age', \\\n",
    "                                           6:'fs_young_family', \\\n",
    "                                           7:'fs_family_w_teenager', \\\n",
    "                                           8:'fs_family_w_child_full_age', \\\n",
    "                                           9:'fs_shared_flat', \\\n",
    "                                           10:'fs_two_generational_household', \\\n",
    "                                           11:'fs_multi_generational_household'})"
   ]
  },
  {
   "cell_type": "code",
   "execution_count": 36,
   "metadata": {},
   "outputs": [],
   "source": [
    "azdias_under = encoding_df(azdias_under, 'LP_FAMILIE_GROB')\n",
    "azdias_under = azdias_under.rename(columns={1:'rs_single', \\\n",
    "                                           2:'rs_couple', \\\n",
    "                                           3:'rs_single_parent', \\\n",
    "                                           4:'rs_family', \\\n",
    "                                           5:'rs_multiperson_household'})"
   ]
  },
  {
   "cell_type": "code",
   "execution_count": 37,
   "metadata": {},
   "outputs": [],
   "source": [
    "azdias_under = encoding_df(azdias_under, 'LP_STATUS_FEIN')\n",
    "azdias_under = azdias_under.rename(columns={1:'fs_low_income_earners', \\\n",
    "                                           2:'fs_orientation_low_income_earners', \\\n",
    "                                           3:'fs_aspiring_low_income_earners', \\\n",
    "                                           4:'fs_villagers', \\\n",
    "                                           5:'fs_minimalistic_high_income_earners', \\\n",
    "                                           6:'fs_independent_workers', \\\n",
    "                                           7:'fs_title_holder_households', \\\n",
    "                                           8:'fs_new_houseowners', \\\n",
    "                                           9:'fs_new_houseowners', \\\n",
    "                                           10:'fs_houseowners'})"
   ]
  },
  {
   "cell_type": "code",
   "execution_count": 38,
   "metadata": {},
   "outputs": [],
   "source": [
    "azdias_under = encoding_df(azdias_under, 'LP_STATUS_GROB')\n",
    "azdias_under = azdias_under.rename(columns={1:'rs_low_income_earners', \\\n",
    "                                            2:'rs_average_earners', \\\n",
    "                                           3:'rs_independents', \\\n",
    "                                           4:'rs_houseowners', \\\n",
    "                                           5:'rs_top_earners'})"
   ]
  },
  {
   "cell_type": "code",
   "execution_count": 39,
   "metadata": {},
   "outputs": [],
   "source": [
    "azdias_under = encoding_df(azdias_under, 'NATIONALITAET_KZ')\n",
    "azdias_under = azdias_under.rename(columns={1:'german_sounding', \\\n",
    "                                           2:'foreign_sounding', \\\n",
    "                                           3:'assimilated_names'})"
   ]
  },
  {
   "cell_type": "code",
   "execution_count": 40,
   "metadata": {},
   "outputs": [],
   "source": [
    "azdias_under = encoding_df(azdias_under, 'SHOPPER_TYP')\n",
    "azdias_under = azdias_under.rename(columns={0:'external_supplied_hedonist', \\\n",
    "                                            1:'shopping_stressed', \\\n",
    "                                           2:'family_shopper', \\\n",
    "                                           3:'demanding_shopper'})"
   ]
  },
  {
   "cell_type": "code",
   "execution_count": 41,
   "metadata": {},
   "outputs": [],
   "source": [
    "azdias_under = encoding_df(azdias_under, 'VERS_TYP')\n",
    "azdias_under = azdias_under.rename(columns={1:'social_saftey_driven', \\\n",
    "                                            2:'individ_accepting_risks'})"
   ]
  },
  {
   "cell_type": "code",
   "execution_count": 42,
   "metadata": {},
   "outputs": [],
   "source": [
    "azdias_under = encoding_df(azdias_under, 'ZABEOTYP')\n",
    "azdias_under = azdias_under.rename(columns={1:'green', \\\n",
    "                                           2:'smart', \\\n",
    "                                           3:'fair_supplied', \\\n",
    "                                           4:'price_driven', \\\n",
    "                                           5:'seeking_orientation', \\\n",
    "                                           6:'indifferent'})"
   ]
  },
  {
   "cell_type": "code",
   "execution_count": 43,
   "metadata": {},
   "outputs": [],
   "source": [
    "azdias_under = encoding_df(azdias_under, 'GEBAEUDETYP')\n",
    "azdias_under = azdias_under.rename(columns={1:'residential_building', \\\n",
    "                                            2:'residential_building_unknown_household', \\\n",
    "                                            3:'mixed_building', \\\n",
    "                                            4:'mixed_building_unknown_company_household', \\\n",
    "                                            5:'company_building_unknown_company', \\\n",
    "                                            6:'mixed_building_known_household', \\\n",
    "                                            7:'company_building', \\\n",
    "                                            8:'mixed_building_unknown_company'})"
   ]
  },
  {
   "cell_type": "code",
   "execution_count": 44,
   "metadata": {},
   "outputs": [
    {
     "data": {
      "text/plain": [
       "8    134441\n",
       "9    108177\n",
       "6    105874\n",
       "4    103912\n",
       "3     86779\n",
       "2     83231\n",
       "7     77933\n",
       "5     55310\n",
       "1     36212\n",
       "Name: CAMEO_DEUG_2015, dtype: int64"
      ]
     },
     "execution_count": 44,
     "metadata": {},
     "output_type": "execute_result"
    }
   ],
   "source": [
    "azdias_dup['CAMEO_DEUG_2015'].value_counts()"
   ]
  },
  {
   "cell_type": "code",
   "execution_count": 45,
   "metadata": {},
   "outputs": [],
   "source": [
    "updateW = azdias_under['OST_WEST_KZ'] == 'W'\n",
    "azdias_under.loc[updateW, 'OST_WEST_KZ'] = 1\n",
    "updateO = azdias_under['OST_WEST_KZ'] == 'O'\n",
    "azdias_under.loc[updateO, 'OST_WEST_KZ'] = 0"
   ]
  },
  {
   "cell_type": "code",
   "execution_count": 46,
   "metadata": {},
   "outputs": [],
   "source": [
    "azdias_under = encoding_df(azdias_under, 'CAMEO_DEUG_2015')\n",
    "azdias_under = azdias_under.rename(columns={'1':'upper_class', \\\n",
    "                                            '2':'upper_middleclass', \\\n",
    "                                            '3':'established_middleclass', \\\n",
    "                                            '4':'consumption_oriented_middleclass', \\\n",
    "                                            '5':'active_middleclass', \\\n",
    "                                            '6':'low_consumption_middleclass', \\\n",
    "                                            6: 'low_consumption_middleclass', \\\n",
    "                                            '7':'lower_middleclass', \\\n",
    "                                            '8':'working_class', \\\n",
    "                                            '9':'urban_working_class'})"
   ]
  },
  {
   "cell_type": "code",
   "execution_count": 47,
   "metadata": {},
   "outputs": [],
   "source": [
    "codes = {'1A': 1, '1B': 2, '1C': 3, '1D': 4, '1E': 5, '2A': 6, '2B': 7, '2C': 8, '2D': 9, '3A': 10, \\\n",
    "         '3B': 11, '3C': 12, '3D': 13, '4A': 14, '4B': 15, '4C': 16, '4D': 17, '4E': 18, '5A': 19, \\\n",
    "         '5B': 20, '5C': 21, '5D': 22, '5E': 23, '5F': 24, '6A': 25, '6B': 26, '6C': 27, '6D': 28, \\\n",
    "         '6E': 29, '6F': 30, '7A': 31, '7B': 32, '7C': 33, '7D': 34, '7E': 35, '8A': 36, '8B': 37, \\\n",
    "         '8C': 38, '8D': 39, '9A': 40, '9B': 41, '9C': 42, '9D': 43, '9E': 44}\n",
    "\n",
    "uniques = azdias_under['CAMEO_DEU_2015'].unique()\n",
    "cd2015 = []\n",
    "for i in uniques:\n",
    "    cd2015.append(i)\n",
    "    \n",
    "cd2015.remove(np.nan)\n",
    "\n",
    "i = 0\n",
    "\n",
    "while i < len(cd2015):\n",
    "    update = cd2015[i]\n",
    "    if update != '0':\n",
    "        indexes = azdias_under['CAMEO_DEU_2015'] == update\n",
    "        azdias_under.loc[indexes, 'CAMEO_DEU_2015'] = codes[update]\n",
    "        \n",
    "    i += 1"
   ]
  },
  {
   "cell_type": "code",
   "execution_count": 48,
   "metadata": {},
   "outputs": [],
   "source": [
    "azdias_under = encoding_df(azdias_under, 'CAMEO_DEU_2015')"
   ]
  },
  {
   "cell_type": "code",
   "execution_count": 49,
   "metadata": {},
   "outputs": [],
   "source": [
    "definition = {1: 'work_life_balance', 2: 'wealthy_best_ager', 3: 'successful_songwriter', 4: 'old_nobility', \\\n",
    "              5: 'city_nobility', 6: 'cottage_chic', 7: 'noble_jogger', 8: 'established_gourmet', \\\n",
    "              9: 'fine_management', 10: 'career_and_family', 11: 'powershopping_families', 12: 'rural_neighborhoods', \\\n",
    "              13: 'secure_retirement', 14: 'family_starter', 15: 'family_life', 16: 'string_trimmer', 17: 'empty_nest', \\\n",
    "              18: 'golden_age_person', 19: 'younger_employees', 20: 'suddenly_family', 21: 'family_first', 22: 'stock_market_junkies', \\\n",
    "              23: 'coffee_rider', 24: 'active_retirement', 25: 'jobstarter', 26: 'petty_bourgeois', 27: 'long_established', \\\n",
    "              28: 'sportgardener', 29: 'urban_parents', 30: 'frugal_aging', 31: 'journeymen', 32: 'mantaplatte', \\\n",
    "              33: 'factory_worker', 34: 'rear_window', 35: 'interested_retirees', 36: 'multi_culteral', 37: 'young_mobile', \\\n",
    "              38: 'prefab', 39: 'town_seniors', 40: 'first_shared_apt', 41: 'temporary_workers', 42:'afternoon_talk_show', \\\n",
    "              43: 'mini_jobber', 44: 'socking_away'}\n",
    "\n",
    "i = 1\n",
    "while i <= len(cd2015):\n",
    "        column_name = definition[i]\n",
    "        encoded_col = i\n",
    "        azdias_under = azdias_under.rename(columns={encoded_col:column_name})\n",
    "        i += 1"
   ]
  },
  {
   "cell_type": "code",
   "execution_count": 50,
   "metadata": {},
   "outputs": [
    {
     "name": "stdout",
     "output_type": "stream",
     "text": [
      "['ALTERSKATEGORIE_GROB', 'ANREDE_KZ', 'FINANZ_MINIMALIST', 'FINANZ_SPARER', 'FINANZ_VORSORGER', 'FINANZ_ANLEGER', 'FINANZ_UNAUFFAELLIGER', 'FINANZ_HAUSBAUER', 'GREEN_AVANTGARDE', 'HEALTH_TYP', 'LP_LEBENSPHASE_FEIN', 'LP_LEBENSPHASE_GROB', 'PRAEGENDE_JUGENDJAHRE', 'RETOURTYP_BK_S', 'SEMIO_SOZ', 'SEMIO_FAM', 'SEMIO_REL', 'SEMIO_MAT', 'SEMIO_VERT', 'SEMIO_LUST', 'SEMIO_ERL', 'SEMIO_KULT', 'SEMIO_RAT', 'SEMIO_KRIT', 'SEMIO_DOM', 'SEMIO_KAEM', 'SEMIO_PFLICHT', 'SEMIO_TRADV', 'SOHO_KZ', 'ANZ_PERSONEN', 'ANZ_TITEL', 'HH_EINKOMMEN_SCORE', 'W_KEIT_KIND_HH', 'WOHNDAUER_2008', 'ANZ_HAUSHALTE_AKTIV', 'ANZ_HH_TITEL', 'KONSUMNAEHE', 'MIN_GEBAEUDEJAHR', 'OST_WEST_KZ', 'WOHNLAGE', 'CAMEO_INTL_2015', 'KBA05_ANTG1', 'KBA05_ANTG2', 'KBA05_ANTG3', 'KBA05_ANTG4', 'KBA05_GBZ', 'BALLRAUM', 'EWDICHTE', 'INNENSTADT', 'GEBAEUDETYP_RASTER', 'KKK', 'MOBI_REGIO', 'ONLINE_AFFINITAET', 'REGIOTYP', 'KBA13_ANZAHL_PKW', 'PLZ8_ANTG1', 'PLZ8_ANTG2', 'PLZ8_ANTG3', 'PLZ8_ANTG4', 'PLZ8_BAUMAX', 'PLZ8_HHZ', 'PLZ8_GBZ', 'ARBEIT', 'ORTSGR_KLS9', 'RELAT_AB', 'null_count', 'consumption_minimalist', 'consumption_traditionalist', 'store_shopper', 'online_shopper', 'cross_channel_enthusiast', 'restricted_CC_enthusiast', 'low_financial_interest', 'money_saver', 'home_ownership', 'be_prepared', 'investor', 'inconspicuous', 'event_travelers', 'family_oriented_vacationist', 'winter_sportspeople', 'culture_lovers', 'nature_fans', 'hiker', 'golden_ager', 'homeland_connected_vacationist', 'package_tour_traveler', 'connoisseurs', 'active_families', 'without_vacation', 'fs_single', 'fs_couple', 'fs_young_single_parent', 'fs_singe_par_w_teen', 'fs_single_par_w_child_full_age', 'fs_young_family', 'fs_family_w_teenager', 'fs_family_w_child_full_age', 'fs_shared_flat', 'fs_two_generational_household', 'fs_multi_generational_household', 'rs_single', 'rs_couple', 'rs_single_parent', 'rs_family', 'rs_multiperson_household', 'fs_low_income_earners', 'fs_orientation_low_income_earners', 'fs_aspiring_low_income_earners', 'fs_villagers', 'fs_minimalistic_high_income_earners', 'fs_independent_workers', 'fs_title_holder_households', 'fs_new_houseowners', 'fs_new_houseowners', 'fs_houseowners', 'rs_low_income_earners', 'rs_average_earners', 'rs_independents', 'rs_houseowners', 'rs_top_earners', 'german_sounding', 'foreign_sounding', 'assimilated_names', 'external_supplied_hedonist', 'shopping_stressed', 'family_shopper', 'demanding_shopper', 'social_saftey_driven', 'individ_accepting_risks', 'green', 'smart', 'fair_supplied', 'price_driven', 'seeking_orientation', 'indifferent', 'residential_building', 'residential_building_unknown_household', 'mixed_building', 'mixed_building_unknown_company_household', 'company_building_unknown_company', 'mixed_building_known_household', 'mixed_building_unknown_company', 'low_consumption_middleclass', 'upper_class', 'upper_middleclass', 'established_middleclass', 'consumption_oriented_middleclass', 'active_middleclass', 'low_consumption_middleclass', 'lower_middleclass', 'working_class', 'urban_working_class', 'work_life_balance', 'wealthy_best_ager', 'successful_songwriter', 'old_nobility', 'city_nobility', 'cottage_chic', 'noble_jogger', 'established_gourmet', 'fine_management', 'career_and_family', 'powershopping_families', 'rural_neighborhoods', 'secure_retirement', 'family_starter', 'family_life', 'string_trimmer', 'empty_nest', 'golden_age_person', 'younger_employees', 'suddenly_family', 'family_first', 'stock_market_junkies', 'coffee_rider', 'active_retirement', 'jobstarter', 'petty_bourgeois', 'long_established', 'sportgardener', 'urban_parents', 'frugal_aging', 'journeymen', 'mantaplatte', 'factory_worker', 'rear_window', 'interested_retirees', 'multi_culteral', 'young_mobile', 'prefab', 'town_seniors', 'first_shared_apt', 'temporary_workers', 'afternoon_talk_show', 'mini_jobber', 'socking_away']\n"
     ]
    }
   ],
   "source": [
    "my_list = azdias_under.columns.values.tolist()\n",
    "print(my_list)"
   ]
  },
  {
   "cell_type": "markdown",
   "metadata": {},
   "source": [
    "#### Discussion 1.2.1: Re-Encode Categorical Features\n",
    "So Ager_Type, TITEL_KZ, and KK_KUNDENTYP were removed from the dataset due to there being to many null values so they were not included. Overall i was able to one hot encode the other categorical values by finding what values are in there dataset and using the data dictionary to give them more descriptive names once they the encoding was completed. Most values were already in the numbered format but for the CAMEO_DEU_2015 column that used specific codes they had to be converted for the one hot encoding to work. "
   ]
  },
  {
   "cell_type": "markdown",
   "metadata": {},
   "source": [
    "#### Step 1.2.2: Engineer Mixed-Type Features\n",
    "\n",
    "There are a handful of features that are marked as \"mixed\" in the feature summary that require special treatment in order to be included in the analysis. There are two in particular that deserve attention; the handling of the rest are up to your own choices:\n",
    "- \"PRAEGENDE_JUGENDJAHRE\" combines information on three dimensions: generation by decade, movement (mainstream vs. avantgarde), and nation (east vs. west). While there aren't enough levels to disentangle east from west, you should create two new variables to capture the other two dimensions: an interval-type variable for decade, and a binary variable for movement.\n",
    "- \"CAMEO_INTL_2015\" combines information on two axes: wealth and life stage. Break up the two-digit codes by their 'tens'-place and 'ones'-place digits into two new ordinal variables (which, for the purposes of this project, is equivalent to just treating them as their raw numeric values).\n",
    "- If you decide to keep or engineer new features around the other mixed-type features, make sure you note your steps in the Discussion section.\n",
    "\n",
    "Be sure to check `Data_Dictionary.md` for the details needed to finish these tasks."
   ]
  },
  {
   "cell_type": "code",
   "execution_count": 51,
   "metadata": {},
   "outputs": [
    {
     "data": {
      "text/plain": [
       "array(['90', '70', '50', '80', '60', nan, '40'], dtype=object)"
      ]
     },
     "execution_count": 51,
     "metadata": {},
     "output_type": "execute_result"
    }
   ],
   "source": [
    "# Investigate \"PRAEGENDE_JUGENDJAHRE\" and engineer two new variables.\n",
    "azdias_under['decade'] = np.NaN\n",
    "azdias_under['movement'] = np.NaN\n",
    "\n",
    "azdias_under.loc[(azdias_under['PRAEGENDE_JUGENDJAHRE'] > 0) & (azdias_under['PRAEGENDE_JUGENDJAHRE'] < 3), 'decade'] = '40'\n",
    "azdias_under.loc[(azdias_under['PRAEGENDE_JUGENDJAHRE'] > 2) & (azdias_under['PRAEGENDE_JUGENDJAHRE'] < 5), 'decade'] = '50'\n",
    "azdias_under.loc[(azdias_under['PRAEGENDE_JUGENDJAHRE'] > 4) & (azdias_under['PRAEGENDE_JUGENDJAHRE'] < 8), 'decade'] = '60'\n",
    "azdias_under.loc[(azdias_under['PRAEGENDE_JUGENDJAHRE'] > 7) & (azdias_under['PRAEGENDE_JUGENDJAHRE'] < 10), 'decade'] = '70'\n",
    "azdias_under.loc[(azdias_under['PRAEGENDE_JUGENDJAHRE'] > 9) & (azdias_under['PRAEGENDE_JUGENDJAHRE'] < 14), 'decade'] = '80'\n",
    "azdias_under.loc[(azdias_under['PRAEGENDE_JUGENDJAHRE'] > 13) & (azdias_under['PRAEGENDE_JUGENDJAHRE'] < 16), 'decade'] = '90'\n",
    "\n",
    "mainstream = [1, 3, 5, 8, 10, 12, 14]\n",
    "avantgarde = [2, 4, 6, 7, 9, 11, 13, 15]\n",
    "\n",
    "i = 0\n",
    "while i < len(mainstream):\n",
    "    azdias_under.loc[(azdias_under['PRAEGENDE_JUGENDJAHRE'] == mainstream[i]), 'movement'] = '0'\n",
    "    i += 1\n",
    "\n",
    "i = 0\n",
    "while i < len(avantgarde):\n",
    "    azdias_under.loc[(azdias_under['PRAEGENDE_JUGENDJAHRE'] == avantgarde[i]), 'movement'] = '1'\n",
    "    i += 1\n",
    "\n",
    "azdias_under['decade'].unique()"
   ]
  },
  {
   "cell_type": "code",
   "execution_count": 52,
   "metadata": {},
   "outputs": [
    {
     "data": {
      "text/plain": [
       "array(['0', '1', nan], dtype=object)"
      ]
     },
     "execution_count": 52,
     "metadata": {},
     "output_type": "execute_result"
    }
   ],
   "source": [
    "azdias_under['movement'].unique()"
   ]
  },
  {
   "cell_type": "code",
   "execution_count": 53,
   "metadata": {},
   "outputs": [],
   "source": [
    "# Investigate \"CAMEO_INTL_2015\" and engineer two new variables.\n",
    "azdias_under['household'] = azdias_under['CAMEO_INTL_2015'].str[0]\n",
    "azdias_under['household_details'] = azdias_under['CAMEO_INTL_2015'].str[1]"
   ]
  },
  {
   "cell_type": "code",
   "execution_count": 54,
   "metadata": {},
   "outputs": [
    {
     "data": {
      "text/plain": [
       "1          0\n",
       "2          0\n",
       "3          7\n",
       "4          0\n",
       "5          0\n",
       "6          0\n",
       "7          0\n",
       "8          0\n",
       "9          0\n",
       "10         0\n",
       "12         6\n",
       "13         8\n",
       "15         8\n",
       "16         6\n",
       "18         3\n",
       "19         0\n",
       "20        10\n",
       "21         0\n",
       "22         0\n",
       "23         8\n",
       "25         5\n",
       "26        19\n",
       "27         0\n",
       "28         0\n",
       "29         2\n",
       "31         0\n",
       "32         0\n",
       "33         0\n",
       "34         4\n",
       "36         0\n",
       "          ..\n",
       "891191     0\n",
       "891192     0\n",
       "891193     0\n",
       "891194     0\n",
       "891195     0\n",
       "891196     0\n",
       "891197     0\n",
       "891198     0\n",
       "891199     0\n",
       "891200     0\n",
       "891201     0\n",
       "891202     0\n",
       "891203    14\n",
       "891204     0\n",
       "891205     0\n",
       "891206     0\n",
       "891207     0\n",
       "891208     3\n",
       "891209     0\n",
       "891210     0\n",
       "891211     0\n",
       "891212     0\n",
       "891213     0\n",
       "891214     0\n",
       "891215     0\n",
       "891216     3\n",
       "891217     4\n",
       "891218     5\n",
       "891219     0\n",
       "891220     0\n",
       "Name: null_count, Length: 797426, dtype: int64"
      ]
     },
     "execution_count": 54,
     "metadata": {},
     "output_type": "execute_result"
    }
   ],
   "source": [
    "azdias_under.pop('PRAEGENDE_JUGENDJAHRE')\n",
    "azdias_under.pop('CAMEO_INTL_2015')\n",
    "azdias_under.pop('null_count')"
   ]
  },
  {
   "cell_type": "code",
   "execution_count": 55,
   "metadata": {},
   "outputs": [
    {
     "name": "stdout",
     "output_type": "stream",
     "text": [
      "<class 'pandas.core.frame.DataFrame'>\n",
      "Int64Index: 797426 entries, 1 to 891220\n",
      "Columns: 198 entries, ALTERSKATEGORIE_GROB to household_details\n",
      "dtypes: float64(61), int64(2), object(4), uint8(131)\n",
      "memory usage: 513.3+ MB\n"
     ]
    }
   ],
   "source": [
    "azdias_under.info()"
   ]
  },
  {
   "cell_type": "code",
   "execution_count": 56,
   "metadata": {},
   "outputs": [
    {
     "name": "stdout",
     "output_type": "stream",
     "text": [
      "['ALTERSKATEGORIE_GROB', 'ANREDE_KZ', 'FINANZ_MINIMALIST', 'FINANZ_SPARER', 'FINANZ_VORSORGER', 'FINANZ_ANLEGER', 'FINANZ_UNAUFFAELLIGER', 'FINANZ_HAUSBAUER', 'GREEN_AVANTGARDE', 'HEALTH_TYP', 'LP_LEBENSPHASE_FEIN', 'LP_LEBENSPHASE_GROB', 'RETOURTYP_BK_S', 'SEMIO_SOZ', 'SEMIO_FAM', 'SEMIO_REL', 'SEMIO_MAT', 'SEMIO_VERT', 'SEMIO_LUST', 'SEMIO_ERL', 'SEMIO_KULT', 'SEMIO_RAT', 'SEMIO_KRIT', 'SEMIO_DOM', 'SEMIO_KAEM', 'SEMIO_PFLICHT', 'SEMIO_TRADV', 'SOHO_KZ', 'ANZ_PERSONEN', 'ANZ_TITEL', 'HH_EINKOMMEN_SCORE', 'W_KEIT_KIND_HH', 'WOHNDAUER_2008', 'ANZ_HAUSHALTE_AKTIV', 'ANZ_HH_TITEL', 'KONSUMNAEHE', 'MIN_GEBAEUDEJAHR', 'OST_WEST_KZ', 'WOHNLAGE', 'KBA05_ANTG1', 'KBA05_ANTG2', 'KBA05_ANTG3', 'KBA05_ANTG4', 'KBA05_GBZ', 'BALLRAUM', 'EWDICHTE', 'INNENSTADT', 'GEBAEUDETYP_RASTER', 'KKK', 'MOBI_REGIO', 'ONLINE_AFFINITAET', 'REGIOTYP', 'KBA13_ANZAHL_PKW', 'PLZ8_ANTG1', 'PLZ8_ANTG2', 'PLZ8_ANTG3', 'PLZ8_ANTG4', 'PLZ8_BAUMAX', 'PLZ8_HHZ', 'PLZ8_GBZ', 'ARBEIT', 'ORTSGR_KLS9', 'RELAT_AB', 'consumption_minimalist', 'consumption_traditionalist', 'store_shopper', 'online_shopper', 'cross_channel_enthusiast', 'restricted_CC_enthusiast', 'low_financial_interest', 'money_saver', 'home_ownership', 'be_prepared', 'investor', 'inconspicuous', 'event_travelers', 'family_oriented_vacationist', 'winter_sportspeople', 'culture_lovers', 'nature_fans', 'hiker', 'golden_ager', 'homeland_connected_vacationist', 'package_tour_traveler', 'connoisseurs', 'active_families', 'without_vacation', 'fs_single', 'fs_couple', 'fs_young_single_parent', 'fs_singe_par_w_teen', 'fs_single_par_w_child_full_age', 'fs_young_family', 'fs_family_w_teenager', 'fs_family_w_child_full_age', 'fs_shared_flat', 'fs_two_generational_household', 'fs_multi_generational_household', 'rs_single', 'rs_couple', 'rs_single_parent', 'rs_family', 'rs_multiperson_household', 'fs_low_income_earners', 'fs_orientation_low_income_earners', 'fs_aspiring_low_income_earners', 'fs_villagers', 'fs_minimalistic_high_income_earners', 'fs_independent_workers', 'fs_title_holder_households', 'fs_new_houseowners', 'fs_new_houseowners', 'fs_houseowners', 'rs_low_income_earners', 'rs_average_earners', 'rs_independents', 'rs_houseowners', 'rs_top_earners', 'german_sounding', 'foreign_sounding', 'assimilated_names', 'external_supplied_hedonist', 'shopping_stressed', 'family_shopper', 'demanding_shopper', 'social_saftey_driven', 'individ_accepting_risks', 'green', 'smart', 'fair_supplied', 'price_driven', 'seeking_orientation', 'indifferent', 'residential_building', 'residential_building_unknown_household', 'mixed_building', 'mixed_building_unknown_company_household', 'company_building_unknown_company', 'mixed_building_known_household', 'mixed_building_unknown_company', 'low_consumption_middleclass', 'upper_class', 'upper_middleclass', 'established_middleclass', 'consumption_oriented_middleclass', 'active_middleclass', 'low_consumption_middleclass', 'lower_middleclass', 'working_class', 'urban_working_class', 'work_life_balance', 'wealthy_best_ager', 'successful_songwriter', 'old_nobility', 'city_nobility', 'cottage_chic', 'noble_jogger', 'established_gourmet', 'fine_management', 'career_and_family', 'powershopping_families', 'rural_neighborhoods', 'secure_retirement', 'family_starter', 'family_life', 'string_trimmer', 'empty_nest', 'golden_age_person', 'younger_employees', 'suddenly_family', 'family_first', 'stock_market_junkies', 'coffee_rider', 'active_retirement', 'jobstarter', 'petty_bourgeois', 'long_established', 'sportgardener', 'urban_parents', 'frugal_aging', 'journeymen', 'mantaplatte', 'factory_worker', 'rear_window', 'interested_retirees', 'multi_culteral', 'young_mobile', 'prefab', 'town_seniors', 'first_shared_apt', 'temporary_workers', 'afternoon_talk_show', 'mini_jobber', 'socking_away', 'decade', 'movement', 'household', 'household_details']\n"
     ]
    }
   ],
   "source": [
    "col_list = azdias_under.columns.values.tolist()\n",
    "print(col_list)"
   ]
  },
  {
   "cell_type": "markdown",
   "metadata": {},
   "source": [
    "#### Discussion 1.2.2: Engineer Mixed-Type Features\n",
    "To address the mixed-value columns I added columns that were specfiic to those particular variables (decade, movement, household, and household details). Then updated the values in those fields based on the information that was in the original column. After that was completed, i removed the original columns from the data set as they were no longer neccesary. "
   ]
  },
  {
   "cell_type": "markdown",
   "metadata": {},
   "source": [
    "#### Step 1.2.3: Complete Feature Selection\n",
    "\n",
    "In order to finish this step up, you need to make sure that your data frame now only has the columns that you want to keep. To summarize, the dataframe should consist of the following:\n",
    "- All numeric, interval, and ordinal type columns from the original dataset.\n",
    "- Binary categorical features (all numerically-encoded).\n",
    "- Engineered features from other multi-level categorical features and mixed features.\n",
    "\n",
    "Make sure that for any new columns that you have engineered, that you've excluded the original columns from the final dataset. Otherwise, their values will interfere with the analysis later on the project. For example, you should not keep \"PRAEGENDE_JUGENDJAHRE\", since its values won't be useful for the algorithm: only the values derived from it in the engineered features you created should be retained. As a reminder, your data should only be from **the subset with few or no missing values**."
   ]
  },
  {
   "cell_type": "code",
   "execution_count": 57,
   "metadata": {},
   "outputs": [],
   "source": [
    "# If there are other re-engineering tasks you need to perform, make sure you\n",
    "# take care of them here. (Dealing with missing data will come in step 2.1.)\n",
    "\n",
    "#Process taken care of above. \n"
   ]
  },
  {
   "cell_type": "code",
   "execution_count": 58,
   "metadata": {},
   "outputs": [],
   "source": [
    "# Do whatever you need to in order to ensure that the dataframe only contains\n",
    "# the columns that should be passed to the algorithm functions.\n",
    "\n",
    "#Process taken care of above. \n"
   ]
  },
  {
   "cell_type": "markdown",
   "metadata": {},
   "source": [
    "### Step 1.3: Create a Cleaning Function\n",
    "\n",
    "Even though you've finished cleaning up the general population demographics data, it's important to look ahead to the future and realize that you'll need to perform the same cleaning steps on the customer demographics data. In this substep, complete the function below to execute the main feature selection, encoding, and re-engineering steps you performed above. Then, when it comes to looking at the customer data in Step 3, you can just run this function on that DataFrame to get the trimmed dataset in a single step."
   ]
  },
  {
   "cell_type": "code",
   "execution_count": 59,
   "metadata": {},
   "outputs": [],
   "source": [
    "def check_columns(df, col_list):\n",
    "    for i in col_list:\n",
    "        match = False\n",
    "        for j in df.columns:\n",
    "            if i == j:\n",
    "                match = True\n",
    "    \n",
    "        if match == False:\n",
    "            df[i] = float(0.0)\n",
    "            \n",
    "    return"
   ]
  },
  {
   "cell_type": "code",
   "execution_count": 60,
   "metadata": {},
   "outputs": [],
   "source": [
    "def clean_data(df, col_list):\n",
    "    \"\"\"\n",
    "    Perform feature trimming, re-encoding, and engineering for demographics\n",
    "    data\n",
    "    \n",
    "    INPUT: Demographics DataFrame\n",
    "    OUTPUT: Trimmed and cleaned demographics DataFrame\n",
    "    \"\"\"\n",
    "    feat_info = pd.read_csv(\"AZDIAS_Feature_Summary.csv\", sep=\";\")\n",
    "    \n",
    "    for i, row in feat_info.iterrows():\n",
    "        column = feat_info['attribute'][i]\n",
    "        missing_unknown = feat_info['missing_or_unknown'][i]\n",
    "        options = missing_unknown.strip('][').split(',')\n",
    "        # Condition if there are no actual values in the missing_or_unknown field. \n",
    "        if options[0] != '':\n",
    "            j = 0\n",
    "            k = len(options)\n",
    "            while j < k:\n",
    "            # Determines the datatype of the current column in the azdias dataset so \n",
    "            # we can match it with the appropriate variable type of the value taken \n",
    "            # from the missing_or_unknown field. \n",
    "                if df[column].dtype == 'object':\n",
    "                    option_val = options[j]\n",
    "                elif df[column].dtype == 'float64':\n",
    "                    option_val = pd.to_numeric(options[j])\n",
    "                else:\n",
    "                    option_val = int(options[j])\n",
    "                matches = df[column] == option_val\n",
    "                df.loc[matches, column] = np.NaN\n",
    "                j += 1\n",
    "\n",
    "    df.pop('AGER_TYP')\n",
    "    df.pop('GEBURTSJAHR')\n",
    "    df.pop('TITEL_KZ')\n",
    "    df.pop('ALTER_HH')\n",
    "    df.pop('KK_KUNDENTYP')\n",
    "    df.pop('KBA05_BAUMAX')\n",
    "\n",
    "    null_df = pd.DataFrame(df.isnull().sum(axis=1))\n",
    "    null_df.columns = ['null_count']\n",
    "    df = pd.concat([df, null_df], axis=1, join='inner')\n",
    "    df_under = df.query('null_count >= 20')\n",
    "\n",
    "    temp_ctgs = pd.DataFrame(feat_info.query('type == \"categorical\"'))\n",
    "    temp_ctgs = temp_ctgs.reindex(columns = temp_ctgs.columns.tolist() + ['ctg_num','ctg_values'])\n",
    "    removed_cols = {'AGER_TYP', 'GEBURTSJAHR', 'TITEL_KZ', 'ALTER_HH', 'KK_KUNDENTYP', 'KBA05_BAUMAX'}\n",
    "    for i, row in temp_ctgs.iterrows():\n",
    "        column = temp_ctgs['attribute'][i]\n",
    "        if column not in removed_cols:\n",
    "            ctg_num = len(df[column].unique())\n",
    "            uniq_values = str(df[column].unique())\n",
    "            temp_ctgs['ctg_num'][i] = ctg_num\n",
    "            temp_ctgs['ctg_values'][i] = uniq_values\n",
    "\n",
    "    df_under = encoding_df(df_under, 'CJT_GESAMTTYP')\n",
    "    df_under = df_under.rename(columns={1:'consumption_minimalist', \\\n",
    "                                        2:'consumption_traditionalist', \\\n",
    "                                        3:'store_shopper', \\\n",
    "                                        4:'online_shopper', \\\n",
    "                                        5:'cross_channel_enthusiast', \\\n",
    "                                        6:'restricted_CC_enthusiast'})\n",
    "    \n",
    "    CJT_GESAMTTYP_cols = ['consumption_minimalist', 'consumption_traditionalist', \\\n",
    "                         'store_shopper', 'online_shopper', 'cross_channel_enthusiast', \\\n",
    "                         'restricted_CC_enthusiast']\n",
    "    check_columns(df_under, CJT_GESAMTTYP_cols)\n",
    "\n",
    "    df_under = encoding_df(df_under, 'FINANZTYP')\n",
    "    df_under = df_under.rename(columns={1:'low_financial_interest', \\\n",
    "                                        2:'money_saver', \\\n",
    "                                        3:'home_ownership', \\\n",
    "                                        4:'be_prepared', \\\n",
    "                                        5:'investor', \\\n",
    "                                        6:'inconspicuous'})\n",
    "    \n",
    "    FINANZTYP_cols = ['low_financial_interest', 'money_saver', 'home_ownership', \\\n",
    "                     'be_prepared', 'investor', 'inconspicuous']\n",
    "    check_columns(df_under, FINANZTYP_cols)\n",
    "\n",
    "    df_under = encoding_df(df_under, 'GFK_URLAUBERTYP')\n",
    "    df_under = df_under.rename(columns={1:'event_travelers', \\\n",
    "                                        2:'family_oriented_vacationist', \\\n",
    "                                        3:'winter_sportspeople', \\\n",
    "                                        4:'culture_lovers', \\\n",
    "                                        5:'nature_fans', \\\n",
    "                                        6:'hiker', \\\n",
    "                                        7:'golden_ager', \\\n",
    "                                        8:'homeland_connected_vacationist', \\\n",
    "                                        9:'package_tour_traveler', \\\n",
    "                                        10:'connoisseurs', \\\n",
    "                                        11:'active_families', \\\n",
    "                                        12:'without_vacation'})\n",
    "    \n",
    "    GFK_URLAUBERTYP_cols = ['event_travelers', 'family_oriented_vacationist', 'winter_sportspeople' \\\n",
    "                           'culture_lovers', 'nature_fans', 'hiker', 'golden_ager', \\\n",
    "                            'homeland_connected_vacationist', 'package_tour_traveler', 'connoisseurs' \\\n",
    "                           'active_families', 'without_vacation']\n",
    "    check_columns(df_under, GFK_URLAUBERTYP_cols)\n",
    "\n",
    "    df_under = encoding_df(df_under, 'LP_FAMILIE_FEIN')\n",
    "    df_under = df_under.rename(columns={1:'fs_single', \\\n",
    "                                        2:'fs_couple', \\\n",
    "                                        3:'fs_young_single_parent', \\\n",
    "                                        4:'fs_singe_par_w_teen', \\\n",
    "                                        5:'fs_single_par_w_child_full_age', \\\n",
    "                                        6:'fs_young_family', \\\n",
    "                                        7:'fs_family_w_teenager', \\\n",
    "                                        8:'fs_family_w_child_full_age', \\\n",
    "                                        9:'fs_shared_flat', \\\n",
    "                                        10:'fs_two_generational_household', \\\n",
    "                                        11:'fs_multi_generational_household'})\n",
    "    \n",
    "    LP_FAMILIE_FEIN_cols = ['fs_single', 'fs_couple', 'fs_young_single_parent', \\\n",
    "                           'fs_singe_par_w_teen', 'fs_single_par_w_child_full_age', \\\n",
    "                           'fs_young_family', 'fs_family_w_teenager', 'fs_family_w_child_full_age', \\\n",
    "                           'fs_shared_flat', 'fs_two_generational_household', \\\n",
    "                            'fs_multi_generational_household']\n",
    "    check_columns(df_under, LP_FAMILIE_FEIN_cols)\n",
    "\n",
    "    df_under = encoding_df(df_under, 'LP_FAMILIE_GROB')\n",
    "    df_under = df_under.rename(columns={1:'rs_single', \\\n",
    "                                        2:'rs_couple', \\\n",
    "                                        3:'rs_single_parent', \\\n",
    "                                        4:'rs_family', \\\n",
    "                                        5:'rs_multiperson_household'})\n",
    "    \n",
    "    LP_FAMILIE_GROB_cols = ['rs_single', 'rs_couple', 'rs_single_parent', 'rs_family', \\\n",
    "                           'rs_multiperson_household']\n",
    "    check_columns(df_under, LP_FAMILIE_GROB_cols)\n",
    "\n",
    "    df_under = encoding_df(df_under, 'LP_STATUS_FEIN')\n",
    "    df_under = df_under.rename(columns={1:'fs_low_income_earners', \\\n",
    "                                           2:'fs_orientation_low_income_earners', \\\n",
    "                                           3:'fs_aspiring_low_income_earners', \\\n",
    "                                           4:'fs_villagers', \\\n",
    "                                           5:'fs_minimalistic_high_income_earners', \\\n",
    "                                           6:'fs_independent_workers', \\\n",
    "                                           7:'fs_title_holder_households', \\\n",
    "                                           8:'fs_new_houseowners', \\\n",
    "                                           9:'fs_houseowners', \\\n",
    "                                           10:'fs_top_earners'})\n",
    "    \n",
    "    LP_STATUS_FEIN_cols = ['fs_low_income_earners', 'fs_orientation_low_income_earners', \\\n",
    "                          'fs_aspiring_low_income_earners', 'fs_villagers', \\\n",
    "                          'fs_minimalistic_high_income_earners', 'fs_independent_workers', \\\n",
    "                          'fs_title_holder_households', 'fs_new_houseowners', 'fs_houseowners', \\\n",
    "                          'fs_top_earners']\n",
    "    check_columns(df_under, LP_STATUS_FEIN_cols)\n",
    "\n",
    "    df_under = encoding_df(df_under, 'LP_STATUS_GROB')\n",
    "    df_under = df_under.rename(columns={1:'rs_low_income_earners', \\\n",
    "                                        2:'rs_average_earners', \\\n",
    "                                        3:'rs_independents', \\\n",
    "                                        4:'rs_houseowners', \\\n",
    "                                        5:'rs_top_earners'})\n",
    "    LP_STATUS_GROB_cols = ['rs_low_income_earners', 'rs_average_earners', 'rs_independents', \\\n",
    "                          'rs_houseowners', 'rs_top_earners']\n",
    "    check_columns(df_under, LP_STATUS_GROB_cols)\n",
    "\n",
    "    df_under = encoding_df(df_under, 'NATIONALITAET_KZ')\n",
    "    df_under = df_under.rename(columns={1:'german_sounding', \\\n",
    "                                        2:'foreign_sounding', \\\n",
    "                                        3:'assimilated_names'})\n",
    "    NATIONALITAET_KZ_cols = ['german_sounding', 'foreign_sounding', 'assimilated_names']\n",
    "    check_columns(df_under, NATIONALITAET_KZ_cols)\n",
    "\n",
    "    df_under = encoding_df(df_under, 'SHOPPER_TYP')\n",
    "    df_under = df_under.rename(columns={0:'external_supplied_hedonist', \\\n",
    "                                        1:'shopping_stressed', \\\n",
    "                                        2:'family_shopper', \\\n",
    "                                        3:'demanding_shopper'})\n",
    "                                        \n",
    "    SHOPPER_TYP_cols = ['external_supplied_hedonist', 'shopping_stressed', \\\n",
    "                        'family_shopper', 'demanding_shopper']\n",
    "    check_columns(df_under, SHOPPER_TYP_cols)\n",
    "\n",
    "    df_under = encoding_df(df_under, 'VERS_TYP')\n",
    "    df_under = df_under.rename(columns={1:'social_saftey_driven', \\\n",
    "                                        2:'individ_accepting_risks'})\n",
    "                                        \n",
    "    VERS_TYP_cols = ['social_saftey_driven', 'individ_accepting_risks']\n",
    "    check_columns(df_under, VERS_TYP_cols)\n",
    "\n",
    "    df_under = encoding_df(df_under, 'ZABEOTYP')\n",
    "    df_under = df_under.rename(columns={1:'green', \\\n",
    "                                        2:'smart', \\\n",
    "                                        3:'fair_supplied', \\\n",
    "                                        4:'price_driven', \\\n",
    "                                        5:'seeking_orientation', \\\n",
    "                                        6:'indifferent'})\n",
    "    ZABEOTYP_cols = ['green', 'smart', 'fair_supplied', 'price_driven', 'seeking_orientation', \\\n",
    "                    'indifferent']\n",
    "    check_columns(df_under, ZABEOTYP_cols)\n",
    "\n",
    "    df_under = encoding_df(df_under, 'GEBAEUDETYP')\n",
    "    df_under = df_under.rename(columns={1:'residential_building', \\\n",
    "                                        2:'residential_building_unknown_household', \\\n",
    "                                        3:'mixed_building', \\\n",
    "                                        4:'mixed_building_unknown_company_household', \\\n",
    "                                        5:'company_building_unknown_company', \\\n",
    "                                        6:'mixed_building_known_household', \\\n",
    "                                        7:'company_building', \\\n",
    "                                        8:'mixed_building_unknown_company'})\n",
    "                                        \n",
    "    GEBAEUDETYP_cols = ['residential_building', 'residential_building_unknown_household', \\\n",
    "                       'mixed_building', 'mixed_building_unknown_company_household', \\\n",
    "                       'company_building_unknown_company', 'mixed_building_known_household', \\\n",
    "                       'company_building', 'mixed_building_unknown_company']\n",
    "    check_columns(df_under, GEBAEUDETYP_cols)\n",
    "\n",
    "    updateW = df_under['OST_WEST_KZ'] == 'W'\n",
    "    df_under.loc[updateW, 'OST_WEST_KZ'] = 1\n",
    "    updateO = df_under['OST_WEST_KZ'] == 'O'\n",
    "    df_under.loc[updateO, 'OST_WEST_KZ'] = 0\n",
    "\n",
    "    df_under = encoding_df(df_under, 'CAMEO_DEUG_2015')\n",
    "    df_under = df_under.rename(columns={1:'upper_class', \\\n",
    "                                        2:'upper_middleclass', \\\n",
    "                                        3:'established_middleclass', \\\n",
    "                                        4:'consumption_oriented_middleclass', \\\n",
    "                                        5:'active_middleclass', \\\n",
    "                                        6:'low_consumption_middleclass', \\\n",
    "                                        7:'lower_middleclass', \\\n",
    "                                        8:'working_class', \\\n",
    "                                        9:'urban_working_class'})\n",
    "                                        \n",
    "    CAMEO_DEUG_2015_cols = ['upper_class', 'upper_middleclass', 'established_middleclass', \\\n",
    "                           'consumption_oriented_middleclass', 'active_middleclass', \\\n",
    "                           'low_consumption_middleclass', 'lower_middleclass', 'working_class', \\\n",
    "                           'urban_working_class']\n",
    "    check_columns(df_under, CAMEO_DEUG_2015_cols)\n",
    "\n",
    "    codes = {'1A': 1, '1B': 2, '1C': 3, '1D': 4, '1E': 5, '2A': 6, '2B': 7, '2C': 8, '2D': 9, '3A': 10, \\\n",
    "         '3B': 11, '3C': 12, '3D': 13, '4A': 14, '4B': 15, '4C': 16, '4D': 17, '4E': 18, '5A': 19, \\\n",
    "         '5B': 20, '5C': 21, '5D': 22, '5E': 23, '5F': 24, '6A': 25, '6B': 26, '6C': 27, '6D': 28, \\\n",
    "         '6E': 29, '6F': 30, '7A': 31, '7B': 32, '7C': 33, '7D': 34, '7E': 35, '8A': 36, '8B': 37, \\\n",
    "         '8C': 38, '8D': 39, '9A': 40, '9B': 41, '9C': 42, '9D': 43, '9E': 44}\n",
    "\n",
    "    uniques = df_under['CAMEO_DEU_2015'].unique()\n",
    "    cd2015 = []\n",
    "    for i in uniques:\n",
    "        cd2015.append(i)\n",
    "    \n",
    "    cd2015.remove(np.NaN)\n",
    "\n",
    "    i = 0\n",
    "    while i < len(cd2015):\n",
    "        update = cd2015[i]\n",
    "        if update != '0':\n",
    "            indexes = df_under['CAMEO_DEU_2015'] == update\n",
    "            df_under.loc[indexes, 'CAMEO_DEU_2015'] = codes[update]\n",
    "        \n",
    "        i += 1\n",
    "    \n",
    "    df_under = encoding_df(df_under, 'CAMEO_DEU_2015')\n",
    "\n",
    "    definition = {1: 'work_life_balance', 2: 'wealthy_best_ager', 3: 'successful_songwriter', 4: 'old_nobility', \\\n",
    "              5: 'city_nobility', 6: 'cottage_chic', 7: 'noble_jogger', 8: 'established_gourmet', \\\n",
    "              9: 'fine_management', 10: 'career_and_family', 11: 'powershopping_families', 12: 'rural_neighborhoods', \\\n",
    "              13: 'secure_retirement', 14: 'family_starter', 15: 'family_life', 16: 'string_trimmer', 17: 'empty_nest', \\\n",
    "              18: 'golden_age_person', 19: 'younger_employees', 20: 'suddenly_family', 21: 'family_first', 22: 'stock_market_junkies', \\\n",
    "              23: 'coffee_rider', 24: 'active_retirement', 25: 'jobstarter', 26: 'petty_bourgeois', 27: 'long_established', \\\n",
    "              28: 'sportgardener', 29: 'urban_parents', 30: 'frugal_aging', 31: 'journeymen', 32: 'mantaplatte', \\\n",
    "              33: 'factory_worker', 34: 'rear_window', 35: 'interested_retirees', 36: 'multi_culteral', 37: 'young_mobile', \\\n",
    "              38: 'prefab', 39: 'town_seniors', 40: 'first_shared_apt', 41: 'temporary_workers', 42:'afternoon_talk_show', \\\n",
    "              43: 'mini_jobber', 44: 'socking_away'}\n",
    "\n",
    "    i = 1\n",
    "    while i <= len(cd2015):\n",
    "        column_name = definition[i]\n",
    "        encoded_col = i\n",
    "        df_under = df_under.rename(columns={encoded_col:column_name})\n",
    "        i += 1\n",
    "    \n",
    "    \n",
    "    CAMEO_DEU_2015_cols = list(definition.values())\n",
    "    check_columns(df_under, CAMEO_DEU_2015_cols)\n",
    "    \n",
    "    df_under['decade'] = np.NaN\n",
    "    df_under['movement'] = np.NaN\n",
    "\n",
    "    df_under.loc[(df_under['PRAEGENDE_JUGENDJAHRE'] > 0) & (df_under['PRAEGENDE_JUGENDJAHRE'] < 3), 'decade'] = '40'\n",
    "    df_under.loc[(df_under['PRAEGENDE_JUGENDJAHRE'] > 2) & (df_under['PRAEGENDE_JUGENDJAHRE'] < 5), 'decade'] = '50'\n",
    "    df_under.loc[(df_under['PRAEGENDE_JUGENDJAHRE'] > 4) & (df_under['PRAEGENDE_JUGENDJAHRE'] < 8), 'decade'] = '60'\n",
    "    df_under.loc[(df_under['PRAEGENDE_JUGENDJAHRE'] > 7) & (df_under['PRAEGENDE_JUGENDJAHRE'] < 10), 'decade'] = '70'\n",
    "    df_under.loc[(df_under['PRAEGENDE_JUGENDJAHRE'] > 9) & (df_under['PRAEGENDE_JUGENDJAHRE'] < 14), 'decade'] = '80'\n",
    "    df_under.loc[(df_under['PRAEGENDE_JUGENDJAHRE'] > 13) & (df_under['PRAEGENDE_JUGENDJAHRE'] < 16), 'decade'] = '90'\n",
    "\n",
    "    mainstream = [1, 3, 5, 8, 10, 12, 14]\n",
    "    avantgarde = [2, 4, 6, 7, 9, 11, 13, 15]\n",
    "\n",
    "    i = 0\n",
    "    while i < len(mainstream):\n",
    "        df_under.loc[(df_under['PRAEGENDE_JUGENDJAHRE'] == mainstream[i]), 'movement'] = '0'\n",
    "        i += 1\n",
    "\n",
    "    i = 0\n",
    "    while i < len(avantgarde):\n",
    "        df_under.loc[(df_under['PRAEGENDE_JUGENDJAHRE'] == avantgarde[i]), 'movement'] = '1'\n",
    "        i += 1\n",
    "\n",
    "    df_under['household'] = df_under['CAMEO_INTL_2015'].str[0]\n",
    "    df_under['household_details'] = df_under['CAMEO_INTL_2015'].str[1]\n",
    "\n",
    "    df_under.pop('PRAEGENDE_JUGENDJAHRE')\n",
    "    df_under.pop('CAMEO_INTL_2015')\n",
    "    df_under.pop('null_count')\n",
    "    \n",
    "    for col in col_list:\n",
    "        match = False\n",
    "        for j in df_under.columns:\n",
    "            if col == j:\n",
    "                match = True\n",
    "    \n",
    "        if match == False:\n",
    "            final_df2[col] = float(0.0)\n",
    "    \n",
    "    df_under = df_under.reindex(columns=col_list)\n",
    "                                        \n",
    "    return df_under\n",
    "    \n",
    "    "
   ]
  },
  {
   "cell_type": "markdown",
   "metadata": {},
   "source": [
    "## Step 2: Feature Transformation\n",
    "\n",
    "### Step 2.1: Apply Feature Scaling\n",
    "\n",
    "Before we apply dimensionality reduction techniques to the data, we need to perform feature scaling so that the principal component vectors are not influenced by the natural differences in scale for features. Starting from this part of the project, you'll want to keep an eye on the [API reference page for sklearn](http://scikit-learn.org/stable/modules/classes.html) to help you navigate to all of the classes and functions that you'll need. In this substep, you'll need to check the following:\n",
    "\n",
    "- sklearn requires that data not have missing values in order for its estimators to work properly. So, before applying the scaler to your data, make sure that you've cleaned the DataFrame of the remaining missing values. This can be as simple as just removing all data points with missing data, or applying an [Imputer](https://scikit-learn.org/0.16/modules/generated/sklearn.preprocessing.Imputer.html) to replace all missing values. You might also try a more complicated procedure where you temporarily remove missing values in order to compute the scaling parameters before re-introducing those missing values and applying imputation. Think about how much missing data you have and what possible effects each approach might have on your analysis, and justify your decision in the discussion section below.\n",
    "- For the actual scaling function, a [StandardScaler](http://scikit-learn.org/stable/modules/generated/sklearn.preprocessing.StandardScaler.html) instance is suggested, scaling each feature to mean 0 and standard deviation 1.\n",
    "- For these classes, you can make use of the `.fit_transform()` method to both fit a procedure to the data as well as apply the transformation to the data at the same time. Don't forget to keep the fit sklearn objects handy, since you'll be applying them to the customer demographics data towards the end of the project."
   ]
  },
  {
   "cell_type": "code",
   "execution_count": 61,
   "metadata": {},
   "outputs": [
    {
     "data": {
      "text/plain": [
       "ALTERSKATEGORIE_GROB      2784\n",
       "ANREDE_KZ                    0\n",
       "FINANZ_MINIMALIST            0\n",
       "FINANZ_SPARER                0\n",
       "FINANZ_VORSORGER             0\n",
       "FINANZ_ANLEGER               0\n",
       "FINANZ_UNAUFFAELLIGER        0\n",
       "FINANZ_HAUSBAUER             0\n",
       "GREEN_AVANTGARDE             0\n",
       "HEALTH_TYP               36417\n",
       "LP_LEBENSPHASE_FEIN      49651\n",
       "LP_LEBENSPHASE_GROB      46830\n",
       "RETOURTYP_BK_S            4634\n",
       "SEMIO_SOZ                    0\n",
       "SEMIO_FAM                    0\n",
       "SEMIO_REL                    0\n",
       "SEMIO_MAT                    0\n",
       "SEMIO_VERT                   0\n",
       "SEMIO_LUST                   0\n",
       "SEMIO_ERL                    0\n",
       "SEMIO_KULT                   0\n",
       "SEMIO_RAT                    0\n",
       "SEMIO_KRIT                   0\n",
       "SEMIO_DOM                    0\n",
       "SEMIO_KAEM                   0\n",
       "SEMIO_PFLICHT                0\n",
       "SEMIO_TRADV                  0\n",
       "SOHO_KZ                      0\n",
       "ANZ_PERSONEN                 0\n",
       "ANZ_TITEL                    0\n",
       "                         ...  \n",
       "younger_employees            0\n",
       "suddenly_family              0\n",
       "family_first                 0\n",
       "stock_market_junkies         0\n",
       "coffee_rider                 0\n",
       "active_retirement            0\n",
       "jobstarter                   0\n",
       "petty_bourgeois              0\n",
       "long_established             0\n",
       "sportgardener                0\n",
       "urban_parents                0\n",
       "frugal_aging                 0\n",
       "journeymen                   0\n",
       "mantaplatte                  0\n",
       "factory_worker               0\n",
       "rear_window                  0\n",
       "interested_retirees          0\n",
       "multi_culteral               0\n",
       "young_mobile                 0\n",
       "prefab                       0\n",
       "town_seniors                 0\n",
       "first_shared_apt             0\n",
       "temporary_workers            0\n",
       "afternoon_talk_show          0\n",
       "mini_jobber                  0\n",
       "socking_away                 0\n",
       "decade                   28458\n",
       "movement                 28458\n",
       "household                 6003\n",
       "household_details         6003\n",
       "Length: 198, dtype: int64"
      ]
     },
     "execution_count": 61,
     "metadata": {},
     "output_type": "execute_result"
    }
   ],
   "source": [
    "azdias_under.dtypes\n",
    "azdias_under.isnull().sum()"
   ]
  },
  {
   "cell_type": "code",
   "execution_count": 62,
   "metadata": {},
   "outputs": [],
   "source": [
    "# If you've not yet cleaned the dataset of all NaN values, then investigate and\n",
    "# do that now.\n",
    "from sklearn.preprocessing import Imputer\n",
    "\n",
    "azdias_under_test = azdias_under.astype(float)\n",
    "imp = Imputer(strategy=\"mean\")\n",
    "azdias_under_test_imputed = imp.fit_transform(azdias_under_test)"
   ]
  },
  {
   "cell_type": "code",
   "execution_count": 63,
   "metadata": {},
   "outputs": [],
   "source": [
    "# Apply feature scaling to the general population demographics data.\n",
    "from sklearn.preprocessing import StandardScaler\n",
    "\n",
    "feat_scale = StandardScaler(with_mean=0, with_std=1)\n",
    "azdias_under_test_imputed = feat_scale.fit_transform(azdias_under_test_imputed)"
   ]
  },
  {
   "cell_type": "code",
   "execution_count": 64,
   "metadata": {},
   "outputs": [
    {
     "data": {
      "text/plain": [
       "(797426, 198)"
      ]
     },
     "execution_count": 64,
     "metadata": {},
     "output_type": "execute_result"
    }
   ],
   "source": [
    "azdias_under_test_imputed.shape"
   ]
  },
  {
   "cell_type": "markdown",
   "metadata": {},
   "source": [
    "### Discussion 2.1: Apply Feature Scaling\n",
    "\n",
    "One hot encoding seemed to bring some nulls into the dataset when being converted so those values had to be removed. This was important cause the feature scaling technique doens't work when null values are present. By replacing the nulls with the mean we are able to apply feature scaling. "
   ]
  },
  {
   "cell_type": "markdown",
   "metadata": {},
   "source": [
    "### Step 2.2: Perform Dimensionality Reduction\n",
    "\n",
    "On your scaled data, you are now ready to apply dimensionality reduction techniques.\n",
    "\n",
    "- Use sklearn's [PCA](http://scikit-learn.org/stable/modules/generated/sklearn.decomposition.PCA.html) class to apply principal component analysis on the data, thus finding the vectors of maximal variance in the data. To start, you should not set any parameters (so all components are computed) or set a number of components that is at least half the number of features (so there's enough features to see the general trend in variability).\n",
    "- Check out the ratio of variance explained by each principal component as well as the cumulative variance explained. Try plotting the cumulative or sequential values using matplotlib's [`plot()`](https://matplotlib.org/api/_as_gen/matplotlib.pyplot.plot.html) function. Based on what you find, select a value for the number of transformed features you'll retain for the clustering part of the project.\n",
    "- Once you've made a choice for the number of components to keep, make sure you re-fit a PCA instance to perform the decided-on transformation."
   ]
  },
  {
   "cell_type": "code",
   "execution_count": 65,
   "metadata": {},
   "outputs": [],
   "source": [
    "def run_pca(n, data):\n",
    "\n",
    "    X = feat_scale.fit_transform(data)\n",
    "    pca = PCA(n_components = n, random_state = 15)\n",
    "    X_pca = pca.fit_transform(X)\n",
    "    \n",
    "    return pca, X_pca"
   ]
  },
  {
   "cell_type": "code",
   "execution_count": 66,
   "metadata": {},
   "outputs": [
    {
     "name": "stdout",
     "output_type": "stream",
     "text": [
      "[  8.21991835e-02   5.66107070e-02   3.47550471e-02   3.01224558e-02\n",
      "   2.38952262e-02   1.58381566e-02   1.48710457e-02   1.34464785e-02\n",
      "   1.29329601e-02   1.24715547e-02   1.21852239e-02   1.18535429e-02\n",
      "   1.16941353e-02   1.13622784e-02   1.11282313e-02   1.10377362e-02\n",
      "   1.08307251e-02   1.06618191e-02   1.04824022e-02   1.02756626e-02\n",
      "   1.01510945e-02   9.76686352e-03   9.50063024e-03   9.11153719e-03\n",
      "   8.76523619e-03   8.46717110e-03   8.28318237e-03   8.15819908e-03\n",
      "   7.56978230e-03   7.39361770e-03   7.24228086e-03   6.95915460e-03\n",
      "   6.84402788e-03   6.78354661e-03   6.57730091e-03   6.44725343e-03\n",
      "   6.42796300e-03   6.29886005e-03   6.25304388e-03   6.10006155e-03\n",
      "   6.02335492e-03   5.92504768e-03   5.77489583e-03   5.69735674e-03\n",
      "   5.63827725e-03   5.62865950e-03   5.58471999e-03   5.54379455e-03\n",
      "   5.49137167e-03   5.44507790e-03   5.41510889e-03   5.38749820e-03\n",
      "   5.34674218e-03   5.32327128e-03   5.29366845e-03   5.29311454e-03\n",
      "   5.25752115e-03   5.24161910e-03   5.21664137e-03   5.20590978e-03\n",
      "   5.19578251e-03   5.18573445e-03   5.17930302e-03   5.17024431e-03\n",
      "   5.15849609e-03   5.14978978e-03   5.14634383e-03   5.13899393e-03\n",
      "   5.12867265e-03   5.12471944e-03   5.11906925e-03   5.10973254e-03\n",
      "   5.10517977e-03   5.09929137e-03   5.09903715e-03   5.09179362e-03\n",
      "   5.08907804e-03   5.08479572e-03   5.08158801e-03   5.07561514e-03\n",
      "   5.07286082e-03   5.06451867e-03   5.06176984e-03   5.05298982e-03\n",
      "   5.05008233e-03   5.04727624e-03   5.02813890e-03   5.01242362e-03\n",
      "   5.00162095e-03   4.98393513e-03   4.96656561e-03   4.93771471e-03\n",
      "   4.86525618e-03   4.80527358e-03   4.78392696e-03   4.73087270e-03\n",
      "   4.66310856e-03   4.61246801e-03   4.56795906e-03   4.54394883e-03\n",
      "   4.47137855e-03   4.44009158e-03   4.37528342e-03   4.27805691e-03\n",
      "   4.21513564e-03   3.99927938e-03   3.97524618e-03   3.94171464e-03\n",
      "   3.86769882e-03   3.84180249e-03   3.72316649e-03   3.61712519e-03\n",
      "   3.48401117e-03   3.36285422e-03   3.29475936e-03   3.09851647e-03\n",
      "   3.04645843e-03   3.00939334e-03   2.85727855e-03   2.60767354e-03\n",
      "   2.58107946e-03   2.52927463e-03   2.32786630e-03   2.30979626e-03\n",
      "   2.19709853e-03   2.15591460e-03   2.07483101e-03   2.02631741e-03\n",
      "   1.97784754e-03   1.88591663e-03   1.77359087e-03   1.75875672e-03\n",
      "   1.52826105e-03   1.47228600e-03   1.39961166e-03   1.37761617e-03\n",
      "   1.30058700e-03   1.26946071e-03   1.23858293e-03   1.23235014e-03\n",
      "   1.18770451e-03   1.17121950e-03   1.10559994e-03   1.07070238e-03\n",
      "   1.02525101e-03   1.01299702e-03   9.52208104e-04   9.05395972e-04\n",
      "   8.78339481e-04   8.48112142e-04   8.33488028e-04   8.15108092e-04\n",
      "   7.64718309e-04   7.20164185e-04   6.90340576e-04   6.61788203e-04\n",
      "   6.02578047e-04   5.86802191e-04   5.49364204e-04   4.48379150e-04\n",
      "   4.07242989e-04   3.87854712e-04   2.87040726e-04   2.59854333e-04\n",
      "   1.70988983e-05   1.16761009e-05   7.65458825e-26   4.53846141e-26\n",
      "   2.89608157e-27   6.47817466e-28   5.32614870e-28   2.15278133e-28\n",
      "   1.36395939e-28   1.01095092e-28   4.40189227e-29   3.75331384e-29\n",
      "   2.69324749e-29   7.63142289e-30   5.93883911e-30   5.74066326e-30\n",
      "   5.17810041e-30   4.35504455e-30   3.57294031e-30   3.43599866e-30\n",
      "   2.84793396e-30   2.78069637e-30   2.47490685e-30   2.08759580e-30\n",
      "   1.87718937e-30   1.43109756e-30]\n"
     ]
    }
   ],
   "source": [
    "# Apply PCA to the data.\n",
    "from sklearn.decomposition import PCA\n",
    "\n",
    "#Using 30 as a starting point. \n",
    "pca, X_pca = run_pca(190, azdias_under_test_imputed)\n",
    "\n",
    "print(pca.explained_variance_ratio_)"
   ]
  },
  {
   "cell_type": "code",
   "execution_count": 67,
   "metadata": {},
   "outputs": [
    {
     "name": "stdout",
     "output_type": "stream",
     "text": [
      "[ 0.08219918  0.13880989  0.17356494  0.20368739  0.22758262  0.24342078\n",
      "  0.25829182  0.2717383   0.28467126  0.29714282  0.30932804  0.32118158\n",
      "  0.33287572  0.344238    0.35536623  0.36640396  0.37723469  0.38789651\n",
      "  0.39837891  0.40865457  0.41880567  0.42857253  0.43807316  0.4471847\n",
      "  0.45594993  0.4644171   0.47270029  0.48085849  0.48842827  0.49582189\n",
      "  0.50306417  0.51002332  0.51686735  0.5236509   0.5302282   0.53667545\n",
      "  0.54310341  0.54940227  0.55565532  0.56175538  0.56777873  0.57370378\n",
      "  0.57947868  0.58517603  0.59081431  0.59644297  0.60202769  0.60757149\n",
      "  0.61306286  0.61850794  0.62392304  0.62931054  0.63465728  0.63998056\n",
      "  0.64527422  0.65056734  0.65582486  0.66106648  0.66628312  0.67148903\n",
      "  0.67668481  0.68187055  0.68704985  0.69222009  0.69737859  0.70252838\n",
      "  0.70767472  0.71281372  0.71794239  0.72306711  0.72818618  0.73329591\n",
      "  0.73840109  0.74350038  0.74859942  0.75369121  0.75878029  0.76386509\n",
      "  0.76894668  0.77402229  0.77909515  0.78415967  0.78922144  0.79427443\n",
      "  0.79932451  0.80437179  0.80939993  0.81441235  0.81941397  0.82439791\n",
      "  0.82936447  0.83430219  0.83916744  0.84397272  0.84875664  0.85348752\n",
      "  0.85815063  0.86276309  0.86733105  0.871875    0.87634638  0.88078647\n",
      "  0.88516175  0.88943981  0.89365495  0.89765423  0.90162947  0.90557119\n",
      "  0.90943889  0.91328069  0.91700386  0.92062098  0.92410499  0.92746785\n",
      "  0.93076261  0.93386112  0.93690758  0.93991697  0.94277425  0.94538193\n",
      "  0.94796301  0.95049228  0.95282015  0.95512994  0.95732704  0.95948296\n",
      "  0.96155779  0.9635841   0.96556195  0.96744787  0.96922146  0.97098022\n",
      "  0.97250848  0.97398076  0.97538037  0.97675799  0.97805858  0.97932804\n",
      "  0.98056662  0.98179897  0.98298668  0.9841579   0.9852635   0.9863342\n",
      "  0.98735945  0.98837245  0.98932465  0.99023005  0.99110839  0.9919565\n",
      "  0.99278999  0.9936051   0.99436982  0.99508998  0.99578032  0.99644211\n",
      "  0.99704469  0.99763149  0.99818085  0.99862923  0.99903648  0.99942433\n",
      "  0.99971137  0.99997123  0.99998832  1.          1.          1.          1.\n",
      "  1.          1.          1.          1.          1.          1.          1.\n",
      "  1.          1.          1.          1.          1.          1.          1.\n",
      "  1.          1.          1.          1.          1.          1.          1.        ]\n"
     ]
    }
   ],
   "source": [
    "print(np.cumsum(pca.explained_variance_ratio_))"
   ]
  },
  {
   "cell_type": "code",
   "execution_count": 68,
   "metadata": {},
   "outputs": [
    {
     "data": {
      "image/png": "[encoded data removed]",
      "text/plain": [
       "<matplotlib.figure.Figure at 0x7fd38b3a3898>"
      ]
     },
     "metadata": {
      "needs_background": "light"
     },
     "output_type": "display_data"
    }
   ],
   "source": [
    "plt.plot(np.cumsum(pca.explained_variance_ratio_))\n",
    "plt.xlabel('number of components')\n",
    "plt.ylabel('cumulative explained variance');"
   ]
  },
  {
   "cell_type": "code",
   "execution_count": 69,
   "metadata": {},
   "outputs": [
    {
     "name": "stdout",
     "output_type": "stream",
     "text": [
      "[ 0.08219918  0.05661071  0.03475505  0.03012246  0.02389523  0.01583816\n",
      "  0.01487105  0.01344648  0.01293296  0.01247155  0.01218522  0.01185354\n",
      "  0.01169413  0.01136226  0.01112822  0.01103773  0.01083072  0.01066181\n",
      "  0.01048239  0.01027566  0.01015106  0.00976684  0.00950062  0.00911151\n",
      "  0.0087652   0.00846716  0.00828312  0.00815817  0.00756961  0.00739358\n",
      "  0.00724211  0.00695898  0.00684386  0.00678347  0.00657704  0.00644575\n",
      "  0.00642785  0.0062973   0.00625275  0.00609988  0.00602219  0.00592475\n",
      "  0.00577405  0.00569705  0.00563682  0.00562757  0.00558408  0.00554269\n",
      "  0.00548943  0.00544411  0.00541423  0.00538676  0.00534429  0.00532249\n",
      "  0.00529264  0.00529154  0.00525531  0.0052406   0.00521537  0.00520422\n",
      "  0.00519435  0.00518486  0.00517837  0.0051696   0.00515533  0.00514883\n",
      "  0.00514458  0.00513884  0.0051274   0.00512325  0.00511752  0.00510828\n",
      "  0.00510364  0.00509877  0.0050955   0.00509046  0.00508849  0.00508365\n",
      "  0.00507929  0.00507319  0.00506743  0.00506137  0.00505957  0.00505078\n",
      "  0.00504956  0.00504494  0.00502793  0.00501131  0.00499924  0.0049822\n",
      "  0.00496423  0.00493497  0.00486399  0.0048008   0.00477939  0.00472419\n",
      "  0.00465858  0.00461008  0.0045636   0.00454292  0.00446391  0.0044334\n",
      "  0.00436611  0.00427422  0.00420989  0.00398845  0.00396292  0.00393365\n",
      "  0.00383335  0.00382181  0.00371155  0.0036023   0.0034736 ]\n"
     ]
    }
   ],
   "source": [
    "# Re-apply PCA to the data while selecting for number of components to retain.\n",
    "pca, X_pca = run_pca(113, azdias_under_test_imputed)\n",
    "\n",
    "print(pca.explained_variance_ratio_)\n"
   ]
  },
  {
   "cell_type": "code",
   "execution_count": 70,
   "metadata": {},
   "outputs": [
    {
     "name": "stdout",
     "output_type": "stream",
     "text": [
      "[ 0.08219918  0.13880989  0.17356494  0.20368739  0.22758262  0.24342078\n",
      "  0.25829182  0.2717383   0.28467126  0.29714281  0.30932803  0.32118157\n",
      "  0.3328757   0.34423796  0.35536618  0.36640391  0.37723463  0.38789644\n",
      "  0.39837883  0.40865449  0.41880555  0.42857239  0.43807301  0.44718453\n",
      "  0.45594973  0.46441688  0.47270001  0.48085817  0.48842779  0.49582137\n",
      "  0.50306349  0.51002246  0.51686632  0.52364979  0.53022683  0.53667258\n",
      "  0.54310042  0.54939772  0.55565047  0.56175035  0.56777254  0.57369729\n",
      "  0.57947135  0.58516839  0.59080521  0.59643278  0.60201686  0.60755955\n",
      "  0.61304898  0.61849309  0.62390732  0.62929408  0.63463837  0.63996086\n",
      "  0.64525349  0.65054503  0.65580034  0.66104094  0.66625631  0.67146053\n",
      "  0.67665488  0.68183974  0.68701811  0.69218771  0.69734304  0.70249187\n",
      "  0.70763645  0.71277529  0.71790269  0.72302593  0.72814346  0.73325173\n",
      "  0.73835538  0.74345415  0.74854965  0.75364011  0.7587286   0.76381224\n",
      "  0.76889153  0.77396472  0.77903215  0.78409352  0.78915309  0.79420387\n",
      "  0.79925343  0.80429837  0.80932631  0.81433762  0.81933686  0.82431906\n",
      "  0.82928329  0.83421826  0.83908226  0.84388305  0.84866244  0.85338663\n",
      "  0.85804521  0.86265528  0.86721888  0.87176179  0.8762257   0.88065911\n",
      "  0.88502522  0.88929943  0.89350932  0.89749777  0.90146069  0.90539434\n",
      "  0.90922769  0.9130495   0.91676105  0.92036336  0.92383695]\n"
     ]
    }
   ],
   "source": [
    "print(np.cumsum(pca.explained_variance_ratio_))"
   ]
  },
  {
   "cell_type": "code",
   "execution_count": 71,
   "metadata": {},
   "outputs": [
    {
     "data": {
      "image/png": "[encoded data removed]",
      "text/plain": [
       "<matplotlib.figure.Figure at 0x7fd38b5e2d30>"
      ]
     },
     "metadata": {
      "needs_background": "light"
     },
     "output_type": "display_data"
    }
   ],
   "source": [
    "plt.plot(np.cumsum(pca.explained_variance_ratio_))\n",
    "plt.xlabel('number of components')\n",
    "plt.ylabel('cumulative explained variance');"
   ]
  },
  {
   "cell_type": "markdown",
   "metadata": {},
   "source": [
    "### Discussion 2.2: Perform Dimensionality Reduction\n",
    "\n",
    "During our PCA analysis, we see that we can obtain 90% of the variance if we go up to 113 features. Therefore we will use 113 features for our analysis going forward. "
   ]
  },
  {
   "cell_type": "markdown",
   "metadata": {},
   "source": [
    "### Step 2.3: Interpret Principal Components\n",
    "\n",
    "Now that we have our transformed principal components, it's a nice idea to check out the weight of each variable on the first few components to see if they can be interpreted in some fashion.\n",
    "\n",
    "As a reminder, each principal component is a unit vector that points in the direction of highest variance (after accounting for the variance captured by earlier principal components). The further a weight is from zero, the more the principal component is in the direction of the corresponding feature. If two features have large weights of the same sign (both positive or both negative), then increases in one tend expect to be associated with increases in the other. To contrast, features with different signs can be expected to show a negative correlation: increases in one variable should result in a decrease in the other.\n",
    "\n",
    "- To investigate the features, you should map each weight to their corresponding feature name, then sort the features according to weight. The most interesting features for each principal component, then, will be those at the beginning and end of the sorted list. Use the data dictionary document to help you understand these most prominent features, their relationships, and what a positive or negative value on the principal component might indicate.\n",
    "- You should investigate and interpret feature associations from the first three principal components in this substep. To help facilitate this, you should write a function that you can call at any time to print the sorted list of feature weights, for the *i*-th principal component. This might come in handy in the next step of the project, when you interpret the tendencies of the discovered clusters."
   ]
  },
  {
   "cell_type": "code",
   "execution_count": 72,
   "metadata": {},
   "outputs": [],
   "source": [
    "# Map weights for the first principal component to corresponding feature names\n",
    "# and then print the linked values, sorted by weight.\n",
    "# HINT: Try defining a function here or in a new cell that you can reuse in the\n",
    "# other cells.\n",
    "def calc_weights(x, pca): \n",
    "    column_list = azdias_under.columns.values.tolist()\n",
    "\n",
    "    df = pd.DataFrame(pca.components_,  columns = column_list)\n",
    "    weights = df.iloc[x].sort_values(ascending=False)\n",
    "\n",
    "    return weights"
   ]
  },
  {
   "cell_type": "code",
   "execution_count": 73,
   "metadata": {},
   "outputs": [
    {
     "name": "stdout",
     "output_type": "stream",
     "text": [
      "rs_low_income_earners                0.188517\n",
      "HH_EINKOMMEN_SCORE                   0.180134\n",
      "household                            0.179783\n",
      "PLZ8_ANTG3                           0.179084\n",
      "PLZ8_ANTG4                           0.173854\n",
      "PLZ8_BAUMAX                          0.169722\n",
      "ORTSGR_KLS9                          0.152986\n",
      "EWDICHTE                             0.151457\n",
      "FINANZ_HAUSBAUER                     0.147253\n",
      "fs_low_income_earners                0.127153\n",
      "KBA05_ANTG4                          0.124298\n",
      "PLZ8_ANTG2                           0.122757\n",
      "ANZ_HAUSHALTE_AKTIV                  0.113077\n",
      "ARBEIT                               0.111446\n",
      "KBA05_ANTG3                          0.110951\n",
      "urban_working_class                  0.110065\n",
      "fs_orientation_low_income_earners    0.105636\n",
      "RELAT_AB                             0.105267\n",
      "fs_single                            0.101961\n",
      "rs_single                            0.101961\n",
      "low_financial_interest               0.101098\n",
      "FINANZ_SPARER                        0.098266\n",
      "working_class                        0.090363\n",
      "seeking_orientation                  0.070340\n",
      "SEMIO_PFLICHT                        0.069387\n",
      "mixed_building                       0.066311\n",
      "SEMIO_REL                            0.065429\n",
      "multi_culteral                       0.061416\n",
      "REGIOTYP                             0.058890\n",
      "decade                               0.057746\n",
      "                                       ...   \n",
      "established_middleclass             -0.063919\n",
      "ONLINE_AFFINITAET                   -0.064955\n",
      "ALTERSKATEGORIE_GROB                -0.068951\n",
      "FINANZ_VORSORGER                    -0.069659\n",
      "money_saver                         -0.070028\n",
      "consumption_oriented_middleclass    -0.071169\n",
      "rs_multiperson_household            -0.078887\n",
      "upper_middleclass                   -0.085590\n",
      "residential_building                -0.087230\n",
      "BALLRAUM                            -0.094964\n",
      "green                               -0.095274\n",
      "ANZ_PERSONEN                        -0.095359\n",
      "GEBAEUDETYP_RASTER                  -0.096055\n",
      "movement                            -0.097517\n",
      "GREEN_AVANTGARDE                    -0.099693\n",
      "household_details                   -0.105342\n",
      "fs_new_houseowners                  -0.106588\n",
      "rs_houseowners                      -0.108312\n",
      "rs_top_earners                      -0.109485\n",
      "fs_houseowners                      -0.109485\n",
      "INNENSTADT                          -0.125581\n",
      "LP_LEBENSPHASE_GROB                 -0.128539\n",
      "PLZ8_GBZ                            -0.131598\n",
      "KONSUMNAEHE                         -0.134601\n",
      "LP_LEBENSPHASE_FEIN                 -0.141750\n",
      "KBA05_GBZ                           -0.176738\n",
      "FINANZ_MINIMALIST                   -0.178449\n",
      "PLZ8_ANTG1                          -0.179712\n",
      "KBA05_ANTG1                         -0.186082\n",
      "MOBI_REGIO                          -0.199225\n",
      "Name: 0, Length: 198, dtype: float64\n"
     ]
    }
   ],
   "source": [
    "print(calc_weights(0, pca))"
   ]
  },
  {
   "cell_type": "code",
   "execution_count": 74,
   "metadata": {},
   "outputs": [
    {
     "name": "stdout",
     "output_type": "stream",
     "text": [
      "ALTERSKATEGORIE_GROB                   0.237794\n",
      "FINANZ_VORSORGER                       0.223732\n",
      "fair_supplied                          0.199388\n",
      "SEMIO_ERL                              0.181440\n",
      "SEMIO_LUST                             0.167149\n",
      "RETOURTYP_BK_S                         0.155591\n",
      "W_KEIT_KIND_HH                         0.128024\n",
      "consumption_traditionalist             0.111384\n",
      "FINANZ_MINIMALIST                      0.102919\n",
      "money_saver                            0.097786\n",
      "investor                               0.097308\n",
      "fs_low_income_earners                  0.084192\n",
      "demanding_shopper                      0.075046\n",
      "FINANZ_HAUSBAUER                       0.073859\n",
      "german_sounding                        0.071714\n",
      "consumption_minimalist                 0.071668\n",
      "SEMIO_KRIT                             0.070765\n",
      "inconspicuous                          0.068293\n",
      "fs_single                              0.065626\n",
      "rs_single                              0.065626\n",
      "culture_lovers                         0.057627\n",
      "WOHNDAUER_2008                         0.056972\n",
      "SEMIO_KAEM                             0.052216\n",
      "EWDICHTE                               0.050907\n",
      "fs_aspiring_low_income_earners         0.050191\n",
      "ORTSGR_KLS9                            0.049737\n",
      "PLZ8_ANTG3                             0.049168\n",
      "PLZ8_ANTG4                             0.046057\n",
      "golden_ager                            0.045549\n",
      "PLZ8_BAUMAX                            0.042824\n",
      "                                         ...   \n",
      "LP_LEBENSPHASE_GROB                   -0.048149\n",
      "rs_single_parent                      -0.048954\n",
      "foreign_sounding                      -0.049052\n",
      "assimilated_names                     -0.050860\n",
      "green                                 -0.051037\n",
      "HEALTH_TYP                            -0.053301\n",
      "online_shopper                        -0.054992\n",
      "SEMIO_SOZ                             -0.062742\n",
      "ANZ_PERSONEN                          -0.065050\n",
      "rs_family                             -0.068547\n",
      "home_ownership                        -0.071047\n",
      "package_tour_traveler                 -0.073568\n",
      "fs_minimalistic_high_income_earners   -0.078513\n",
      "be_prepared                           -0.087330\n",
      "seeking_orientation                   -0.094674\n",
      "fs_orientation_low_income_earners     -0.101408\n",
      "price_driven                          -0.109448\n",
      "SEMIO_MAT                             -0.133431\n",
      "SEMIO_FAM                             -0.135541\n",
      "low_financial_interest                -0.139818\n",
      "ONLINE_AFFINITAET                     -0.159316\n",
      "SEMIO_KULT                            -0.165927\n",
      "SEMIO_RAT                             -0.173092\n",
      "FINANZ_ANLEGER                        -0.206865\n",
      "SEMIO_PFLICHT                         -0.209563\n",
      "SEMIO_TRADV                           -0.211411\n",
      "FINANZ_UNAUFFAELLIGER                 -0.216506\n",
      "SEMIO_REL                             -0.217152\n",
      "FINANZ_SPARER                         -0.234121\n",
      "decade                                -0.242124\n",
      "Name: 1, Length: 198, dtype: float64\n"
     ]
    }
   ],
   "source": [
    "# Map weights for the second principal component to corresponding feature names\n",
    "# and then print the linked values, sorted by weight.\n",
    "print(calc_weights(1, pca))\n"
   ]
  },
  {
   "cell_type": "code",
   "execution_count": 75,
   "metadata": {},
   "outputs": [
    {
     "name": "stdout",
     "output_type": "stream",
     "text": [
      "SEMIO_VERT                           0.315477\n",
      "SEMIO_FAM                            0.255283\n",
      "SEMIO_SOZ                            0.254594\n",
      "SEMIO_KULT                           0.246931\n",
      "investor                             0.136701\n",
      "FINANZ_MINIMALIST                    0.131425\n",
      "external_supplied_hedonist           0.121066\n",
      "green                                0.120985\n",
      "SEMIO_REL                            0.109336\n",
      "GREEN_AVANTGARDE                     0.088794\n",
      "SEMIO_MAT                            0.087482\n",
      "movement                             0.086043\n",
      "RETOURTYP_BK_S                       0.072495\n",
      "ORTSGR_KLS9                          0.072272\n",
      "EWDICHTE                             0.071689\n",
      "fs_houseowners                       0.064762\n",
      "rs_top_earners                       0.064762\n",
      "W_KEIT_KIND_HH                       0.056426\n",
      "PLZ8_BAUMAX                          0.055273\n",
      "shopping_stressed                    0.053769\n",
      "PLZ8_ANTG4                           0.053306\n",
      "PLZ8_ANTG3                           0.052855\n",
      "fs_aspiring_low_income_earners       0.046808\n",
      "indifferent                          0.046331\n",
      "FINANZ_VORSORGER                     0.045880\n",
      "fs_low_income_earners                0.040479\n",
      "RELAT_AB                             0.038296\n",
      "PLZ8_ANTG2                           0.038055\n",
      "ARBEIT                               0.036724\n",
      "rs_independents                      0.035873\n",
      "                                       ...   \n",
      "rs_average_earners                  -0.033411\n",
      "PLZ8_GBZ                            -0.036295\n",
      "fs_singe_par_w_teen                 -0.038080\n",
      "fair_supplied                       -0.040368\n",
      "GEBAEUDETYP_RASTER                  -0.042189\n",
      "KKK                                 -0.043549\n",
      "FINANZ_UNAUFFAELLIGER               -0.044802\n",
      "HH_EINKOMMEN_SCORE                  -0.046537\n",
      "demanding_shopper                   -0.047999\n",
      "decade                              -0.048038\n",
      "PLZ8_ANTG1                          -0.048978\n",
      "WOHNLAGE                            -0.049503\n",
      "KONSUMNAEHE                         -0.051527\n",
      "rs_single_parent                    -0.053186\n",
      "FINANZ_SPARER                       -0.056048\n",
      "BALLRAUM                            -0.056589\n",
      "price_driven                        -0.062537\n",
      "INNENSTADT                          -0.063046\n",
      "FINANZ_HAUSBAUER                    -0.064755\n",
      "fs_villagers                        -0.076557\n",
      "fs_orientation_low_income_earners   -0.080281\n",
      "low_financial_interest              -0.101165\n",
      "family_shopper                      -0.106738\n",
      "SEMIO_RAT                           -0.151531\n",
      "FINANZ_ANLEGER                      -0.155298\n",
      "SEMIO_ERL                           -0.206059\n",
      "SEMIO_KRIT                          -0.264773\n",
      "SEMIO_DOM                           -0.275350\n",
      "SEMIO_KAEM                          -0.308082\n",
      "ANREDE_KZ                           -0.339237\n",
      "Name: 2, Length: 198, dtype: float64\n"
     ]
    }
   ],
   "source": [
    "# Map weights for the third principal component to corresponding feature names\n",
    "# and then print the linked values, sorted by weight.\n",
    "print(calc_weights(2, pca))\n"
   ]
  },
  {
   "cell_type": "markdown",
   "metadata": {},
   "source": [
    "### Discussion 2.3: Interpret Principal Components\n",
    "Weights across each of the top 3 components make up a varied composition. Building types look they are the dominate factor in the first component, while Personality traits have both a strong and negligible effect on the 3rd component. The second is made up of a mix of their age bracket, event-oriented personality trait, and a be-prepared financial mindset. "
   ]
  },
  {
   "cell_type": "markdown",
   "metadata": {},
   "source": [
    "## Step 3: Clustering\n",
    "\n",
    "### Step 3.1: Apply Clustering to General Population\n",
    "\n",
    "You've assessed and cleaned the demographics data, then scaled and transformed them. Now, it's time to see how the data clusters in the principal components space. In this substep, you will apply k-means clustering to the dataset and use the average within-cluster distances from each point to their assigned cluster's centroid to decide on a number of clusters to keep.\n",
    "\n",
    "- Use sklearn's [KMeans](http://scikit-learn.org/stable/modules/generated/sklearn.cluster.KMeans.html#sklearn.cluster.KMeans) class to perform k-means clustering on the PCA-transformed data.\n",
    "- Then, compute the average difference from each point to its assigned cluster's center. **Hint**: The KMeans object's `.score()` method might be useful here, but note that in sklearn, scores tend to be defined so that larger is better. Try applying it to a small, toy dataset, or use an internet search to help your understanding.\n",
    "- Perform the above two steps for a number of different cluster counts. You can then see how the average distance decreases with an increasing number of clusters. However, each additional cluster provides a smaller net benefit. Use this fact to select a final number of clusters in which to group the data. **Warning**: because of the large size of the dataset, it can take a long time for the algorithm to resolve. The more clusters to fit, the longer the algorithm will take. You should test for cluster counts through at least 10 clusters to get the full picture, but you shouldn't need to test for a number of clusters above about 30.\n",
    "- Once you've selected a final number of clusters to use, re-fit a KMeans instance to perform the clustering operation. Make sure that you also obtain the cluster assignments for the general demographics data, since you'll be using them in the final Step 3.3."
   ]
  },
  {
   "cell_type": "code",
   "execution_count": 76,
   "metadata": {},
   "outputs": [],
   "source": [
    "# Over a number of different cluster counts...\n",
    "from sklearn.cluster import KMeans\n",
    "\n",
    "def cluster_data(num_clusters, data):\n",
    "    model = KMeans(n_clusters = num_clusters, random_state = 15)\n",
    "    score = np.abs(model.fit(data).score(data))\n",
    "    \n",
    "    return score"
   ]
  },
  {
   "cell_type": "code",
   "execution_count": 77,
   "metadata": {},
   "outputs": [
    {
     "data": {
      "text/plain": [
       "'\\nscore_list = []\\nfor i in range(1,15):\\n    distance = cluster_data(i, X_pca)\\n    score_list.append(distance)\\n    \\nprint(score_list)\\n'"
      ]
     },
     "execution_count": 77,
     "metadata": {},
     "output_type": "execute_result"
    }
   ],
   "source": [
    "'''\n",
    "score_list = []\n",
    "for i in range(1,15):\n",
    "    distance = cluster_data(i, X_pca)\n",
    "    score_list.append(distance)\n",
    "    \n",
    "print(score_list)\n",
    "'''"
   ]
  },
  {
   "cell_type": "code",
   "execution_count": 78,
   "metadata": {},
   "outputs": [],
   "source": [
    "# Investigate the change in within-cluster distance across number of clusters.\n",
    "# HINT: Use matplotlib's plot function to visualize this relationship.\n",
    "#plt.plot(score_list)\n",
    "#plt.show()\n"
   ]
  },
  {
   "cell_type": "code",
   "execution_count": 79,
   "metadata": {},
   "outputs": [],
   "source": [
    "# Re-fit the k-means model with the selected number of clusters and obtain\n",
    "# cluster predictions for the general population demographics data.\n",
    "kaz_model = KMeans(n_clusters=9, random_state = 15).fit(X_pca)\n",
    "az_pred = kaz_model.predict(X_pca)"
   ]
  },
  {
   "cell_type": "markdown",
   "metadata": {},
   "source": [
    "### Discussion 3.1: Apply Clustering to General Population\n",
    "Looking at the return score from the clustering we get a decent spread of numbers. I choose 6 clusters as seeming to be the best set as things start to even out about that point much more than earlier cluster positions. "
   ]
  },
  {
   "cell_type": "markdown",
   "metadata": {},
   "source": [
    "### Step 3.2: Apply All Steps to the Customer Data\n",
    "\n",
    "Now that you have clusters and cluster centers for the general population, it's time to see how the customer data maps on to those clusters. Take care to not confuse this for re-fitting all of the models to the customer data. Instead, you're going to use the fits from the general population to clean, transform, and cluster the customer data. In the last step of the project, you will interpret how the general population fits apply to the customer data.\n",
    "\n",
    "- Don't forget when loading in the customers data, that it is semicolon (`;`) delimited.\n",
    "- Apply the same feature wrangling, selection, and engineering steps to the customer demographics using the `clean_data()` function you created earlier. (You can assume that the customer demographics data has similar meaning behind missing data patterns as the general demographics data.)\n",
    "- Use the sklearn objects from the general demographics data, and apply their transformations to the customers data. That is, you should not be using a `.fit()` or `.fit_transform()` method to re-fit the old objects, nor should you be creating new sklearn objects! Carry the data through the feature scaling, PCA, and clustering steps, obtaining cluster assignments for all of the data in the customer demographics data."
   ]
  },
  {
   "cell_type": "code",
   "execution_count": 99,
   "metadata": {},
   "outputs": [],
   "source": [
    "# Load in the customer demographics data.\n",
    "customer_df = pd.read_csv(\"Udacity_CUSTOMERS_Subset.csv\", sep=\";\")"
   ]
  },
  {
   "cell_type": "code",
   "execution_count": 100,
   "metadata": {},
   "outputs": [
    {
     "name": "stderr",
     "output_type": "stream",
     "text": [
      "/opt/conda/lib/python3.6/site-packages/ipykernel_launcher.py:53: SettingWithCopyWarning: \n",
      "A value is trying to be set on a copy of a slice from a DataFrame\n",
      "\n",
      "See the caveats in the documentation: http://pandas.pydata.org/pandas-docs/stable/indexing.html#indexing-view-versus-copy\n",
      "/opt/conda/lib/python3.6/site-packages/ipykernel_launcher.py:54: SettingWithCopyWarning: \n",
      "A value is trying to be set on a copy of a slice from a DataFrame\n",
      "\n",
      "See the caveats in the documentation: http://pandas.pydata.org/pandas-docs/stable/indexing.html#indexing-view-versus-copy\n",
      "/opt/conda/lib/python3.6/site-packages/pandas/core/indexing.py:189: SettingWithCopyWarning: \n",
      "A value is trying to be set on a copy of a slice from a DataFrame\n",
      "\n",
      "See the caveats in the documentation: http://pandas.pydata.org/pandas-docs/stable/indexing.html#indexing-view-versus-copy\n",
      "  self._setitem_with_indexer(indexer, value)\n",
      "/opt/conda/lib/python3.6/site-packages/ipykernel_launcher.py:3: SettingWithCopyWarning: \n",
      "A value is trying to be set on a copy of a slice from a DataFrame.\n",
      "Try using .loc[row_indexer,col_indexer] = value instead\n",
      "\n",
      "See the caveats in the documentation: http://pandas.pydata.org/pandas-docs/stable/indexing.html#indexing-view-versus-copy\n",
      "  This is separate from the ipykernel package so we can avoid doing imports until\n"
     ]
    }
   ],
   "source": [
    "# Apply preprocessing, feature transformation, and clustering from the general\n",
    "# demographics onto the customer data, obtaining cluster predictions for the\n",
    "# customer demographics data.\n",
    "cust_df_copy = clean_data(customer_df, col_list)"
   ]
  },
  {
   "cell_type": "code",
   "execution_count": 101,
   "metadata": {},
   "outputs": [
    {
     "data": {
      "text/plain": [
       "'\\ncust_df_test = cust_df_copy.astype(float)\\nimp = Imputer(strategy=\"mean\")\\ncust_df_test_imputed = imp.fit_transform(cust_df_test)\\nfeat_scale = StandardScaler(with_mean=0, with_std=1)\\nfeat_scale.fit_transform(cust_df_test_imputed)\\n\\npca2, X_pca2 = run_pca(5, cust_df_test_imputed)\\n\\ncust_pred = kaz_model.predict(X_pca2)\\n'"
      ]
     },
     "execution_count": 101,
     "metadata": {},
     "output_type": "execute_result"
    }
   ],
   "source": [
    "\"\"\"\n",
    "cust_df_test = cust_df_copy.astype(float)\n",
    "imp = Imputer(strategy=\"mean\")\n",
    "cust_df_test_imputed = imp.fit_transform(cust_df_test)\n",
    "feat_scale = StandardScaler(with_mean=0, with_std=1)\n",
    "feat_scale.fit_transform(cust_df_test_imputed)\n",
    "\n",
    "pca2, X_pca2 = run_pca(5, cust_df_test_imputed)\n",
    "\n",
    "cust_pred = kaz_model.predict(X_pca2)\n",
    "\"\"\""
   ]
  },
  {
   "cell_type": "code",
   "execution_count": 102,
   "metadata": {},
   "outputs": [],
   "source": [
    "cust_df_test = cust_df_copy.astype(float)\n",
    "cust_df_test_imputed = imp.transform(cust_df_test)\n",
    "\n",
    "cust_set = feat_scale.transform(cust_df_test_imputed)\n",
    "\n",
    "X_pca2 = pca.transform(cust_set)\n",
    "#cust_pred = KMeans(n_clusters=9, random_state = 15).predict(X_pca2)\n",
    "cust_pred = kaz_model.predict(X_pca2)"
   ]
  },
  {
   "cell_type": "markdown",
   "metadata": {},
   "source": [
    "### Step 3.3: Compare Customer Data to Demographics Data\n",
    "\n",
    "At this point, you have clustered data based on demographics of the general population of Germany, and seen how the customer data for a mail-order sales company maps onto those demographic clusters. In this final substep, you will compare the two cluster distributions to see where the strongest customer base for the company is.\n",
    "\n",
    "Consider the proportion of persons in each cluster for the general population, and the proportions for the customers. If we think the company's customer base to be universal, then the cluster assignment proportions should be fairly similar between the two. If there are only particular segments of the population that are interested in the company's products, then we should see a mismatch from one to the other. If there is a higher proportion of persons in a cluster for the customer data compared to the general population (e.g. 5% of persons are assigned to a cluster for the general population, but 15% of the customer data is closest to that cluster's centroid) then that suggests the people in that cluster to be a target audience for the company. On the other hand, the proportion of the data in a cluster being larger in the general population than the customer data (e.g. only 2% of customers closest to a population centroid that captures 6% of the data) suggests that group of persons to be outside of the target demographics.\n",
    "\n",
    "Take a look at the following points in this step:\n",
    "\n",
    "- Compute the proportion of data points in each cluster for the general population and the customer data. Visualizations will be useful here: both for the individual dataset proportions, but also to visualize the ratios in cluster representation between groups. Seaborn's [`countplot()`](https://seaborn.pydata.org/generated/seaborn.countplot.html) or [`barplot()`](https://seaborn.pydata.org/generated/seaborn.barplot.html) function could be handy.\n",
    "  - Recall the analysis you performed in step 1.1.3 of the project, where you separated out certain data points from the dataset if they had more than a specified threshold of missing values. If you found that this group was qualitatively different from the main bulk of the data, you should treat this as an additional data cluster in this analysis. Make sure that you account for the number of data points in this subset, for both the general population and customer datasets, when making your computations!\n",
    "- Which cluster or clusters are overrepresented in the customer dataset compared to the general population? Select at least one such cluster and infer what kind of people might be represented by that cluster. Use the principal component interpretations from step 2.3 or look at additional components to help you make this inference. Alternatively, you can use the `.inverse_transform()` method of the PCA and StandardScaler objects to transform centroids back to the original data space and interpret the retrieved values directly.\n",
    "- Perform a similar investigation for the underrepresented clusters. Which cluster or clusters are underrepresented in the customer dataset compared to the general population, and what kinds of people are typified by these clusters?"
   ]
  },
  {
   "cell_type": "code",
   "execution_count": 150,
   "metadata": {},
   "outputs": [],
   "source": [
    "df_az_pred = pd.DataFrame(az_pred)\n",
    "df_cust_pred = pd.DataFrame(cust_pred)"
   ]
  },
  {
   "cell_type": "code",
   "execution_count": 151,
   "metadata": {},
   "outputs": [],
   "source": [
    "df_az_pred = df_az_pred.rename(columns={0:'clusters'})\n",
    "df_cust_pred = df_cust_pred.rename(columns={0:'clusters'})"
   ]
  },
  {
   "cell_type": "code",
   "execution_count": 152,
   "metadata": {},
   "outputs": [
    {
     "data": {
      "image/png": "[encoded data removed]",
      "text/plain": [
       "<matplotlib.figure.Figure at 0x7fd36b246c18>"
      ]
     },
     "metadata": {
      "needs_background": "light"
     },
     "output_type": "display_data"
    }
   ],
   "source": [
    "# Compare the proportion of data in each cluster for the customer data to the\n",
    "# proportion of data in each cluster for the general population.\n",
    "\n",
    "sns.countplot(x='clusters', data=df_az_pred)\n",
    "\n",
    "plt.show()"
   ]
  },
  {
   "cell_type": "code",
   "execution_count": 153,
   "metadata": {},
   "outputs": [
    {
     "data": {
      "image/png": "[encoded data removed]",
      "text/plain": [
       "<matplotlib.figure.Figure at 0x7fd36af93080>"
      ]
     },
     "metadata": {
      "needs_background": "light"
     },
     "output_type": "display_data"
    }
   ],
   "source": [
    "sns.countplot(x='clusters', data=df_cust_pred)\n",
    "\n",
    "plt.show()"
   ]
  },
  {
   "cell_type": "code",
   "execution_count": 105,
   "metadata": {},
   "outputs": [],
   "source": [
    "def calc_weights_cust(x, pca): \n",
    "    column_list = cust_df_copy.columns.values.tolist()\n",
    "\n",
    "    df = pd.DataFrame(pca.components_,  columns = column_list)\n",
    "    weights = df.iloc[x].sort_values(ascending=False)\n",
    "\n",
    "    return weights"
   ]
  },
  {
   "cell_type": "code",
   "execution_count": 106,
   "metadata": {},
   "outputs": [
    {
     "data": {
      "text/plain": [
       "rs_low_income_earners    0.188517\n",
       "HH_EINKOMMEN_SCORE       0.180134\n",
       "household                0.179783\n",
       "PLZ8_ANTG3               0.179084\n",
       "PLZ8_ANTG4               0.173854\n",
       "Name: 0, dtype: float64"
      ]
     },
     "execution_count": 106,
     "metadata": {},
     "output_type": "execute_result"
    }
   ],
   "source": [
    "# What kinds of people are part of a cluster that is overrepresented in the\n",
    "# customer data compared to the general population?\n",
    "calc_weights_cust(0, pca).head()"
   ]
  },
  {
   "cell_type": "code",
   "execution_count": 107,
   "metadata": {},
   "outputs": [
    {
     "data": {
      "text/plain": [
       "rs_low_income_earners    0.188517\n",
       "HH_EINKOMMEN_SCORE       0.180134\n",
       "household                0.179783\n",
       "PLZ8_ANTG3               0.179084\n",
       "PLZ8_ANTG4               0.173854\n",
       "Name: 0, dtype: float64"
      ]
     },
     "execution_count": 107,
     "metadata": {},
     "output_type": "execute_result"
    }
   ],
   "source": [
    "calc_weights(0, pca).head()"
   ]
  },
  {
   "cell_type": "code",
   "execution_count": 108,
   "metadata": {},
   "outputs": [
    {
     "data": {
      "text/plain": [
       "SEMIO_VERT    0.315477\n",
       "SEMIO_FAM     0.255283\n",
       "SEMIO_SOZ     0.254594\n",
       "SEMIO_KULT    0.246931\n",
       "investor      0.136701\n",
       "Name: 2, dtype: float64"
      ]
     },
     "execution_count": 108,
     "metadata": {},
     "output_type": "execute_result"
    }
   ],
   "source": [
    "# What kinds of people are part of a cluster that is underrepresented in the\n",
    "# customer data compared to the general population?\n",
    "calc_weights_cust(2, pca).head()"
   ]
  },
  {
   "cell_type": "code",
   "execution_count": 109,
   "metadata": {},
   "outputs": [
    {
     "data": {
      "text/plain": [
       "SEMIO_VERT    0.315477\n",
       "SEMIO_FAM     0.255283\n",
       "SEMIO_SOZ     0.254594\n",
       "SEMIO_KULT    0.246931\n",
       "investor      0.136701\n",
       "Name: 2, dtype: float64"
      ]
     },
     "execution_count": 109,
     "metadata": {},
     "output_type": "execute_result"
    }
   ],
   "source": [
    "calc_weights(2, pca).head()"
   ]
  },
  {
   "cell_type": "markdown",
   "metadata": {},
   "source": [
    "### Discussion 3.3: Compare Customer Data to Demographics Data\n",
    "Looking at our clusters we do see that there are two that stand out. The first cluster makes up a larger portion of the customer dataset than the general population dataset while the 2nd cluster makes up a larger portion of the general population as opposed to the customer set. \n",
    "\n",
    "Below are the sets that make up the first cluster more in the customer dataset as opposed to the general population: <br>\n",
    "FINANZ_HAUSBAUER | Home Ownership <br>\n",
    "PLZ8_ANTG3 | Region w/ 6-10 family houses<br>\n",
    "PLZ8_BAUMAX | Common building type<br>\n",
    "PLZ8_ANTG4 | Region w/ 10 family houses<br>\n",
    "HH_EINKOMMEN_SCORE | Estimated Household net income<br>\n",
    "\n",
    "This cluster would appear to show customers that own their home and live in areas with lot of family houses. The two clusters are fairly similiar but make up a heavier part of the dataset for customers. \n",
    "\n",
    "For the 3rd cluster: \n",
    "\n",
    "Customers: <br>\n",
    "FINANZ_SPARER | Financial trait money-saver<br>\n",
    "decade | Decade of person's dominating movement<br>\n",
    "FINANZ_ANLEGER | investor<br>\n",
    "SEMIO_PFLICHT | Personality trait dutiful<br>\n",
    "SEMIO_RAT | Personality trait rational<br>\n",
    "\n",
    "Population:<br>\n",
    "SEMIO_VERT | Personality trait Dreamer<br>\n",
    "SEMIO_SOZ | Personality trait Socially-minded<br>\n",
    "SEMIO_FAM | Personality trait Family-minded<br>\n",
    "SEMIO_KULT | Personality trait Cultural minded<br>\n",
    "FINANZ_MINIMALIST | Finanicial trait low financial interest<br>\n",
    "\n",
    "It would appear that there is a large difference between the kind of person in the general population for this cluster as opposed to the customer base. This cluster for the shows a customer base of probably more traditional, high income workers while the the population set has more family oriented, probably more lower-middle class workers. The one thing that seems to be showing in the data is that individuals with higher incomes and more financial discipline are more likely to be customers of this company than other individuals within the general population. With this information, the company should look to find individuals in the upper income scale to focus on as opposed to those in lower income brackets. "
   ]
  },
  {
   "cell_type": "markdown",
   "metadata": {},
   "source": [
    "> Congratulations on making it this far in the project! Before you finish, make sure to check through the entire notebook from top to bottom to make sure that your analysis follows a logical flow and all of your findings are documented in **Discussion** cells. Once you've checked over all of your work, you should export the notebook as an HTML document to submit for evaluation. You can do this from the menu, navigating to **File -> Download as -> HTML (.html)**. You will submit both that document and this notebook for your project submission."
   ]
  },
  {
   "cell_type": "code",
   "execution_count": null,
   "metadata": {},
   "outputs": [],
   "source": []
  }
 ],
 "metadata": {
  "kernelspec": {
   "display_name": "Python 3",
   "language": "python",
   "name": "python3"
  },
  "language_info": {
   "codemirror_mode": {
    "name": "ipython",
    "version": 3
   },
   "file_extension": ".py",
   "mimetype": "text/x-python",
   "name": "python",
   "nbconvert_exporter": "python",
   "pygments_lexer": "ipython3",
   "version": "3.6.3"
  }
 },
 "nbformat": 4,
 "nbformat_minor": 2
}
