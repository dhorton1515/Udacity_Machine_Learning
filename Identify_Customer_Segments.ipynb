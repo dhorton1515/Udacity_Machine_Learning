{
 "cells": [
  {
   "cell_type": "markdown",
   "metadata": {},
   "source": [
    "# Project: Identify Customer Segments\n",
    "\n",
    "In this project, you will apply unsupervised learning techniques to identify segments of the population that form the core customer base for a mail-order sales company in Germany. These segments can then be used to direct marketing campaigns towards audiences that will have the highest expected rate of returns. The data that you will use has been provided by our partners at Bertelsmann Arvato Analytics, and represents a real-life data science task.\n",
    "\n",
    "This notebook will help you complete this task by providing a framework within which you will perform your analysis steps. In each step of the project, you will see some text describing the subtask that you will perform, followed by one or more code cells for you to complete your work. **Feel free to add additional code and markdown cells as you go along so that you can explore everything in precise chunks.** The code cells provided in the base template will outline only the major tasks, and will usually not be enough to cover all of the minor tasks that comprise it.\n",
    "\n",
    "It should be noted that while there will be precise guidelines on how you should handle certain tasks in the project, there will also be places where an exact specification is not provided. **There will be times in the project where you will need to make and justify your own decisions on how to treat the data.** These are places where there may not be only one way to handle the data. In real-life tasks, there may be many valid ways to approach an analysis task. One of the most important things you can do is clearly document your approach so that other scientists can understand the decisions you've made.\n",
    "\n",
    "At the end of most sections, there will be a Markdown cell labeled **Discussion**. In these cells, you will report your findings for the completed section, as well as document the decisions that you made in your approach to each subtask. **Your project will be evaluated not just on the code used to complete the tasks outlined, but also your communication about your observations and conclusions at each stage.**"
   ]
  },
  {
   "cell_type": "code",
   "execution_count": 2,
   "metadata": {},
   "outputs": [
    {
     "data": {
      "text/plain": [
       "\"'\\nImport note: The classroom currently uses sklearn version 0.19.\\nIf you need to use an imputer, it is available in sklearn.preprocessing.Imputer,\\ninstead of sklearn.impute as in newer versions of sklearn.\\n\""
      ]
     },
     "execution_count": 2,
     "metadata": {},
     "output_type": "execute_result"
    }
   ],
   "source": [
    "# import libraries here; add more as necessary\n",
    "import numpy as np\n",
    "import pandas as pd\n",
    "import matplotlib.pyplot as plt\n",
    "import seaborn as sns\n",
    "\n",
    "# magic word for producing visualizations in notebook\n",
    "%matplotlib inline\n",
    "\n",
    "''''\n",
    "Import note: The classroom currently uses sklearn version 0.19.\n",
    "If you need to use an imputer, it is available in sklearn.preprocessing.Imputer,\n",
    "instead of sklearn.impute as in newer versions of sklearn.\n",
    "'''"
   ]
  },
  {
   "cell_type": "markdown",
   "metadata": {},
   "source": [
    "### Step 0: Load the Data\n",
    "\n",
    "There are four files associated with this project (not including this one):\n",
    "\n",
    "- `Udacity_AZDIAS_Subset.csv`: Demographics data for the general population of Germany; 891211 persons (rows) x 85 features (columns).\n",
    "- `Udacity_CUSTOMERS_Subset.csv`: Demographics data for customers of a mail-order company; 191652 persons (rows) x 85 features (columns).\n",
    "- `Data_Dictionary.md`: Detailed information file about the features in the provided datasets.\n",
    "- `AZDIAS_Feature_Summary.csv`: Summary of feature attributes for demographics data; 85 features (rows) x 4 columns\n",
    "\n",
    "Each row of the demographics files represents a single person, but also includes information outside of individuals, including information about their household, building, and neighborhood. You will use this information to cluster the general population into groups with similar demographic properties. Then, you will see how the people in the customers dataset fit into those created clusters. The hope here is that certain clusters are over-represented in the customers data, as compared to the general population; those over-represented clusters will be assumed to be part of the core userbase. This information can then be used for further applications, such as targeting for a marketing campaign.\n",
    "\n",
    "To start off with, load in the demographics data for the general population into a pandas DataFrame, and do the same for the feature attributes summary. Note for all of the `.csv` data files in this project: they're semicolon (`;`) delimited, so you'll need an additional argument in your [`read_csv()`](https://pandas.pydata.org/pandas-docs/stable/generated/pandas.read_csv.html) call to read in the data properly. Also, considering the size of the main dataset, it may take some time for it to load completely.\n",
    "\n",
    "Once the dataset is loaded, it's recommended that you take a little bit of time just browsing the general structure of the dataset and feature summary file. You'll be getting deep into the innards of the cleaning in the first major step of the project, so gaining some general familiarity can help you get your bearings."
   ]
  },
  {
   "cell_type": "code",
   "execution_count": 3,
   "metadata": {},
   "outputs": [],
   "source": [
    "# Load in the general demographics data.\n",
    "azdias = pd.read_csv(\"Udacity_AZDIAS_Subset.csv\", sep=\";\")\n",
    "\n",
    "# Load in the feature summary file.\n",
    "feat_info = pd.read_csv(\"AZDIAS_Feature_Summary.csv\", sep=\";\")"
   ]
  },
  {
   "cell_type": "code",
   "execution_count": 4,
   "metadata": {},
   "outputs": [
    {
     "data": {
      "text/html": [
       "<div>\n",
       "<style scoped>\n",
       "    .dataframe tbody tr th:only-of-type {\n",
       "        vertical-align: middle;\n",
       "    }\n",
       "\n",
       "    .dataframe tbody tr th {\n",
       "        vertical-align: top;\n",
       "    }\n",
       "\n",
       "    .dataframe thead th {\n",
       "        text-align: right;\n",
       "    }\n",
       "</style>\n",
       "<table border=\"1\" class=\"dataframe\">\n",
       "  <thead>\n",
       "    <tr style=\"text-align: right;\">\n",
       "      <th></th>\n",
       "      <th>attribute</th>\n",
       "      <th>information_level</th>\n",
       "      <th>type</th>\n",
       "      <th>missing_or_unknown</th>\n",
       "    </tr>\n",
       "  </thead>\n",
       "  <tbody>\n",
       "    <tr>\n",
       "      <th>0</th>\n",
       "      <td>AGER_TYP</td>\n",
       "      <td>person</td>\n",
       "      <td>categorical</td>\n",
       "      <td>[-1,0]</td>\n",
       "    </tr>\n",
       "    <tr>\n",
       "      <th>1</th>\n",
       "      <td>ALTERSKATEGORIE_GROB</td>\n",
       "      <td>person</td>\n",
       "      <td>ordinal</td>\n",
       "      <td>[-1,0,9]</td>\n",
       "    </tr>\n",
       "    <tr>\n",
       "      <th>2</th>\n",
       "      <td>ANREDE_KZ</td>\n",
       "      <td>person</td>\n",
       "      <td>categorical</td>\n",
       "      <td>[-1,0]</td>\n",
       "    </tr>\n",
       "    <tr>\n",
       "      <th>3</th>\n",
       "      <td>CJT_GESAMTTYP</td>\n",
       "      <td>person</td>\n",
       "      <td>categorical</td>\n",
       "      <td>[0]</td>\n",
       "    </tr>\n",
       "    <tr>\n",
       "      <th>4</th>\n",
       "      <td>FINANZ_MINIMALIST</td>\n",
       "      <td>person</td>\n",
       "      <td>ordinal</td>\n",
       "      <td>[-1]</td>\n",
       "    </tr>\n",
       "  </tbody>\n",
       "</table>\n",
       "</div>"
      ],
      "text/plain": [
       "              attribute information_level         type missing_or_unknown\n",
       "0              AGER_TYP            person  categorical             [-1,0]\n",
       "1  ALTERSKATEGORIE_GROB            person      ordinal           [-1,0,9]\n",
       "2             ANREDE_KZ            person  categorical             [-1,0]\n",
       "3         CJT_GESAMTTYP            person  categorical                [0]\n",
       "4     FINANZ_MINIMALIST            person      ordinal               [-1]"
      ]
     },
     "execution_count": 4,
     "metadata": {},
     "output_type": "execute_result"
    }
   ],
   "source": [
    "# Check the structure of the data after it's loaded (e.g. print the number of\n",
    "# rows and columns, print the first few rows).\n",
    "feat_info.head()"
   ]
  },
  {
   "cell_type": "code",
   "execution_count": 5,
   "metadata": {},
   "outputs": [
    {
     "name": "stdout",
     "output_type": "stream",
     "text": [
      "<class 'pandas.core.frame.DataFrame'>\n",
      "RangeIndex: 85 entries, 0 to 84\n",
      "Data columns (total 4 columns):\n",
      "attribute             85 non-null object\n",
      "information_level     85 non-null object\n",
      "type                  85 non-null object\n",
      "missing_or_unknown    85 non-null object\n",
      "dtypes: object(4)\n",
      "memory usage: 2.7+ KB\n"
     ]
    }
   ],
   "source": [
    "feat_info.info()"
   ]
  },
  {
   "cell_type": "code",
   "execution_count": 6,
   "metadata": {},
   "outputs": [
    {
     "data": {
      "text/html": [
       "<div>\n",
       "<style scoped>\n",
       "    .dataframe tbody tr th:only-of-type {\n",
       "        vertical-align: middle;\n",
       "    }\n",
       "\n",
       "    .dataframe tbody tr th {\n",
       "        vertical-align: top;\n",
       "    }\n",
       "\n",
       "    .dataframe thead th {\n",
       "        text-align: right;\n",
       "    }\n",
       "</style>\n",
       "<table border=\"1\" class=\"dataframe\">\n",
       "  <thead>\n",
       "    <tr style=\"text-align: right;\">\n",
       "      <th></th>\n",
       "      <th>AGER_TYP</th>\n",
       "      <th>ALTERSKATEGORIE_GROB</th>\n",
       "      <th>ANREDE_KZ</th>\n",
       "      <th>CJT_GESAMTTYP</th>\n",
       "      <th>FINANZ_MINIMALIST</th>\n",
       "      <th>FINANZ_SPARER</th>\n",
       "      <th>FINANZ_VORSORGER</th>\n",
       "      <th>FINANZ_ANLEGER</th>\n",
       "      <th>FINANZ_UNAUFFAELLIGER</th>\n",
       "      <th>FINANZ_HAUSBAUER</th>\n",
       "      <th>...</th>\n",
       "      <th>PLZ8_ANTG1</th>\n",
       "      <th>PLZ8_ANTG2</th>\n",
       "      <th>PLZ8_ANTG3</th>\n",
       "      <th>PLZ8_ANTG4</th>\n",
       "      <th>PLZ8_BAUMAX</th>\n",
       "      <th>PLZ8_HHZ</th>\n",
       "      <th>PLZ8_GBZ</th>\n",
       "      <th>ARBEIT</th>\n",
       "      <th>ORTSGR_KLS9</th>\n",
       "      <th>RELAT_AB</th>\n",
       "    </tr>\n",
       "  </thead>\n",
       "  <tbody>\n",
       "    <tr>\n",
       "      <th>0</th>\n",
       "      <td>-1</td>\n",
       "      <td>2</td>\n",
       "      <td>1</td>\n",
       "      <td>2.0</td>\n",
       "      <td>3</td>\n",
       "      <td>4</td>\n",
       "      <td>3</td>\n",
       "      <td>5</td>\n",
       "      <td>5</td>\n",
       "      <td>3</td>\n",
       "      <td>...</td>\n",
       "      <td>NaN</td>\n",
       "      <td>NaN</td>\n",
       "      <td>NaN</td>\n",
       "      <td>NaN</td>\n",
       "      <td>NaN</td>\n",
       "      <td>NaN</td>\n",
       "      <td>NaN</td>\n",
       "      <td>NaN</td>\n",
       "      <td>NaN</td>\n",
       "      <td>NaN</td>\n",
       "    </tr>\n",
       "    <tr>\n",
       "      <th>1</th>\n",
       "      <td>-1</td>\n",
       "      <td>1</td>\n",
       "      <td>2</td>\n",
       "      <td>5.0</td>\n",
       "      <td>1</td>\n",
       "      <td>5</td>\n",
       "      <td>2</td>\n",
       "      <td>5</td>\n",
       "      <td>4</td>\n",
       "      <td>5</td>\n",
       "      <td>...</td>\n",
       "      <td>2.0</td>\n",
       "      <td>3.0</td>\n",
       "      <td>2.0</td>\n",
       "      <td>1.0</td>\n",
       "      <td>1.0</td>\n",
       "      <td>5.0</td>\n",
       "      <td>4.0</td>\n",
       "      <td>3.0</td>\n",
       "      <td>5.0</td>\n",
       "      <td>4.0</td>\n",
       "    </tr>\n",
       "    <tr>\n",
       "      <th>2</th>\n",
       "      <td>-1</td>\n",
       "      <td>3</td>\n",
       "      <td>2</td>\n",
       "      <td>3.0</td>\n",
       "      <td>1</td>\n",
       "      <td>4</td>\n",
       "      <td>1</td>\n",
       "      <td>2</td>\n",
       "      <td>3</td>\n",
       "      <td>5</td>\n",
       "      <td>...</td>\n",
       "      <td>3.0</td>\n",
       "      <td>3.0</td>\n",
       "      <td>1.0</td>\n",
       "      <td>0.0</td>\n",
       "      <td>1.0</td>\n",
       "      <td>4.0</td>\n",
       "      <td>4.0</td>\n",
       "      <td>3.0</td>\n",
       "      <td>5.0</td>\n",
       "      <td>2.0</td>\n",
       "    </tr>\n",
       "    <tr>\n",
       "      <th>3</th>\n",
       "      <td>2</td>\n",
       "      <td>4</td>\n",
       "      <td>2</td>\n",
       "      <td>2.0</td>\n",
       "      <td>4</td>\n",
       "      <td>2</td>\n",
       "      <td>5</td>\n",
       "      <td>2</td>\n",
       "      <td>1</td>\n",
       "      <td>2</td>\n",
       "      <td>...</td>\n",
       "      <td>2.0</td>\n",
       "      <td>2.0</td>\n",
       "      <td>2.0</td>\n",
       "      <td>0.0</td>\n",
       "      <td>1.0</td>\n",
       "      <td>3.0</td>\n",
       "      <td>4.0</td>\n",
       "      <td>2.0</td>\n",
       "      <td>3.0</td>\n",
       "      <td>3.0</td>\n",
       "    </tr>\n",
       "    <tr>\n",
       "      <th>4</th>\n",
       "      <td>-1</td>\n",
       "      <td>3</td>\n",
       "      <td>1</td>\n",
       "      <td>5.0</td>\n",
       "      <td>4</td>\n",
       "      <td>3</td>\n",
       "      <td>4</td>\n",
       "      <td>1</td>\n",
       "      <td>3</td>\n",
       "      <td>2</td>\n",
       "      <td>...</td>\n",
       "      <td>2.0</td>\n",
       "      <td>4.0</td>\n",
       "      <td>2.0</td>\n",
       "      <td>1.0</td>\n",
       "      <td>2.0</td>\n",
       "      <td>3.0</td>\n",
       "      <td>3.0</td>\n",
       "      <td>4.0</td>\n",
       "      <td>6.0</td>\n",
       "      <td>5.0</td>\n",
       "    </tr>\n",
       "  </tbody>\n",
       "</table>\n",
       "<p>5 rows × 85 columns</p>\n",
       "</div>"
      ],
      "text/plain": [
       "   AGER_TYP  ALTERSKATEGORIE_GROB  ANREDE_KZ  CJT_GESAMTTYP  \\\n",
       "0        -1                     2          1            2.0   \n",
       "1        -1                     1          2            5.0   \n",
       "2        -1                     3          2            3.0   \n",
       "3         2                     4          2            2.0   \n",
       "4        -1                     3          1            5.0   \n",
       "\n",
       "   FINANZ_MINIMALIST  FINANZ_SPARER  FINANZ_VORSORGER  FINANZ_ANLEGER  \\\n",
       "0                  3              4                 3               5   \n",
       "1                  1              5                 2               5   \n",
       "2                  1              4                 1               2   \n",
       "3                  4              2                 5               2   \n",
       "4                  4              3                 4               1   \n",
       "\n",
       "   FINANZ_UNAUFFAELLIGER  FINANZ_HAUSBAUER    ...     PLZ8_ANTG1  PLZ8_ANTG2  \\\n",
       "0                      5                 3    ...            NaN         NaN   \n",
       "1                      4                 5    ...            2.0         3.0   \n",
       "2                      3                 5    ...            3.0         3.0   \n",
       "3                      1                 2    ...            2.0         2.0   \n",
       "4                      3                 2    ...            2.0         4.0   \n",
       "\n",
       "   PLZ8_ANTG3  PLZ8_ANTG4  PLZ8_BAUMAX  PLZ8_HHZ  PLZ8_GBZ  ARBEIT  \\\n",
       "0         NaN         NaN          NaN       NaN       NaN     NaN   \n",
       "1         2.0         1.0          1.0       5.0       4.0     3.0   \n",
       "2         1.0         0.0          1.0       4.0       4.0     3.0   \n",
       "3         2.0         0.0          1.0       3.0       4.0     2.0   \n",
       "4         2.0         1.0          2.0       3.0       3.0     4.0   \n",
       "\n",
       "   ORTSGR_KLS9  RELAT_AB  \n",
       "0          NaN       NaN  \n",
       "1          5.0       4.0  \n",
       "2          5.0       2.0  \n",
       "3          3.0       3.0  \n",
       "4          6.0       5.0  \n",
       "\n",
       "[5 rows x 85 columns]"
      ]
     },
     "execution_count": 6,
     "metadata": {},
     "output_type": "execute_result"
    }
   ],
   "source": [
    "azdias.head()"
   ]
  },
  {
   "cell_type": "code",
   "execution_count": 7,
   "metadata": {},
   "outputs": [
    {
     "name": "stdout",
     "output_type": "stream",
     "text": [
      "<class 'pandas.core.frame.DataFrame'>\n",
      "RangeIndex: 891221 entries, 0 to 891220\n",
      "Data columns (total 85 columns):\n",
      "AGER_TYP                 891221 non-null int64\n",
      "ALTERSKATEGORIE_GROB     891221 non-null int64\n",
      "ANREDE_KZ                891221 non-null int64\n",
      "CJT_GESAMTTYP            886367 non-null float64\n",
      "FINANZ_MINIMALIST        891221 non-null int64\n",
      "FINANZ_SPARER            891221 non-null int64\n",
      "FINANZ_VORSORGER         891221 non-null int64\n",
      "FINANZ_ANLEGER           891221 non-null int64\n",
      "FINANZ_UNAUFFAELLIGER    891221 non-null int64\n",
      "FINANZ_HAUSBAUER         891221 non-null int64\n",
      "FINANZTYP                891221 non-null int64\n",
      "GEBURTSJAHR              891221 non-null int64\n",
      "GFK_URLAUBERTYP          886367 non-null float64\n",
      "GREEN_AVANTGARDE         891221 non-null int64\n",
      "HEALTH_TYP               891221 non-null int64\n",
      "LP_LEBENSPHASE_FEIN      886367 non-null float64\n",
      "LP_LEBENSPHASE_GROB      886367 non-null float64\n",
      "LP_FAMILIE_FEIN          886367 non-null float64\n",
      "LP_FAMILIE_GROB          886367 non-null float64\n",
      "LP_STATUS_FEIN           886367 non-null float64\n",
      "LP_STATUS_GROB           886367 non-null float64\n",
      "NATIONALITAET_KZ         891221 non-null int64\n",
      "PRAEGENDE_JUGENDJAHRE    891221 non-null int64\n",
      "RETOURTYP_BK_S           886367 non-null float64\n",
      "SEMIO_SOZ                891221 non-null int64\n",
      "SEMIO_FAM                891221 non-null int64\n",
      "SEMIO_REL                891221 non-null int64\n",
      "SEMIO_MAT                891221 non-null int64\n",
      "SEMIO_VERT               891221 non-null int64\n",
      "SEMIO_LUST               891221 non-null int64\n",
      "SEMIO_ERL                891221 non-null int64\n",
      "SEMIO_KULT               891221 non-null int64\n",
      "SEMIO_RAT                891221 non-null int64\n",
      "SEMIO_KRIT               891221 non-null int64\n",
      "SEMIO_DOM                891221 non-null int64\n",
      "SEMIO_KAEM               891221 non-null int64\n",
      "SEMIO_PFLICHT            891221 non-null int64\n",
      "SEMIO_TRADV              891221 non-null int64\n",
      "SHOPPER_TYP              891221 non-null int64\n",
      "SOHO_KZ                  817722 non-null float64\n",
      "TITEL_KZ                 817722 non-null float64\n",
      "VERS_TYP                 891221 non-null int64\n",
      "ZABEOTYP                 891221 non-null int64\n",
      "ALTER_HH                 817722 non-null float64\n",
      "ANZ_PERSONEN             817722 non-null float64\n",
      "ANZ_TITEL                817722 non-null float64\n",
      "HH_EINKOMMEN_SCORE       872873 non-null float64\n",
      "KK_KUNDENTYP             306609 non-null float64\n",
      "W_KEIT_KIND_HH           783619 non-null float64\n",
      "WOHNDAUER_2008           817722 non-null float64\n",
      "ANZ_HAUSHALTE_AKTIV      798073 non-null float64\n",
      "ANZ_HH_TITEL             794213 non-null float64\n",
      "GEBAEUDETYP              798073 non-null float64\n",
      "KONSUMNAEHE              817252 non-null float64\n",
      "MIN_GEBAEUDEJAHR         798073 non-null float64\n",
      "OST_WEST_KZ              798073 non-null object\n",
      "WOHNLAGE                 798073 non-null float64\n",
      "CAMEO_DEUG_2015          792242 non-null object\n",
      "CAMEO_DEU_2015           792242 non-null object\n",
      "CAMEO_INTL_2015          792242 non-null object\n",
      "KBA05_ANTG1              757897 non-null float64\n",
      "KBA05_ANTG2              757897 non-null float64\n",
      "KBA05_ANTG3              757897 non-null float64\n",
      "KBA05_ANTG4              757897 non-null float64\n",
      "KBA05_BAUMAX             757897 non-null float64\n",
      "KBA05_GBZ                757897 non-null float64\n",
      "BALLRAUM                 797481 non-null float64\n",
      "EWDICHTE                 797481 non-null float64\n",
      "INNENSTADT               797481 non-null float64\n",
      "GEBAEUDETYP_RASTER       798066 non-null float64\n",
      "KKK                      770025 non-null float64\n",
      "MOBI_REGIO               757897 non-null float64\n",
      "ONLINE_AFFINITAET        886367 non-null float64\n",
      "REGIOTYP                 770025 non-null float64\n",
      "KBA13_ANZAHL_PKW         785421 non-null float64\n",
      "PLZ8_ANTG1               774706 non-null float64\n",
      "PLZ8_ANTG2               774706 non-null float64\n",
      "PLZ8_ANTG3               774706 non-null float64\n",
      "PLZ8_ANTG4               774706 non-null float64\n",
      "PLZ8_BAUMAX              774706 non-null float64\n",
      "PLZ8_HHZ                 774706 non-null float64\n",
      "PLZ8_GBZ                 774706 non-null float64\n",
      "ARBEIT                   794005 non-null float64\n",
      "ORTSGR_KLS9              794005 non-null float64\n",
      "RELAT_AB                 794005 non-null float64\n",
      "dtypes: float64(49), int64(32), object(4)\n",
      "memory usage: 578.0+ MB\n"
     ]
    }
   ],
   "source": [
    "azdias.info()"
   ]
  },
  {
   "cell_type": "markdown",
   "metadata": {},
   "source": [
    "> **Tip**: Add additional cells to keep everything in reasonably-sized chunks! Keyboard shortcut `esc --> a` (press escape to enter command mode, then press the 'A' key) adds a new cell before the active cell, and `esc --> b` adds a new cell after the active cell. If you need to convert an active cell to a markdown cell, use `esc --> m` and to convert to a code cell, use `esc --> y`. \n",
    "\n",
    "## Step 1: Preprocessing\n",
    "\n",
    "### Step 1.1: Assess Missing Data\n",
    "\n",
    "The feature summary file contains a summary of properties for each demographics data column. You will use this file to help you make cleaning decisions during this stage of the project. First of all, you should assess the demographics data in terms of missing data. Pay attention to the following points as you perform your analysis, and take notes on what you observe. Make sure that you fill in the **Discussion** cell with your findings and decisions at the end of each step that has one!\n",
    "\n",
    "#### Step 1.1.1: Convert Missing Value Codes to NaNs\n",
    "The fourth column of the feature attributes summary (loaded in above as `feat_info`) documents the codes from the data dictionary that indicate missing or unknown data. While the file encodes this as a list (e.g. `[-1,0]`), this will get read in as a string object. You'll need to do a little bit of parsing to make use of it to identify and clean the data. Convert data that matches a 'missing' or 'unknown' value code into a numpy NaN value. You might want to see how much data takes on a 'missing' or 'unknown' code, and how much data is naturally missing, as a point of interest.\n",
    "\n",
    "**As one more reminder, you are encouraged to add additional cells to break up your analysis into manageable chunks.**"
   ]
  },
  {
   "cell_type": "code",
   "execution_count": 8,
   "metadata": {},
   "outputs": [],
   "source": [
    "# Identify missing or unknown data values and convert them to NaNs.\n",
    "azdias_dup = azdias.copy()\n",
    "\n",
    "for i, row in feat_info.iterrows():\n",
    "    column = feat_info['attribute'][i]\n",
    "    missing_unknown = feat_info['missing_or_unknown'][i]\n",
    "    options = missing_unknown.strip('][').split(',')\n",
    "    # Condition if there are no actual values in the missing_or_unknown field. \n",
    "    if options[0] != '':\n",
    "        j = 0\n",
    "        k = len(options)\n",
    "        while j < k:\n",
    "            # Determines the datatype of the current column in the azdias dataset so \n",
    "            # we can match it with the appropriate variable type of the value taken \n",
    "            # from the missing_or_unknown field. \n",
    "            if azdias_dup[column].dtype == 'object':\n",
    "                option_val = options[j]\n",
    "            elif azdias_dup[column].dtype == 'float64':\n",
    "                option_val = pd.to_numeric(options[j])\n",
    "            else:\n",
    "                option_val = int(options[j])\n",
    "            matches = azdias_dup[column] == option_val\n",
    "            azdias_dup.loc[matches, column] = np.NaN\n",
    "            j += 1"
   ]
  },
  {
   "cell_type": "code",
   "execution_count": null,
   "metadata": {},
   "outputs": [],
   "source": []
  },
  {
   "cell_type": "markdown",
   "metadata": {},
   "source": [
    "References: For strip.split function info: https://www.geeksforgeeks.org/python-convert-a-string-representation-of-list-into-list/\n",
    "For the iterate rows function: https://statisticsglobe.com/iterate-through-rows-pandas-dataframe-python\n"
   ]
  },
  {
   "cell_type": "markdown",
   "metadata": {},
   "source": [
    "#### Step 1.1.2: Assess Missing Data in Each Column\n",
    "\n",
    "How much missing data is present in each column? There are a few columns that are outliers in terms of the proportion of values that are missing. You will want to use matplotlib's [`hist()`](https://matplotlib.org/api/_as_gen/matplotlib.pyplot.hist.html) function to visualize the distribution of missing value counts to find these columns. Identify and document these columns. While some of these columns might have justifications for keeping or re-encoding the data, for this project you should just remove them from the dataframe. (Feel free to make remarks about these outlier columns in the discussion, however!)\n",
    "\n",
    "For the remaining features, are there any patterns in which columns have, or share, missing data?"
   ]
  },
  {
   "cell_type": "code",
   "execution_count": 9,
   "metadata": {},
   "outputs": [
    {
     "data": {
      "text/plain": [
       "<function matplotlib.pyplot.show(*args, **kw)>"
      ]
     },
     "execution_count": 9,
     "metadata": {},
     "output_type": "execute_result"
    },
    {
     "data": {
      "image/png": "[encoded data removed]",
      "text/plain": [
       "<matplotlib.figure.Figure at 0x7fcec1006b70>"
      ]
     },
     "metadata": {
      "needs_background": "light"
     },
     "output_type": "display_data"
    }
   ],
   "source": [
    "# Perform an assessment of how much missing data there is in each column of the\n",
    "plt.hist(azdias_dup.isnull())\n",
    "plt.legend\n",
    "plt.show"
   ]
  },
  {
   "cell_type": "code",
   "execution_count": 10,
   "metadata": {},
   "outputs": [],
   "source": [
    "null_temp = pd.DataFrame(azdias_dup.isnull().sum())\n",
    "null_temp.columns = ['Null_Count']"
   ]
  },
  {
   "cell_type": "code",
   "execution_count": 11,
   "metadata": {},
   "outputs": [
    {
     "data": {
      "text/html": [
       "<div>\n",
       "<style scoped>\n",
       "    .dataframe tbody tr th:only-of-type {\n",
       "        vertical-align: middle;\n",
       "    }\n",
       "\n",
       "    .dataframe tbody tr th {\n",
       "        vertical-align: top;\n",
       "    }\n",
       "\n",
       "    .dataframe thead th {\n",
       "        text-align: right;\n",
       "    }\n",
       "</style>\n",
       "<table border=\"1\" class=\"dataframe\">\n",
       "  <thead>\n",
       "    <tr style=\"text-align: right;\">\n",
       "      <th></th>\n",
       "      <th>Null_Count</th>\n",
       "    </tr>\n",
       "  </thead>\n",
       "  <tbody>\n",
       "    <tr>\n",
       "      <th>AGER_TYP</th>\n",
       "      <td>685843</td>\n",
       "    </tr>\n",
       "    <tr>\n",
       "      <th>GEBURTSJAHR</th>\n",
       "      <td>392318</td>\n",
       "    </tr>\n",
       "    <tr>\n",
       "      <th>TITEL_KZ</th>\n",
       "      <td>889061</td>\n",
       "    </tr>\n",
       "    <tr>\n",
       "      <th>ALTER_HH</th>\n",
       "      <td>310267</td>\n",
       "    </tr>\n",
       "    <tr>\n",
       "      <th>KK_KUNDENTYP</th>\n",
       "      <td>584612</td>\n",
       "    </tr>\n",
       "    <tr>\n",
       "      <th>KBA05_BAUMAX</th>\n",
       "      <td>476524</td>\n",
       "    </tr>\n",
       "  </tbody>\n",
       "</table>\n",
       "</div>"
      ],
      "text/plain": [
       "              Null_Count\n",
       "AGER_TYP          685843\n",
       "GEBURTSJAHR       392318\n",
       "TITEL_KZ          889061\n",
       "ALTER_HH          310267\n",
       "KK_KUNDENTYP      584612\n",
       "KBA05_BAUMAX      476524"
      ]
     },
     "execution_count": 11,
     "metadata": {},
     "output_type": "execute_result"
    }
   ],
   "source": [
    "null_temp.query('Null_Count > 200000')"
   ]
  },
  {
   "cell_type": "code",
   "execution_count": 12,
   "metadata": {},
   "outputs": [
    {
     "data": {
      "text/plain": [
       "2.0    98472\n",
       "1.0    79802\n",
       "3.0    27104\n",
       "Name: AGER_TYP, dtype: int64"
      ]
     },
     "execution_count": 12,
     "metadata": {},
     "output_type": "execute_result"
    }
   ],
   "source": [
    "# Investigate patterns in the amount of missing data in each column.\n",
    "azdias_dup['AGER_TYP'].value_counts()"
   ]
  },
  {
   "cell_type": "code",
   "execution_count": 13,
   "metadata": {},
   "outputs": [
    {
     "data": {
      "text/plain": [
       "1967.0    11183\n",
       "1965.0    11090\n",
       "1966.0    10933\n",
       "1970.0    10883\n",
       "1964.0    10799\n",
       "1968.0    10792\n",
       "1963.0    10513\n",
       "1969.0    10360\n",
       "1980.0    10275\n",
       "1962.0    10082\n",
       "1961.0     9880\n",
       "1971.0     9786\n",
       "1982.0     9516\n",
       "1978.0     9509\n",
       "1960.0     9492\n",
       "1979.0     9422\n",
       "1981.0     9374\n",
       "1977.0     9296\n",
       "1959.0     9098\n",
       "1972.0     9027\n",
       "1976.0     9005\n",
       "1983.0     8887\n",
       "1974.0     8676\n",
       "1984.0     8553\n",
       "1975.0     8480\n",
       "1973.0     8356\n",
       "1958.0     8323\n",
       "1986.0     8192\n",
       "1985.0     8180\n",
       "1957.0     8099\n",
       "          ...  \n",
       "2009.0      559\n",
       "2008.0      550\n",
       "2010.0      545\n",
       "2011.0      485\n",
       "1923.0      468\n",
       "2013.0      380\n",
       "1922.0      375\n",
       "1921.0      355\n",
       "2015.0      257\n",
       "1920.0      238\n",
       "1919.0      194\n",
       "2016.0      167\n",
       "2014.0      124\n",
       "1918.0       85\n",
       "1917.0       55\n",
       "1914.0       55\n",
       "1916.0       45\n",
       "1910.0       41\n",
       "1913.0       39\n",
       "1915.0       37\n",
       "1911.0       30\n",
       "1912.0       28\n",
       "1905.0        8\n",
       "1909.0        7\n",
       "1908.0        7\n",
       "1906.0        7\n",
       "1904.0        5\n",
       "1907.0        4\n",
       "1900.0        4\n",
       "1902.0        1\n",
       "Name: GEBURTSJAHR, Length: 116, dtype: int64"
      ]
     },
     "execution_count": 13,
     "metadata": {},
     "output_type": "execute_result"
    }
   ],
   "source": [
    "azdias_dup['GEBURTSJAHR'].value_counts()"
   ]
  },
  {
   "cell_type": "code",
   "execution_count": 14,
   "metadata": {},
   "outputs": [
    {
     "data": {
      "text/plain": [
       "1.0    1947\n",
       "5.0     104\n",
       "4.0      57\n",
       "3.0      49\n",
       "2.0       3\n",
       "Name: TITEL_KZ, dtype: int64"
      ]
     },
     "execution_count": 14,
     "metadata": {},
     "output_type": "execute_result"
    }
   ],
   "source": [
    "azdias_dup['TITEL_KZ'].value_counts()"
   ]
  },
  {
   "cell_type": "code",
   "execution_count": 15,
   "metadata": {},
   "outputs": [
    {
     "data": {
      "text/plain": [
       "18.0    60852\n",
       "17.0    55665\n",
       "19.0    52890\n",
       "15.0    51867\n",
       "16.0    51857\n",
       "14.0    44275\n",
       "21.0    41610\n",
       "20.0    40671\n",
       "13.0    37612\n",
       "12.0    34923\n",
       "10.0    30419\n",
       "11.0    27924\n",
       "9.0     22817\n",
       "8.0     13463\n",
       "7.0      8419\n",
       "6.0      3809\n",
       "5.0      1030\n",
       "4.0       603\n",
       "3.0       200\n",
       "2.0        47\n",
       "1.0         1\n",
       "Name: ALTER_HH, dtype: int64"
      ]
     },
     "execution_count": 15,
     "metadata": {},
     "output_type": "execute_result"
    }
   ],
   "source": [
    "azdias_dup['ALTER_HH'].value_counts()"
   ]
  },
  {
   "cell_type": "code",
   "execution_count": 16,
   "metadata": {},
   "outputs": [
    {
     "data": {
      "text/plain": [
       "3.0    65151\n",
       "2.0    62564\n",
       "5.0    48038\n",
       "4.0    44512\n",
       "6.0    44114\n",
       "1.0    42230\n",
       "Name: KK_KUNDENTYP, dtype: int64"
      ]
     },
     "execution_count": 16,
     "metadata": {},
     "output_type": "execute_result"
    }
   ],
   "source": [
    "azdias_dup['KK_KUNDENTYP'].value_counts()"
   ]
  },
  {
   "cell_type": "code",
   "execution_count": 17,
   "metadata": {},
   "outputs": [
    {
     "data": {
      "text/plain": [
       "1.0    208417\n",
       "5.0     98923\n",
       "3.0     59955\n",
       "4.0     37718\n",
       "2.0      9684\n",
       "Name: KBA05_BAUMAX, dtype: int64"
      ]
     },
     "execution_count": 17,
     "metadata": {},
     "output_type": "execute_result"
    }
   ],
   "source": [
    "azdias_dup['KBA05_BAUMAX'].value_counts()"
   ]
  },
  {
   "cell_type": "code",
   "execution_count": 18,
   "metadata": {},
   "outputs": [
    {
     "name": "stdout",
     "output_type": "stream",
     "text": [
      "<class 'pandas.core.frame.DataFrame'>\n",
      "RangeIndex: 891221 entries, 0 to 891220\n",
      "Data columns (total 79 columns):\n",
      "ALTERSKATEGORIE_GROB     888340 non-null float64\n",
      "ANREDE_KZ                891221 non-null float64\n",
      "CJT_GESAMTTYP            886367 non-null float64\n",
      "FINANZ_MINIMALIST        891221 non-null float64\n",
      "FINANZ_SPARER            891221 non-null float64\n",
      "FINANZ_VORSORGER         891221 non-null float64\n",
      "FINANZ_ANLEGER           891221 non-null float64\n",
      "FINANZ_UNAUFFAELLIGER    891221 non-null float64\n",
      "FINANZ_HAUSBAUER         891221 non-null float64\n",
      "FINANZTYP                891221 non-null float64\n",
      "GFK_URLAUBERTYP          886367 non-null float64\n",
      "GREEN_AVANTGARDE         891221 non-null int64\n",
      "HEALTH_TYP               780025 non-null float64\n",
      "LP_LEBENSPHASE_FEIN      793589 non-null float64\n",
      "LP_LEBENSPHASE_GROB      796649 non-null float64\n",
      "LP_FAMILIE_FEIN          813429 non-null float64\n",
      "LP_FAMILIE_GROB          813429 non-null float64\n",
      "LP_STATUS_FEIN           886367 non-null float64\n",
      "LP_STATUS_GROB           886367 non-null float64\n",
      "NATIONALITAET_KZ         782906 non-null float64\n",
      "PRAEGENDE_JUGENDJAHRE    783057 non-null float64\n",
      "RETOURTYP_BK_S           886367 non-null float64\n",
      "SEMIO_SOZ                891221 non-null float64\n",
      "SEMIO_FAM                891221 non-null float64\n",
      "SEMIO_REL                891221 non-null float64\n",
      "SEMIO_MAT                891221 non-null float64\n",
      "SEMIO_VERT               891221 non-null float64\n",
      "SEMIO_LUST               891221 non-null float64\n",
      "SEMIO_ERL                891221 non-null float64\n",
      "SEMIO_KULT               891221 non-null float64\n",
      "SEMIO_RAT                891221 non-null float64\n",
      "SEMIO_KRIT               891221 non-null float64\n",
      "SEMIO_DOM                891221 non-null float64\n",
      "SEMIO_KAEM               891221 non-null float64\n",
      "SEMIO_PFLICHT            891221 non-null float64\n",
      "SEMIO_TRADV              891221 non-null float64\n",
      "SHOPPER_TYP              780025 non-null float64\n",
      "SOHO_KZ                  817722 non-null float64\n",
      "VERS_TYP                 780025 non-null float64\n",
      "ZABEOTYP                 891221 non-null float64\n",
      "ANZ_PERSONEN             817722 non-null float64\n",
      "ANZ_TITEL                817722 non-null float64\n",
      "HH_EINKOMMEN_SCORE       872873 non-null float64\n",
      "W_KEIT_KIND_HH           743233 non-null float64\n",
      "WOHNDAUER_2008           817722 non-null float64\n",
      "ANZ_HAUSHALTE_AKTIV      791610 non-null float64\n",
      "ANZ_HH_TITEL             794213 non-null float64\n",
      "GEBAEUDETYP              798073 non-null float64\n",
      "KONSUMNAEHE              817252 non-null float64\n",
      "MIN_GEBAEUDEJAHR         798073 non-null float64\n",
      "OST_WEST_KZ              798073 non-null object\n",
      "WOHNLAGE                 798073 non-null float64\n",
      "CAMEO_DEUG_2015          791869 non-null object\n",
      "CAMEO_DEU_2015           791869 non-null object\n",
      "CAMEO_INTL_2015          791869 non-null object\n",
      "KBA05_ANTG1              757897 non-null float64\n",
      "KBA05_ANTG2              757897 non-null float64\n",
      "KBA05_ANTG3              757897 non-null float64\n",
      "KBA05_ANTG4              757897 non-null float64\n",
      "KBA05_GBZ                757897 non-null float64\n",
      "BALLRAUM                 797481 non-null float64\n",
      "EWDICHTE                 797481 non-null float64\n",
      "INNENSTADT               797481 non-null float64\n",
      "GEBAEUDETYP_RASTER       798066 non-null float64\n",
      "KKK                      733157 non-null float64\n",
      "MOBI_REGIO               757897 non-null float64\n",
      "ONLINE_AFFINITAET        886367 non-null float64\n",
      "REGIOTYP                 733157 non-null float64\n",
      "KBA13_ANZAHL_PKW         785421 non-null float64\n",
      "PLZ8_ANTG1               774706 non-null float64\n",
      "PLZ8_ANTG2               774706 non-null float64\n",
      "PLZ8_ANTG3               774706 non-null float64\n",
      "PLZ8_ANTG4               774706 non-null float64\n",
      "PLZ8_BAUMAX              774706 non-null float64\n",
      "PLZ8_HHZ                 774706 non-null float64\n",
      "PLZ8_GBZ                 774706 non-null float64\n",
      "ARBEIT                   793846 non-null float64\n",
      "ORTSGR_KLS9              793947 non-null float64\n",
      "RELAT_AB                 793846 non-null float64\n",
      "dtypes: float64(74), int64(1), object(4)\n",
      "memory usage: 537.2+ MB\n"
     ]
    }
   ],
   "source": [
    "# Remove the outlier columns from the dataset. (You'll perform other data\n",
    "# engineering tasks such as re-encoding and imputation later.)\n",
    "# azdias_dup.drop(['AGER_TYP', 'GEBURTSJAHR', 'TITEL_KZ', 'ALTER_HH', 'KK_KUNDENTYP', 'KBA05_BAUMAX'], axis=1)\n",
    "azdias_dup.pop('AGER_TYP')\n",
    "azdias_dup.pop('GEBURTSJAHR')\n",
    "azdias_dup.pop('TITEL_KZ')\n",
    "azdias_dup.pop('ALTER_HH')\n",
    "azdias_dup.pop('KK_KUNDENTYP')\n",
    "azdias_dup.pop('KBA05_BAUMAX')\n",
    "azdias_dup.info()"
   ]
  },
  {
   "cell_type": "markdown",
   "metadata": {},
   "source": [
    "#### Discussion 1.1.2: Assess Missing Data in Each Column\n",
    "\n",
    "(Double click this cell and replace this text with your own text, reporting your observations regarding the amount of missing data in each column. Are there any patterns in missing values? Which columns were removed from the dataset?)"
   ]
  },
  {
   "cell_type": "markdown",
   "metadata": {},
   "source": [
    "#### Step 1.1.3: Assess Missing Data in Each Row\n",
    "\n",
    "Now, you'll perform a similar assessment for the rows of the dataset. How much data is missing in each row? As with the columns, you should see some groups of points that have a very different numbers of missing values. Divide the data into two subsets: one for data points that are above some threshold for missing values, and a second subset for points below that threshold.\n",
    "\n",
    "In order to know what to do with the outlier rows, we should see if the distribution of data values on columns that are not missing data (or are missing very little data) are similar or different between the two groups. Select at least five of these columns and compare the distribution of values.\n",
    "- You can use seaborn's [`countplot()`](https://seaborn.pydata.org/generated/seaborn.countplot.html) function to create a bar chart of code frequencies and matplotlib's [`subplot()`](https://matplotlib.org/api/_as_gen/matplotlib.pyplot.subplot.html) function to put bar charts for the two subplots side by side.\n",
    "- To reduce repeated code, you might want to write a function that can perform this comparison, taking as one of its arguments a column to be compared.\n",
    "\n",
    "Depending on what you observe in your comparison, this will have implications on how you approach your conclusions later in the analysis. If the distributions of non-missing features look similar between the data with many missing values and the data with few or no missing values, then we could argue that simply dropping those points from the analysis won't present a major issue. On the other hand, if the data with many missing values looks very different from the data with few or no missing values, then we should make a note on those data as special. We'll revisit these data later on. **Either way, you should continue your analysis for now using just the subset of the data with few or no missing values.**"
   ]
  },
  {
   "cell_type": "code",
   "execution_count": 19,
   "metadata": {},
   "outputs": [
    {
     "data": {
      "text/html": [
       "<div>\n",
       "<style scoped>\n",
       "    .dataframe tbody tr th:only-of-type {\n",
       "        vertical-align: middle;\n",
       "    }\n",
       "\n",
       "    .dataframe tbody tr th {\n",
       "        vertical-align: top;\n",
       "    }\n",
       "\n",
       "    .dataframe thead th {\n",
       "        text-align: right;\n",
       "    }\n",
       "</style>\n",
       "<table border=\"1\" class=\"dataframe\">\n",
       "  <thead>\n",
       "    <tr style=\"text-align: right;\">\n",
       "      <th></th>\n",
       "      <th>null_count</th>\n",
       "    </tr>\n",
       "  </thead>\n",
       "  <tbody>\n",
       "    <tr>\n",
       "      <th>0</th>\n",
       "      <td>43</td>\n",
       "    </tr>\n",
       "    <tr>\n",
       "      <th>1</th>\n",
       "      <td>0</td>\n",
       "    </tr>\n",
       "    <tr>\n",
       "      <th>2</th>\n",
       "      <td>0</td>\n",
       "    </tr>\n",
       "    <tr>\n",
       "      <th>3</th>\n",
       "      <td>7</td>\n",
       "    </tr>\n",
       "    <tr>\n",
       "      <th>4</th>\n",
       "      <td>0</td>\n",
       "    </tr>\n",
       "  </tbody>\n",
       "</table>\n",
       "</div>"
      ],
      "text/plain": [
       "   null_count\n",
       "0          43\n",
       "1           0\n",
       "2           0\n",
       "3           7\n",
       "4           0"
      ]
     },
     "execution_count": 19,
     "metadata": {},
     "output_type": "execute_result"
    }
   ],
   "source": [
    "# How much data is missing in each row of the dataset?\n",
    "null_df = pd.DataFrame(azdias_dup.isnull().sum(axis=1))\n",
    "null_df.columns = ['null_count']\n",
    "null_df.head()"
   ]
  },
  {
   "cell_type": "code",
   "execution_count": 20,
   "metadata": {},
   "outputs": [
    {
     "data": {
      "text/html": [
       "<div>\n",
       "<style scoped>\n",
       "    .dataframe tbody tr th:only-of-type {\n",
       "        vertical-align: middle;\n",
       "    }\n",
       "\n",
       "    .dataframe tbody tr th {\n",
       "        vertical-align: top;\n",
       "    }\n",
       "\n",
       "    .dataframe thead th {\n",
       "        text-align: right;\n",
       "    }\n",
       "</style>\n",
       "<table border=\"1\" class=\"dataframe\">\n",
       "  <thead>\n",
       "    <tr style=\"text-align: right;\">\n",
       "      <th></th>\n",
       "      <th>null_count</th>\n",
       "    </tr>\n",
       "  </thead>\n",
       "  <tbody>\n",
       "    <tr>\n",
       "      <th>count</th>\n",
       "      <td>891221.000000</td>\n",
       "    </tr>\n",
       "    <tr>\n",
       "      <th>mean</th>\n",
       "      <td>5.649894</td>\n",
       "    </tr>\n",
       "    <tr>\n",
       "      <th>std</th>\n",
       "      <td>13.234687</td>\n",
       "    </tr>\n",
       "    <tr>\n",
       "      <th>min</th>\n",
       "      <td>0.000000</td>\n",
       "    </tr>\n",
       "    <tr>\n",
       "      <th>25%</th>\n",
       "      <td>0.000000</td>\n",
       "    </tr>\n",
       "    <tr>\n",
       "      <th>50%</th>\n",
       "      <td>0.000000</td>\n",
       "    </tr>\n",
       "    <tr>\n",
       "      <th>75%</th>\n",
       "      <td>3.000000</td>\n",
       "    </tr>\n",
       "    <tr>\n",
       "      <th>max</th>\n",
       "      <td>49.000000</td>\n",
       "    </tr>\n",
       "  </tbody>\n",
       "</table>\n",
       "</div>"
      ],
      "text/plain": [
       "          null_count\n",
       "count  891221.000000\n",
       "mean        5.649894\n",
       "std        13.234687\n",
       "min         0.000000\n",
       "25%         0.000000\n",
       "50%         0.000000\n",
       "75%         3.000000\n",
       "max        49.000000"
      ]
     },
     "execution_count": 20,
     "metadata": {},
     "output_type": "execute_result"
    }
   ],
   "source": [
    "null_df.describe()"
   ]
  },
  {
   "cell_type": "code",
   "execution_count": 21,
   "metadata": {},
   "outputs": [
    {
     "data": {
      "text/plain": [
       "0     623209\n",
       "47     45578\n",
       "2      27926\n",
       "43     27369\n",
       "8      24592\n",
       "5      22515\n",
       "3      17629\n",
       "1      15738\n",
       "6      13771\n",
       "7      13714\n",
       "4      12607\n",
       "34     10816\n",
       "10      5410\n",
       "15      4743\n",
       "35      3911\n",
       "13      3255\n",
       "9       3042\n",
       "33      2985\n",
       "16      2505\n",
       "14      2243\n",
       "19      1180\n",
       "11      1127\n",
       "12       766\n",
       "17       677\n",
       "37       538\n",
       "45       494\n",
       "18       428\n",
       "38       421\n",
       "41       356\n",
       "20       349\n",
       "32       206\n",
       "44       155\n",
       "21       150\n",
       "40       137\n",
       "23       132\n",
       "22       129\n",
       "36        84\n",
       "39        77\n",
       "24        69\n",
       "26        59\n",
       "25        55\n",
       "27        24\n",
       "42        21\n",
       "29        12\n",
       "30         6\n",
       "28         5\n",
       "31         3\n",
       "49         2\n",
       "48         1\n",
       "Name: null_count, dtype: int64"
      ]
     },
     "execution_count": 21,
     "metadata": {},
     "output_type": "execute_result"
    }
   ],
   "source": [
    "null_df['null_count'].value_counts()"
   ]
  },
  {
   "cell_type": "code",
   "execution_count": 22,
   "metadata": {},
   "outputs": [
    {
     "name": "stdout",
     "output_type": "stream",
     "text": [
      "<class 'pandas.core.frame.DataFrame'>\n",
      "RangeIndex: 891221 entries, 0 to 891220\n",
      "Data columns (total 80 columns):\n",
      "ALTERSKATEGORIE_GROB     888340 non-null float64\n",
      "ANREDE_KZ                891221 non-null float64\n",
      "CJT_GESAMTTYP            886367 non-null float64\n",
      "FINANZ_MINIMALIST        891221 non-null float64\n",
      "FINANZ_SPARER            891221 non-null float64\n",
      "FINANZ_VORSORGER         891221 non-null float64\n",
      "FINANZ_ANLEGER           891221 non-null float64\n",
      "FINANZ_UNAUFFAELLIGER    891221 non-null float64\n",
      "FINANZ_HAUSBAUER         891221 non-null float64\n",
      "FINANZTYP                891221 non-null float64\n",
      "GFK_URLAUBERTYP          886367 non-null float64\n",
      "GREEN_AVANTGARDE         891221 non-null int64\n",
      "HEALTH_TYP               780025 non-null float64\n",
      "LP_LEBENSPHASE_FEIN      793589 non-null float64\n",
      "LP_LEBENSPHASE_GROB      796649 non-null float64\n",
      "LP_FAMILIE_FEIN          813429 non-null float64\n",
      "LP_FAMILIE_GROB          813429 non-null float64\n",
      "LP_STATUS_FEIN           886367 non-null float64\n",
      "LP_STATUS_GROB           886367 non-null float64\n",
      "NATIONALITAET_KZ         782906 non-null float64\n",
      "PRAEGENDE_JUGENDJAHRE    783057 non-null float64\n",
      "RETOURTYP_BK_S           886367 non-null float64\n",
      "SEMIO_SOZ                891221 non-null float64\n",
      "SEMIO_FAM                891221 non-null float64\n",
      "SEMIO_REL                891221 non-null float64\n",
      "SEMIO_MAT                891221 non-null float64\n",
      "SEMIO_VERT               891221 non-null float64\n",
      "SEMIO_LUST               891221 non-null float64\n",
      "SEMIO_ERL                891221 non-null float64\n",
      "SEMIO_KULT               891221 non-null float64\n",
      "SEMIO_RAT                891221 non-null float64\n",
      "SEMIO_KRIT               891221 non-null float64\n",
      "SEMIO_DOM                891221 non-null float64\n",
      "SEMIO_KAEM               891221 non-null float64\n",
      "SEMIO_PFLICHT            891221 non-null float64\n",
      "SEMIO_TRADV              891221 non-null float64\n",
      "SHOPPER_TYP              780025 non-null float64\n",
      "SOHO_KZ                  817722 non-null float64\n",
      "VERS_TYP                 780025 non-null float64\n",
      "ZABEOTYP                 891221 non-null float64\n",
      "ANZ_PERSONEN             817722 non-null float64\n",
      "ANZ_TITEL                817722 non-null float64\n",
      "HH_EINKOMMEN_SCORE       872873 non-null float64\n",
      "W_KEIT_KIND_HH           743233 non-null float64\n",
      "WOHNDAUER_2008           817722 non-null float64\n",
      "ANZ_HAUSHALTE_AKTIV      791610 non-null float64\n",
      "ANZ_HH_TITEL             794213 non-null float64\n",
      "GEBAEUDETYP              798073 non-null float64\n",
      "KONSUMNAEHE              817252 non-null float64\n",
      "MIN_GEBAEUDEJAHR         798073 non-null float64\n",
      "OST_WEST_KZ              798073 non-null object\n",
      "WOHNLAGE                 798073 non-null float64\n",
      "CAMEO_DEUG_2015          791869 non-null object\n",
      "CAMEO_DEU_2015           791869 non-null object\n",
      "CAMEO_INTL_2015          791869 non-null object\n",
      "KBA05_ANTG1              757897 non-null float64\n",
      "KBA05_ANTG2              757897 non-null float64\n",
      "KBA05_ANTG3              757897 non-null float64\n",
      "KBA05_ANTG4              757897 non-null float64\n",
      "KBA05_GBZ                757897 non-null float64\n",
      "BALLRAUM                 797481 non-null float64\n",
      "EWDICHTE                 797481 non-null float64\n",
      "INNENSTADT               797481 non-null float64\n",
      "GEBAEUDETYP_RASTER       798066 non-null float64\n",
      "KKK                      733157 non-null float64\n",
      "MOBI_REGIO               757897 non-null float64\n",
      "ONLINE_AFFINITAET        886367 non-null float64\n",
      "REGIOTYP                 733157 non-null float64\n",
      "KBA13_ANZAHL_PKW         785421 non-null float64\n",
      "PLZ8_ANTG1               774706 non-null float64\n",
      "PLZ8_ANTG2               774706 non-null float64\n",
      "PLZ8_ANTG3               774706 non-null float64\n",
      "PLZ8_ANTG4               774706 non-null float64\n",
      "PLZ8_BAUMAX              774706 non-null float64\n",
      "PLZ8_HHZ                 774706 non-null float64\n",
      "PLZ8_GBZ                 774706 non-null float64\n",
      "ARBEIT                   793846 non-null float64\n",
      "ORTSGR_KLS9              793947 non-null float64\n",
      "RELAT_AB                 793846 non-null float64\n",
      "null_count               891221 non-null int64\n",
      "dtypes: float64(74), int64(2), object(4)\n",
      "memory usage: 544.0+ MB\n"
     ]
    }
   ],
   "source": [
    "# Write code to divide the data into two subsets based on the number of missing\n",
    "# values in each row.\n",
    "azdias_dup = pd.concat([azdias_dup, null_df], axis=1, join='inner')\n",
    "azdias_dup.info()\n",
    "\n",
    "# Reference: For concat function with dataframes: https://www.geeksforgeeks.org/how-to-combine-two-dataframe-in-python-pandas/"
   ]
  },
  {
   "cell_type": "code",
   "execution_count": 23,
   "metadata": {},
   "outputs": [
    {
     "name": "stdout",
     "output_type": "stream",
     "text": [
      "<class 'pandas.core.frame.DataFrame'>\n",
      "Int64Index: 623209 entries, 1 to 891220\n",
      "Data columns (total 80 columns):\n",
      "ALTERSKATEGORIE_GROB     623209 non-null float64\n",
      "ANREDE_KZ                623209 non-null float64\n",
      "CJT_GESAMTTYP            623209 non-null float64\n",
      "FINANZ_MINIMALIST        623209 non-null float64\n",
      "FINANZ_SPARER            623209 non-null float64\n",
      "FINANZ_VORSORGER         623209 non-null float64\n",
      "FINANZ_ANLEGER           623209 non-null float64\n",
      "FINANZ_UNAUFFAELLIGER    623209 non-null float64\n",
      "FINANZ_HAUSBAUER         623209 non-null float64\n",
      "FINANZTYP                623209 non-null float64\n",
      "GFK_URLAUBERTYP          623209 non-null float64\n",
      "GREEN_AVANTGARDE         623209 non-null int64\n",
      "HEALTH_TYP               623209 non-null float64\n",
      "LP_LEBENSPHASE_FEIN      623209 non-null float64\n",
      "LP_LEBENSPHASE_GROB      623209 non-null float64\n",
      "LP_FAMILIE_FEIN          623209 non-null float64\n",
      "LP_FAMILIE_GROB          623209 non-null float64\n",
      "LP_STATUS_FEIN           623209 non-null float64\n",
      "LP_STATUS_GROB           623209 non-null float64\n",
      "NATIONALITAET_KZ         623209 non-null float64\n",
      "PRAEGENDE_JUGENDJAHRE    623209 non-null float64\n",
      "RETOURTYP_BK_S           623209 non-null float64\n",
      "SEMIO_SOZ                623209 non-null float64\n",
      "SEMIO_FAM                623209 non-null float64\n",
      "SEMIO_REL                623209 non-null float64\n",
      "SEMIO_MAT                623209 non-null float64\n",
      "SEMIO_VERT               623209 non-null float64\n",
      "SEMIO_LUST               623209 non-null float64\n",
      "SEMIO_ERL                623209 non-null float64\n",
      "SEMIO_KULT               623209 non-null float64\n",
      "SEMIO_RAT                623209 non-null float64\n",
      "SEMIO_KRIT               623209 non-null float64\n",
      "SEMIO_DOM                623209 non-null float64\n",
      "SEMIO_KAEM               623209 non-null float64\n",
      "SEMIO_PFLICHT            623209 non-null float64\n",
      "SEMIO_TRADV              623209 non-null float64\n",
      "SHOPPER_TYP              623209 non-null float64\n",
      "SOHO_KZ                  623209 non-null float64\n",
      "VERS_TYP                 623209 non-null float64\n",
      "ZABEOTYP                 623209 non-null float64\n",
      "ANZ_PERSONEN             623209 non-null float64\n",
      "ANZ_TITEL                623209 non-null float64\n",
      "HH_EINKOMMEN_SCORE       623209 non-null float64\n",
      "W_KEIT_KIND_HH           623209 non-null float64\n",
      "WOHNDAUER_2008           623209 non-null float64\n",
      "ANZ_HAUSHALTE_AKTIV      623209 non-null float64\n",
      "ANZ_HH_TITEL             623209 non-null float64\n",
      "GEBAEUDETYP              623209 non-null float64\n",
      "KONSUMNAEHE              623209 non-null float64\n",
      "MIN_GEBAEUDEJAHR         623209 non-null float64\n",
      "OST_WEST_KZ              623209 non-null object\n",
      "WOHNLAGE                 623209 non-null float64\n",
      "CAMEO_DEUG_2015          623209 non-null object\n",
      "CAMEO_DEU_2015           623209 non-null object\n",
      "CAMEO_INTL_2015          623209 non-null object\n",
      "KBA05_ANTG1              623209 non-null float64\n",
      "KBA05_ANTG2              623209 non-null float64\n",
      "KBA05_ANTG3              623209 non-null float64\n",
      "KBA05_ANTG4              623209 non-null float64\n",
      "KBA05_GBZ                623209 non-null float64\n",
      "BALLRAUM                 623209 non-null float64\n",
      "EWDICHTE                 623209 non-null float64\n",
      "INNENSTADT               623209 non-null float64\n",
      "GEBAEUDETYP_RASTER       623209 non-null float64\n",
      "KKK                      623209 non-null float64\n",
      "MOBI_REGIO               623209 non-null float64\n",
      "ONLINE_AFFINITAET        623209 non-null float64\n",
      "REGIOTYP                 623209 non-null float64\n",
      "KBA13_ANZAHL_PKW         623209 non-null float64\n",
      "PLZ8_ANTG1               623209 non-null float64\n",
      "PLZ8_ANTG2               623209 non-null float64\n",
      "PLZ8_ANTG3               623209 non-null float64\n",
      "PLZ8_ANTG4               623209 non-null float64\n",
      "PLZ8_BAUMAX              623209 non-null float64\n",
      "PLZ8_HHZ                 623209 non-null float64\n",
      "PLZ8_GBZ                 623209 non-null float64\n",
      "ARBEIT                   623209 non-null float64\n",
      "ORTSGR_KLS9              623209 non-null float64\n",
      "RELAT_AB                 623209 non-null float64\n",
      "null_count               623209 non-null int64\n",
      "dtypes: float64(74), int64(2), object(4)\n",
      "memory usage: 385.1+ MB\n"
     ]
    }
   ],
   "source": [
    "# Will break the datasets up at less than 20 missing values and 20 or more missing values.\n",
    "azdias_under = azdias_dup.query('null_count == 0')\n",
    "azdias_under.info()"
   ]
  },
  {
   "cell_type": "code",
   "execution_count": 24,
   "metadata": {},
   "outputs": [
    {
     "name": "stdout",
     "output_type": "stream",
     "text": [
      "<class 'pandas.core.frame.DataFrame'>\n",
      "Int64Index: 268012 entries, 0 to 891218\n",
      "Data columns (total 80 columns):\n",
      "ALTERSKATEGORIE_GROB     265131 non-null float64\n",
      "ANREDE_KZ                268012 non-null float64\n",
      "CJT_GESAMTTYP            263158 non-null float64\n",
      "FINANZ_MINIMALIST        268012 non-null float64\n",
      "FINANZ_SPARER            268012 non-null float64\n",
      "FINANZ_VORSORGER         268012 non-null float64\n",
      "FINANZ_ANLEGER           268012 non-null float64\n",
      "FINANZ_UNAUFFAELLIGER    268012 non-null float64\n",
      "FINANZ_HAUSBAUER         268012 non-null float64\n",
      "FINANZTYP                268012 non-null float64\n",
      "GFK_URLAUBERTYP          263158 non-null float64\n",
      "GREEN_AVANTGARDE         268012 non-null int64\n",
      "HEALTH_TYP               156816 non-null float64\n",
      "LP_LEBENSPHASE_FEIN      170380 non-null float64\n",
      "LP_LEBENSPHASE_GROB      173440 non-null float64\n",
      "LP_FAMILIE_FEIN          190220 non-null float64\n",
      "LP_FAMILIE_GROB          190220 non-null float64\n",
      "LP_STATUS_FEIN           263158 non-null float64\n",
      "LP_STATUS_GROB           263158 non-null float64\n",
      "NATIONALITAET_KZ         159697 non-null float64\n",
      "PRAEGENDE_JUGENDJAHRE    159848 non-null float64\n",
      "RETOURTYP_BK_S           263158 non-null float64\n",
      "SEMIO_SOZ                268012 non-null float64\n",
      "SEMIO_FAM                268012 non-null float64\n",
      "SEMIO_REL                268012 non-null float64\n",
      "SEMIO_MAT                268012 non-null float64\n",
      "SEMIO_VERT               268012 non-null float64\n",
      "SEMIO_LUST               268012 non-null float64\n",
      "SEMIO_ERL                268012 non-null float64\n",
      "SEMIO_KULT               268012 non-null float64\n",
      "SEMIO_RAT                268012 non-null float64\n",
      "SEMIO_KRIT               268012 non-null float64\n",
      "SEMIO_DOM                268012 non-null float64\n",
      "SEMIO_KAEM               268012 non-null float64\n",
      "SEMIO_PFLICHT            268012 non-null float64\n",
      "SEMIO_TRADV              268012 non-null float64\n",
      "SHOPPER_TYP              156816 non-null float64\n",
      "SOHO_KZ                  194513 non-null float64\n",
      "VERS_TYP                 156816 non-null float64\n",
      "ZABEOTYP                 268012 non-null float64\n",
      "ANZ_PERSONEN             194513 non-null float64\n",
      "ANZ_TITEL                194513 non-null float64\n",
      "HH_EINKOMMEN_SCORE       249664 non-null float64\n",
      "W_KEIT_KIND_HH           120024 non-null float64\n",
      "WOHNDAUER_2008           194513 non-null float64\n",
      "ANZ_HAUSHALTE_AKTIV      168401 non-null float64\n",
      "ANZ_HH_TITEL             171004 non-null float64\n",
      "GEBAEUDETYP              174864 non-null float64\n",
      "KONSUMNAEHE              194043 non-null float64\n",
      "MIN_GEBAEUDEJAHR         174864 non-null float64\n",
      "OST_WEST_KZ              174864 non-null object\n",
      "WOHNLAGE                 174864 non-null float64\n",
      "CAMEO_DEUG_2015          168660 non-null object\n",
      "CAMEO_DEU_2015           168660 non-null object\n",
      "CAMEO_INTL_2015          168660 non-null object\n",
      "KBA05_ANTG1              134688 non-null float64\n",
      "KBA05_ANTG2              134688 non-null float64\n",
      "KBA05_ANTG3              134688 non-null float64\n",
      "KBA05_ANTG4              134688 non-null float64\n",
      "KBA05_GBZ                134688 non-null float64\n",
      "BALLRAUM                 174272 non-null float64\n",
      "EWDICHTE                 174272 non-null float64\n",
      "INNENSTADT               174272 non-null float64\n",
      "GEBAEUDETYP_RASTER       174857 non-null float64\n",
      "KKK                      109948 non-null float64\n",
      "MOBI_REGIO               134688 non-null float64\n",
      "ONLINE_AFFINITAET        263158 non-null float64\n",
      "REGIOTYP                 109948 non-null float64\n",
      "KBA13_ANZAHL_PKW         162212 non-null float64\n",
      "PLZ8_ANTG1               151497 non-null float64\n",
      "PLZ8_ANTG2               151497 non-null float64\n",
      "PLZ8_ANTG3               151497 non-null float64\n",
      "PLZ8_ANTG4               151497 non-null float64\n",
      "PLZ8_BAUMAX              151497 non-null float64\n",
      "PLZ8_HHZ                 151497 non-null float64\n",
      "PLZ8_GBZ                 151497 non-null float64\n",
      "ARBEIT                   170637 non-null float64\n",
      "ORTSGR_KLS9              170738 non-null float64\n",
      "RELAT_AB                 170637 non-null float64\n",
      "null_count               268012 non-null int64\n",
      "dtypes: float64(74), int64(2), object(4)\n",
      "memory usage: 165.6+ MB\n"
     ]
    }
   ],
   "source": [
    "azdias_over = azdias_dup.query('null_count != 0')\n",
    "azdias_over.info()"
   ]
  },
  {
   "cell_type": "code",
   "execution_count": 25,
   "metadata": {},
   "outputs": [],
   "source": [
    "# Compare the distribution of values for at least five columns where there are\n",
    "# no or few missing values, between the two subsets.\n",
    "def subplot_graphs(column):\n",
    "    \n",
    "    plt.subplot(1, 2, 1)\n",
    "    sns.countplot(x=column, data = azdias_under)\n",
    "\n",
    "    plt.subplot(1, 2, 2)\n",
    "    sns.countplot(x=column, data = azdias_over)\n",
    "\n",
    "    plt.tight_layout(4)\n",
    "\n",
    "    plt.show()\n",
    "    \n",
    "    return"
   ]
  },
  {
   "cell_type": "code",
   "execution_count": 26,
   "metadata": {},
   "outputs": [
    {
     "data": {
      "image/png": "[encoded data removed]",
      "text/plain": [
       "<matplotlib.figure.Figure at 0x7fcea7fad2b0>"
      ]
     },
     "metadata": {
      "needs_background": "light"
     },
     "output_type": "display_data"
    },
    {
     "data": {
      "image/png": "[encoded data removed]",
      "text/plain": [
       "<matplotlib.figure.Figure at 0x7fcebef36f28>"
      ]
     },
     "metadata": {
      "needs_background": "light"
     },
     "output_type": "display_data"
    },
    {
     "data": {
      "image/png": "[encoded data removed]",
      "text/plain": [
       "<matplotlib.figure.Figure at 0x7fcebef36f98>"
      ]
     },
     "metadata": {
      "needs_background": "light"
     },
     "output_type": "display_data"
    },
    {
     "data": {
      "image/png": "[encoded data removed]",
      "text/plain": [
       "<matplotlib.figure.Figure at 0x7fcebed525f8>"
      ]
     },
     "metadata": {
      "needs_background": "light"
     },
     "output_type": "display_data"
    },
    {
     "data": {
      "image/png": "[encoded data removed]",
      "text/plain": [
       "<matplotlib.figure.Figure at 0x7fcebee7cb00>"
      ]
     },
     "metadata": {
      "needs_background": "light"
     },
     "output_type": "display_data"
    }
   ],
   "source": [
    "subplot_graphs('FINANZ_MINIMALIST')\n",
    "subplot_graphs('SEMIO_FAM')\n",
    "subplot_graphs('ZABEOTYP')\n",
    "subplot_graphs('ONLINE_AFFINITAET')\n",
    "subplot_graphs('LP_STATUS_FEIN')"
   ]
  },
  {
   "cell_type": "markdown",
   "metadata": {},
   "source": [
    "#### Discussion 1.1.3: Assess Missing Data in Each Row\n",
    "\n",
    "(Double-click this cell and replace this text with your own text, reporting your observations regarding missing data in rows. Are the data with lots of missing values are qualitatively different from data with few or no missing values?)"
   ]
  },
  {
   "cell_type": "markdown",
   "metadata": {},
   "source": [
    "### Step 1.2: Select and Re-Encode Features\n",
    "\n",
    "Checking for missing data isn't the only way in which you can prepare a dataset for analysis. Since the unsupervised learning techniques to be used will only work on data that is encoded numerically, you need to make a few encoding changes or additional assumptions to be able to make progress. In addition, while almost all of the values in the dataset are encoded using numbers, not all of them represent numeric values. Check the third column of the feature summary (`feat_info`) for a summary of types of measurement.\n",
    "- For numeric and interval data, these features can be kept without changes.\n",
    "- Most of the variables in the dataset are ordinal in nature. While ordinal values may technically be non-linear in spacing, make the simplifying assumption that the ordinal variables can be treated as being interval in nature (that is, kept without any changes).\n",
    "- Special handling may be necessary for the remaining two variable types: categorical, and 'mixed'.\n",
    "\n",
    "In the first two parts of this sub-step, you will perform an investigation of the categorical and mixed-type features and make a decision on each of them, whether you will keep, drop, or re-encode each. Then, in the last part, you will create a new data frame with only the selected and engineered columns.\n",
    "\n",
    "Data wrangling is often the trickiest part of the data analysis process, and there's a lot of it to be done here. But stick with it: once you're done with this step, you'll be ready to get to the machine learning parts of the project!"
   ]
  },
  {
   "cell_type": "code",
   "execution_count": 27,
   "metadata": {},
   "outputs": [
    {
     "data": {
      "text/plain": [
       "ordinal        49\n",
       "categorical    21\n",
       "numeric         7\n",
       "mixed           7\n",
       "interval        1\n",
       "Name: type, dtype: int64"
      ]
     },
     "execution_count": 27,
     "metadata": {},
     "output_type": "execute_result"
    }
   ],
   "source": [
    "# How many features are there of each data type?\n",
    "feat_info['type'].value_counts()"
   ]
  },
  {
   "cell_type": "markdown",
   "metadata": {},
   "source": [
    "#### Step 1.2.1: Re-Encode Categorical Features\n",
    "\n",
    "For categorical data, you would ordinarily need to encode the levels as dummy variables. Depending on the number of categories, perform one of the following:\n",
    "- For binary (two-level) categoricals that take numeric values, you can keep them without needing to do anything.\n",
    "- There is one binary variable that takes on non-numeric values. For this one, you need to re-encode the values as numbers or create a dummy variable.\n",
    "- For multi-level categoricals (three or more values), you can choose to encode the values using multiple dummy variables (e.g. via [OneHotEncoder](http://scikit-learn.org/stable/modules/generated/sklearn.preprocessing.OneHotEncoder.html)), or (to keep things straightforward) just drop them from the analysis. As always, document your choices in the Discussion section."
   ]
  },
  {
   "cell_type": "code",
   "execution_count": 28,
   "metadata": {},
   "outputs": [
    {
     "data": {
      "text/html": [
       "<div>\n",
       "<style scoped>\n",
       "    .dataframe tbody tr th:only-of-type {\n",
       "        vertical-align: middle;\n",
       "    }\n",
       "\n",
       "    .dataframe tbody tr th {\n",
       "        vertical-align: top;\n",
       "    }\n",
       "\n",
       "    .dataframe thead th {\n",
       "        text-align: right;\n",
       "    }\n",
       "</style>\n",
       "<table border=\"1\" class=\"dataframe\">\n",
       "  <thead>\n",
       "    <tr style=\"text-align: right;\">\n",
       "      <th></th>\n",
       "      <th>attribute</th>\n",
       "      <th>information_level</th>\n",
       "      <th>type</th>\n",
       "      <th>missing_or_unknown</th>\n",
       "      <th>ctg_num</th>\n",
       "      <th>ctg_values</th>\n",
       "    </tr>\n",
       "  </thead>\n",
       "  <tbody>\n",
       "    <tr>\n",
       "      <th>0</th>\n",
       "      <td>AGER_TYP</td>\n",
       "      <td>person</td>\n",
       "      <td>categorical</td>\n",
       "      <td>[-1,0]</td>\n",
       "      <td>NaN</td>\n",
       "      <td>NaN</td>\n",
       "    </tr>\n",
       "    <tr>\n",
       "      <th>2</th>\n",
       "      <td>ANREDE_KZ</td>\n",
       "      <td>person</td>\n",
       "      <td>categorical</td>\n",
       "      <td>[-1,0]</td>\n",
       "      <td>NaN</td>\n",
       "      <td>NaN</td>\n",
       "    </tr>\n",
       "    <tr>\n",
       "      <th>3</th>\n",
       "      <td>CJT_GESAMTTYP</td>\n",
       "      <td>person</td>\n",
       "      <td>categorical</td>\n",
       "      <td>[0]</td>\n",
       "      <td>NaN</td>\n",
       "      <td>NaN</td>\n",
       "    </tr>\n",
       "    <tr>\n",
       "      <th>10</th>\n",
       "      <td>FINANZTYP</td>\n",
       "      <td>person</td>\n",
       "      <td>categorical</td>\n",
       "      <td>[-1]</td>\n",
       "      <td>NaN</td>\n",
       "      <td>NaN</td>\n",
       "    </tr>\n",
       "    <tr>\n",
       "      <th>12</th>\n",
       "      <td>GFK_URLAUBERTYP</td>\n",
       "      <td>person</td>\n",
       "      <td>categorical</td>\n",
       "      <td>[]</td>\n",
       "      <td>NaN</td>\n",
       "      <td>NaN</td>\n",
       "    </tr>\n",
       "    <tr>\n",
       "      <th>13</th>\n",
       "      <td>GREEN_AVANTGARDE</td>\n",
       "      <td>person</td>\n",
       "      <td>categorical</td>\n",
       "      <td>[]</td>\n",
       "      <td>NaN</td>\n",
       "      <td>NaN</td>\n",
       "    </tr>\n",
       "    <tr>\n",
       "      <th>17</th>\n",
       "      <td>LP_FAMILIE_FEIN</td>\n",
       "      <td>person</td>\n",
       "      <td>categorical</td>\n",
       "      <td>[0]</td>\n",
       "      <td>NaN</td>\n",
       "      <td>NaN</td>\n",
       "    </tr>\n",
       "    <tr>\n",
       "      <th>18</th>\n",
       "      <td>LP_FAMILIE_GROB</td>\n",
       "      <td>person</td>\n",
       "      <td>categorical</td>\n",
       "      <td>[0]</td>\n",
       "      <td>NaN</td>\n",
       "      <td>NaN</td>\n",
       "    </tr>\n",
       "    <tr>\n",
       "      <th>19</th>\n",
       "      <td>LP_STATUS_FEIN</td>\n",
       "      <td>person</td>\n",
       "      <td>categorical</td>\n",
       "      <td>[0]</td>\n",
       "      <td>NaN</td>\n",
       "      <td>NaN</td>\n",
       "    </tr>\n",
       "    <tr>\n",
       "      <th>20</th>\n",
       "      <td>LP_STATUS_GROB</td>\n",
       "      <td>person</td>\n",
       "      <td>categorical</td>\n",
       "      <td>[0]</td>\n",
       "      <td>NaN</td>\n",
       "      <td>NaN</td>\n",
       "    </tr>\n",
       "    <tr>\n",
       "      <th>21</th>\n",
       "      <td>NATIONALITAET_KZ</td>\n",
       "      <td>person</td>\n",
       "      <td>categorical</td>\n",
       "      <td>[-1,0]</td>\n",
       "      <td>NaN</td>\n",
       "      <td>NaN</td>\n",
       "    </tr>\n",
       "    <tr>\n",
       "      <th>38</th>\n",
       "      <td>SHOPPER_TYP</td>\n",
       "      <td>person</td>\n",
       "      <td>categorical</td>\n",
       "      <td>[-1]</td>\n",
       "      <td>NaN</td>\n",
       "      <td>NaN</td>\n",
       "    </tr>\n",
       "    <tr>\n",
       "      <th>39</th>\n",
       "      <td>SOHO_KZ</td>\n",
       "      <td>person</td>\n",
       "      <td>categorical</td>\n",
       "      <td>[-1]</td>\n",
       "      <td>NaN</td>\n",
       "      <td>NaN</td>\n",
       "    </tr>\n",
       "    <tr>\n",
       "      <th>40</th>\n",
       "      <td>TITEL_KZ</td>\n",
       "      <td>person</td>\n",
       "      <td>categorical</td>\n",
       "      <td>[-1,0]</td>\n",
       "      <td>NaN</td>\n",
       "      <td>NaN</td>\n",
       "    </tr>\n",
       "    <tr>\n",
       "      <th>41</th>\n",
       "      <td>VERS_TYP</td>\n",
       "      <td>person</td>\n",
       "      <td>categorical</td>\n",
       "      <td>[-1]</td>\n",
       "      <td>NaN</td>\n",
       "      <td>NaN</td>\n",
       "    </tr>\n",
       "    <tr>\n",
       "      <th>42</th>\n",
       "      <td>ZABEOTYP</td>\n",
       "      <td>person</td>\n",
       "      <td>categorical</td>\n",
       "      <td>[-1,9]</td>\n",
       "      <td>NaN</td>\n",
       "      <td>NaN</td>\n",
       "    </tr>\n",
       "    <tr>\n",
       "      <th>47</th>\n",
       "      <td>KK_KUNDENTYP</td>\n",
       "      <td>household</td>\n",
       "      <td>categorical</td>\n",
       "      <td>[-1]</td>\n",
       "      <td>NaN</td>\n",
       "      <td>NaN</td>\n",
       "    </tr>\n",
       "    <tr>\n",
       "      <th>52</th>\n",
       "      <td>GEBAEUDETYP</td>\n",
       "      <td>building</td>\n",
       "      <td>categorical</td>\n",
       "      <td>[-1,0]</td>\n",
       "      <td>NaN</td>\n",
       "      <td>NaN</td>\n",
       "    </tr>\n",
       "    <tr>\n",
       "      <th>55</th>\n",
       "      <td>OST_WEST_KZ</td>\n",
       "      <td>building</td>\n",
       "      <td>categorical</td>\n",
       "      <td>[-1]</td>\n",
       "      <td>NaN</td>\n",
       "      <td>NaN</td>\n",
       "    </tr>\n",
       "    <tr>\n",
       "      <th>57</th>\n",
       "      <td>CAMEO_DEUG_2015</td>\n",
       "      <td>microcell_rr4</td>\n",
       "      <td>categorical</td>\n",
       "      <td>[-1,X]</td>\n",
       "      <td>NaN</td>\n",
       "      <td>NaN</td>\n",
       "    </tr>\n",
       "    <tr>\n",
       "      <th>58</th>\n",
       "      <td>CAMEO_DEU_2015</td>\n",
       "      <td>microcell_rr4</td>\n",
       "      <td>categorical</td>\n",
       "      <td>[XX]</td>\n",
       "      <td>NaN</td>\n",
       "      <td>NaN</td>\n",
       "    </tr>\n",
       "  </tbody>\n",
       "</table>\n",
       "</div>"
      ],
      "text/plain": [
       "           attribute information_level         type missing_or_unknown  \\\n",
       "0           AGER_TYP            person  categorical             [-1,0]   \n",
       "2          ANREDE_KZ            person  categorical             [-1,0]   \n",
       "3      CJT_GESAMTTYP            person  categorical                [0]   \n",
       "10         FINANZTYP            person  categorical               [-1]   \n",
       "12   GFK_URLAUBERTYP            person  categorical                 []   \n",
       "13  GREEN_AVANTGARDE            person  categorical                 []   \n",
       "17   LP_FAMILIE_FEIN            person  categorical                [0]   \n",
       "18   LP_FAMILIE_GROB            person  categorical                [0]   \n",
       "19    LP_STATUS_FEIN            person  categorical                [0]   \n",
       "20    LP_STATUS_GROB            person  categorical                [0]   \n",
       "21  NATIONALITAET_KZ            person  categorical             [-1,0]   \n",
       "38       SHOPPER_TYP            person  categorical               [-1]   \n",
       "39           SOHO_KZ            person  categorical               [-1]   \n",
       "40          TITEL_KZ            person  categorical             [-1,0]   \n",
       "41          VERS_TYP            person  categorical               [-1]   \n",
       "42          ZABEOTYP            person  categorical             [-1,9]   \n",
       "47      KK_KUNDENTYP         household  categorical               [-1]   \n",
       "52       GEBAEUDETYP          building  categorical             [-1,0]   \n",
       "55       OST_WEST_KZ          building  categorical               [-1]   \n",
       "57   CAMEO_DEUG_2015     microcell_rr4  categorical             [-1,X]   \n",
       "58    CAMEO_DEU_2015     microcell_rr4  categorical               [XX]   \n",
       "\n",
       "    ctg_num  ctg_values  \n",
       "0       NaN         NaN  \n",
       "2       NaN         NaN  \n",
       "3       NaN         NaN  \n",
       "10      NaN         NaN  \n",
       "12      NaN         NaN  \n",
       "13      NaN         NaN  \n",
       "17      NaN         NaN  \n",
       "18      NaN         NaN  \n",
       "19      NaN         NaN  \n",
       "20      NaN         NaN  \n",
       "21      NaN         NaN  \n",
       "38      NaN         NaN  \n",
       "39      NaN         NaN  \n",
       "40      NaN         NaN  \n",
       "41      NaN         NaN  \n",
       "42      NaN         NaN  \n",
       "47      NaN         NaN  \n",
       "52      NaN         NaN  \n",
       "55      NaN         NaN  \n",
       "57      NaN         NaN  \n",
       "58      NaN         NaN  "
      ]
     },
     "execution_count": 28,
     "metadata": {},
     "output_type": "execute_result"
    }
   ],
   "source": [
    "# Assess categorical variables: which are binary, which are multi-level, and\n",
    "# which one needs to be re-encoded?\n",
    "temp_ctgs = pd.DataFrame(feat_info.query('type == \"categorical\"'))\n",
    "temp_ctgs = temp_ctgs.reindex(columns = temp_ctgs.columns.tolist() + ['ctg_num','ctg_values'])\n",
    "temp_ctgs.head(21)"
   ]
  },
  {
   "cell_type": "code",
   "execution_count": 29,
   "metadata": {},
   "outputs": [
    {
     "name": "stderr",
     "output_type": "stream",
     "text": [
      "/opt/conda/lib/python3.6/site-packages/ipykernel_launcher.py:7: SettingWithCopyWarning: \n",
      "A value is trying to be set on a copy of a slice from a DataFrame\n",
      "\n",
      "See the caveats in the documentation: http://pandas.pydata.org/pandas-docs/stable/indexing.html#indexing-view-versus-copy\n",
      "  import sys\n",
      "/opt/conda/lib/python3.6/site-packages/ipykernel_launcher.py:8: SettingWithCopyWarning: \n",
      "A value is trying to be set on a copy of a slice from a DataFrame\n",
      "\n",
      "See the caveats in the documentation: http://pandas.pydata.org/pandas-docs/stable/indexing.html#indexing-view-versus-copy\n",
      "  \n",
      "/opt/conda/lib/python3.6/site-packages/pandas/core/indexing.py:189: SettingWithCopyWarning: \n",
      "A value is trying to be set on a copy of a slice from a DataFrame\n",
      "\n",
      "See the caveats in the documentation: http://pandas.pydata.org/pandas-docs/stable/indexing.html#indexing-view-versus-copy\n",
      "  self._setitem_with_indexer(indexer, value)\n"
     ]
    },
    {
     "data": {
      "text/html": [
       "<div>\n",
       "<style scoped>\n",
       "    .dataframe tbody tr th:only-of-type {\n",
       "        vertical-align: middle;\n",
       "    }\n",
       "\n",
       "    .dataframe tbody tr th {\n",
       "        vertical-align: top;\n",
       "    }\n",
       "\n",
       "    .dataframe thead th {\n",
       "        text-align: right;\n",
       "    }\n",
       "</style>\n",
       "<table border=\"1\" class=\"dataframe\">\n",
       "  <thead>\n",
       "    <tr style=\"text-align: right;\">\n",
       "      <th></th>\n",
       "      <th>attribute</th>\n",
       "      <th>information_level</th>\n",
       "      <th>type</th>\n",
       "      <th>missing_or_unknown</th>\n",
       "      <th>ctg_num</th>\n",
       "      <th>ctg_values</th>\n",
       "    </tr>\n",
       "  </thead>\n",
       "  <tbody>\n",
       "    <tr>\n",
       "      <th>0</th>\n",
       "      <td>AGER_TYP</td>\n",
       "      <td>person</td>\n",
       "      <td>categorical</td>\n",
       "      <td>[-1,0]</td>\n",
       "      <td>NaN</td>\n",
       "      <td>NaN</td>\n",
       "    </tr>\n",
       "    <tr>\n",
       "      <th>2</th>\n",
       "      <td>ANREDE_KZ</td>\n",
       "      <td>person</td>\n",
       "      <td>categorical</td>\n",
       "      <td>[-1,0]</td>\n",
       "      <td>2.0</td>\n",
       "      <td>[ 2.  1.]</td>\n",
       "    </tr>\n",
       "    <tr>\n",
       "      <th>3</th>\n",
       "      <td>CJT_GESAMTTYP</td>\n",
       "      <td>person</td>\n",
       "      <td>categorical</td>\n",
       "      <td>[0]</td>\n",
       "      <td>6.0</td>\n",
       "      <td>[ 5.  3.  2.  4.  1.  6.]</td>\n",
       "    </tr>\n",
       "    <tr>\n",
       "      <th>10</th>\n",
       "      <td>FINANZTYP</td>\n",
       "      <td>person</td>\n",
       "      <td>categorical</td>\n",
       "      <td>[-1]</td>\n",
       "      <td>6.0</td>\n",
       "      <td>[ 1.  5.  2.  4.  6.  3.]</td>\n",
       "    </tr>\n",
       "    <tr>\n",
       "      <th>12</th>\n",
       "      <td>GFK_URLAUBERTYP</td>\n",
       "      <td>person</td>\n",
       "      <td>categorical</td>\n",
       "      <td>[]</td>\n",
       "      <td>12.0</td>\n",
       "      <td>[ 10.   5.   1.  12.   9.   3.   8.  11.   4. ...</td>\n",
       "    </tr>\n",
       "    <tr>\n",
       "      <th>13</th>\n",
       "      <td>GREEN_AVANTGARDE</td>\n",
       "      <td>person</td>\n",
       "      <td>categorical</td>\n",
       "      <td>[]</td>\n",
       "      <td>2.0</td>\n",
       "      <td>[0 1]</td>\n",
       "    </tr>\n",
       "    <tr>\n",
       "      <th>17</th>\n",
       "      <td>LP_FAMILIE_FEIN</td>\n",
       "      <td>person</td>\n",
       "      <td>categorical</td>\n",
       "      <td>[0]</td>\n",
       "      <td>11.0</td>\n",
       "      <td>[  5.   1.  10.   2.   7.  11.   8.   4.   6. ...</td>\n",
       "    </tr>\n",
       "    <tr>\n",
       "      <th>18</th>\n",
       "      <td>LP_FAMILIE_GROB</td>\n",
       "      <td>person</td>\n",
       "      <td>categorical</td>\n",
       "      <td>[0]</td>\n",
       "      <td>5.0</td>\n",
       "      <td>[ 3.  1.  5.  2.  4.]</td>\n",
       "    </tr>\n",
       "    <tr>\n",
       "      <th>19</th>\n",
       "      <td>LP_STATUS_FEIN</td>\n",
       "      <td>person</td>\n",
       "      <td>categorical</td>\n",
       "      <td>[0]</td>\n",
       "      <td>10.0</td>\n",
       "      <td>[  2.   3.   4.   1.  10.   9.   5.   6.   7. ...</td>\n",
       "    </tr>\n",
       "    <tr>\n",
       "      <th>20</th>\n",
       "      <td>LP_STATUS_GROB</td>\n",
       "      <td>person</td>\n",
       "      <td>categorical</td>\n",
       "      <td>[0]</td>\n",
       "      <td>5.0</td>\n",
       "      <td>[ 1.  2.  5.  4.  3.]</td>\n",
       "    </tr>\n",
       "    <tr>\n",
       "      <th>21</th>\n",
       "      <td>NATIONALITAET_KZ</td>\n",
       "      <td>person</td>\n",
       "      <td>categorical</td>\n",
       "      <td>[-1,0]</td>\n",
       "      <td>3.0</td>\n",
       "      <td>[ 1.  2.  3.]</td>\n",
       "    </tr>\n",
       "    <tr>\n",
       "      <th>38</th>\n",
       "      <td>SHOPPER_TYP</td>\n",
       "      <td>person</td>\n",
       "      <td>categorical</td>\n",
       "      <td>[-1]</td>\n",
       "      <td>4.0</td>\n",
       "      <td>[ 3.  2.  0.  1.]</td>\n",
       "    </tr>\n",
       "    <tr>\n",
       "      <th>39</th>\n",
       "      <td>SOHO_KZ</td>\n",
       "      <td>person</td>\n",
       "      <td>categorical</td>\n",
       "      <td>[-1]</td>\n",
       "      <td>2.0</td>\n",
       "      <td>[ 1.  0.]</td>\n",
       "    </tr>\n",
       "    <tr>\n",
       "      <th>40</th>\n",
       "      <td>TITEL_KZ</td>\n",
       "      <td>person</td>\n",
       "      <td>categorical</td>\n",
       "      <td>[-1,0]</td>\n",
       "      <td>NaN</td>\n",
       "      <td>NaN</td>\n",
       "    </tr>\n",
       "    <tr>\n",
       "      <th>41</th>\n",
       "      <td>VERS_TYP</td>\n",
       "      <td>person</td>\n",
       "      <td>categorical</td>\n",
       "      <td>[-1]</td>\n",
       "      <td>2.0</td>\n",
       "      <td>[ 2.  1.]</td>\n",
       "    </tr>\n",
       "    <tr>\n",
       "      <th>42</th>\n",
       "      <td>ZABEOTYP</td>\n",
       "      <td>person</td>\n",
       "      <td>categorical</td>\n",
       "      <td>[-1,9]</td>\n",
       "      <td>6.0</td>\n",
       "      <td>[ 5.  4.  1.  6.  3.  2.]</td>\n",
       "    </tr>\n",
       "    <tr>\n",
       "      <th>47</th>\n",
       "      <td>KK_KUNDENTYP</td>\n",
       "      <td>household</td>\n",
       "      <td>categorical</td>\n",
       "      <td>[-1]</td>\n",
       "      <td>NaN</td>\n",
       "      <td>NaN</td>\n",
       "    </tr>\n",
       "    <tr>\n",
       "      <th>52</th>\n",
       "      <td>GEBAEUDETYP</td>\n",
       "      <td>building</td>\n",
       "      <td>categorical</td>\n",
       "      <td>[-1,0]</td>\n",
       "      <td>4.0</td>\n",
       "      <td>[ 8.  1.  3.  5.]</td>\n",
       "    </tr>\n",
       "    <tr>\n",
       "      <th>55</th>\n",
       "      <td>OST_WEST_KZ</td>\n",
       "      <td>building</td>\n",
       "      <td>categorical</td>\n",
       "      <td>[-1]</td>\n",
       "      <td>2.0</td>\n",
       "      <td>['W' 'O']</td>\n",
       "    </tr>\n",
       "    <tr>\n",
       "      <th>57</th>\n",
       "      <td>CAMEO_DEUG_2015</td>\n",
       "      <td>microcell_rr4</td>\n",
       "      <td>categorical</td>\n",
       "      <td>[-1,X]</td>\n",
       "      <td>9.0</td>\n",
       "      <td>['8' '4' '6' '2' '1' '9' '5' '7' '3']</td>\n",
       "    </tr>\n",
       "    <tr>\n",
       "      <th>58</th>\n",
       "      <td>CAMEO_DEU_2015</td>\n",
       "      <td>microcell_rr4</td>\n",
       "      <td>categorical</td>\n",
       "      <td>[XX]</td>\n",
       "      <td>44.0</td>\n",
       "      <td>['8A' '4C' '6B' '8C' '4A' '2D' '1A' '1E' '9D' ...</td>\n",
       "    </tr>\n",
       "  </tbody>\n",
       "</table>\n",
       "</div>"
      ],
      "text/plain": [
       "           attribute information_level         type missing_or_unknown  \\\n",
       "0           AGER_TYP            person  categorical             [-1,0]   \n",
       "2          ANREDE_KZ            person  categorical             [-1,0]   \n",
       "3      CJT_GESAMTTYP            person  categorical                [0]   \n",
       "10         FINANZTYP            person  categorical               [-1]   \n",
       "12   GFK_URLAUBERTYP            person  categorical                 []   \n",
       "13  GREEN_AVANTGARDE            person  categorical                 []   \n",
       "17   LP_FAMILIE_FEIN            person  categorical                [0]   \n",
       "18   LP_FAMILIE_GROB            person  categorical                [0]   \n",
       "19    LP_STATUS_FEIN            person  categorical                [0]   \n",
       "20    LP_STATUS_GROB            person  categorical                [0]   \n",
       "21  NATIONALITAET_KZ            person  categorical             [-1,0]   \n",
       "38       SHOPPER_TYP            person  categorical               [-1]   \n",
       "39           SOHO_KZ            person  categorical               [-1]   \n",
       "40          TITEL_KZ            person  categorical             [-1,0]   \n",
       "41          VERS_TYP            person  categorical               [-1]   \n",
       "42          ZABEOTYP            person  categorical             [-1,9]   \n",
       "47      KK_KUNDENTYP         household  categorical               [-1]   \n",
       "52       GEBAEUDETYP          building  categorical             [-1,0]   \n",
       "55       OST_WEST_KZ          building  categorical               [-1]   \n",
       "57   CAMEO_DEUG_2015     microcell_rr4  categorical             [-1,X]   \n",
       "58    CAMEO_DEU_2015     microcell_rr4  categorical               [XX]   \n",
       "\n",
       "    ctg_num                                         ctg_values  \n",
       "0       NaN                                                NaN  \n",
       "2       2.0                                          [ 2.  1.]  \n",
       "3       6.0                          [ 5.  3.  2.  4.  1.  6.]  \n",
       "10      6.0                          [ 1.  5.  2.  4.  6.  3.]  \n",
       "12     12.0  [ 10.   5.   1.  12.   9.   3.   8.  11.   4. ...  \n",
       "13      2.0                                              [0 1]  \n",
       "17     11.0  [  5.   1.  10.   2.   7.  11.   8.   4.   6. ...  \n",
       "18      5.0                              [ 3.  1.  5.  2.  4.]  \n",
       "19     10.0  [  2.   3.   4.   1.  10.   9.   5.   6.   7. ...  \n",
       "20      5.0                              [ 1.  2.  5.  4.  3.]  \n",
       "21      3.0                                      [ 1.  2.  3.]  \n",
       "38      4.0                                  [ 3.  2.  0.  1.]  \n",
       "39      2.0                                          [ 1.  0.]  \n",
       "40      NaN                                                NaN  \n",
       "41      2.0                                          [ 2.  1.]  \n",
       "42      6.0                          [ 5.  4.  1.  6.  3.  2.]  \n",
       "47      NaN                                                NaN  \n",
       "52      4.0                                  [ 8.  1.  3.  5.]  \n",
       "55      2.0                                          ['W' 'O']  \n",
       "57      9.0              ['8' '4' '6' '2' '1' '9' '5' '7' '3']  \n",
       "58     44.0  ['8A' '4C' '6B' '8C' '4A' '2D' '1A' '1E' '9D' ...  "
      ]
     },
     "execution_count": 29,
     "metadata": {},
     "output_type": "execute_result"
    }
   ],
   "source": [
    "removed_cols = {'AGER_TYP', 'GEBURTSJAHR', 'TITEL_KZ', 'ALTER_HH', 'KK_KUNDENTYP', 'KBA05_BAUMAX'}\n",
    "for i, row in temp_ctgs.iterrows():\n",
    "    column = temp_ctgs['attribute'][i]\n",
    "    if column not in removed_cols:\n",
    "        ctg_num = len(azdias_under[column].unique())\n",
    "        uniq_values = str(azdias_under[column].unique())\n",
    "        temp_ctgs['ctg_num'][i] = ctg_num\n",
    "        temp_ctgs['ctg_values'][i] = uniq_values\n",
    "\n",
    "temp_ctgs.head(21)"
   ]
  },
  {
   "cell_type": "code",
   "execution_count": 30,
   "metadata": {},
   "outputs": [],
   "source": [
    "#azdias_under['CJT_GESAMTTYP'].fillna(0, inplace=True)\n",
    "#azdias_under['GFK_URLAUBERTYP'].fillna(0, inplace = True)\n",
    "#azdias_under['LP_FAMILIE_FEIN'].fillna(0, inplace = True)\n",
    "#azdias_under['LP_FAMILIE_GROB'].fillna(0, inplace = True)\n",
    "#azdias_under['LP_STATUS_FEIN'].fillna(0, inplace = True)\n",
    "#azdias_under['LP_STATUS_GROB'].fillna(0, inplace = True)\n",
    "#azdias_under['NATIONALITAET_KZ'].fillna(0, inplace = True)\n",
    "#azdias_under['SHOPPER_TYP'].fillna(4, inplace = True)\n",
    "#azdias_under['VERS_TYP'].fillna(0, inplace = True)\n",
    "#azdias_under['CAMEO_DEUG_2015'].fillna(0, inplace = True)\n",
    "#azdias_under['CAMEO_DEU_2015'].fillna(0, inplace = True)"
   ]
  },
  {
   "cell_type": "code",
   "execution_count": 31,
   "metadata": {},
   "outputs": [],
   "source": [
    "from sklearn.preprocessing import OneHotEncoder\n",
    "\n",
    "def encoding_df(azdias_under, column):\n",
    "    \n",
    "    OHE = OneHotEncoder(handle_unknown='ignore')\n",
    "    OHE_df = pd.DataFrame(OHE.fit_transform(azdias_under[[column]]).toarray())\n",
    "    azdias_under = azdias_under.join(OHE_df)\n",
    "    azdias_under.pop(column)\n",
    "    \n",
    "    return azdias_under"
   ]
  },
  {
   "cell_type": "code",
   "execution_count": null,
   "metadata": {},
   "outputs": [],
   "source": []
  },
  {
   "cell_type": "code",
   "execution_count": null,
   "metadata": {},
   "outputs": [],
   "source": []
  },
  {
   "cell_type": "code",
   "execution_count": 32,
   "metadata": {},
   "outputs": [],
   "source": [
    "azdias_under = encoding_df(azdias_under, 'CJT_GESAMTTYP')\n",
    "azdias_under = azdias_under.rename(columns={0:'consumption_minimalist', \\\n",
    "                                           1:'consumption_traditionalist', \\\n",
    "                                           2:'store_shopper', \\\n",
    "                                           3:'online_shopper', \\\n",
    "                                           4:'cross_channel_enthusiast', \\\n",
    "                                           5:'restricted_CC_enthusiast'})"
   ]
  },
  {
   "cell_type": "code",
   "execution_count": 33,
   "metadata": {},
   "outputs": [],
   "source": [
    "azdias_under = encoding_df(azdias_under, 'FINANZTYP')\n",
    "azdias_under = azdias_under.rename(columns={0:'low_financial_interest', \\\n",
    "                                           1:'money_saver', \\\n",
    "                                           2:'home_ownership', \\\n",
    "                                           3:'be_prepared', \\\n",
    "                                           4:'investor', \\\n",
    "                                           5:'inconspicuous'})"
   ]
  },
  {
   "cell_type": "code",
   "execution_count": 34,
   "metadata": {},
   "outputs": [],
   "source": [
    "azdias_under = encoding_df(azdias_under, 'GFK_URLAUBERTYP')\n",
    "azdias_under = azdias_under.rename(columns={0:'event_travelers', \\\n",
    "                                           1:'family_oriented_vacationist', \\\n",
    "                                           2:'winter_sportspeople', \\\n",
    "                                           3:'culture_lovers', \\\n",
    "                                           4:'nature_fans', \\\n",
    "                                           5:'hiker', \\\n",
    "                                           6:'golden_ager', \\\n",
    "                                           7:'homeland_connected_vacationist', \\\n",
    "                                           8:'package_tour_traveler', \\\n",
    "                                           9:'connoisseurs', \\\n",
    "                                           10:'active_families', \\\n",
    "                                           11:'without_vacation'})"
   ]
  },
  {
   "cell_type": "code",
   "execution_count": 35,
   "metadata": {},
   "outputs": [],
   "source": [
    "azdias_under = encoding_df(azdias_under, 'LP_FAMILIE_FEIN')\n",
    "azdias_under = azdias_under.rename(columns={0:'fs_single', \\\n",
    "                                           1:'fs_couple', \\\n",
    "                                           2:'fs_young_single_parent', \\\n",
    "                                           3:'fs_singe_par_w_teen', \\\n",
    "                                           4:'fs_single_par_w_child_full_age', \\\n",
    "                                           5:'fs_young_family', \\\n",
    "                                           6:'fs_family_w_teenager', \\\n",
    "                                           7:'fs_family_w_child_full_age', \\\n",
    "                                           8:'fs_shared_flat', \\\n",
    "                                           9:'fs_two_generational_household', \\\n",
    "                                           10:'fs_multi_generational_household'})"
   ]
  },
  {
   "cell_type": "code",
   "execution_count": 36,
   "metadata": {},
   "outputs": [],
   "source": [
    "azdias_under = encoding_df(azdias_under, 'LP_FAMILIE_GROB')\n",
    "azdias_under = azdias_under.rename(columns={0:'rs_single', \\\n",
    "                                           1:'rs_couple', \\\n",
    "                                           2:'rs_single_parent', \\\n",
    "                                           3:'rs_family', \\\n",
    "                                           4:'rs_multiperson_household'})"
   ]
  },
  {
   "cell_type": "code",
   "execution_count": 37,
   "metadata": {},
   "outputs": [],
   "source": [
    "azdias_under = encoding_df(azdias_under, 'LP_STATUS_FEIN')\n",
    "azdias_under = azdias_under.rename(columns={0:'fs_low_income_earners', \\\n",
    "                                           1:'fs_orientation_low_income_earners', \\\n",
    "                                           2:'fs_aspiring_low_income_earners', \\\n",
    "                                           3:'fs_villagers', \\\n",
    "                                           4:'fs_minimalistic_high_income_earners', \\\n",
    "                                           5:'fs_independent_workers', \\\n",
    "                                           6:'fs_title_holder_households', \\\n",
    "                                           7:'fs_new_houseowners', \\\n",
    "                                           8:'fs_new_houseowners', \\\n",
    "                                           9:'fs_houseowners', \\\n",
    "                                           10:'LP_STATUS_FEIN_11'})"
   ]
  },
  {
   "cell_type": "code",
   "execution_count": 38,
   "metadata": {},
   "outputs": [],
   "source": [
    "azdias_under = encoding_df(azdias_under, 'LP_STATUS_GROB')\n",
    "azdias_under = azdias_under.rename(columns={0:'rs_low_income_erners', \\\n",
    "                                            1:'rs_average_earners', \\\n",
    "                                           2:'rs_independents', \\\n",
    "                                           3:'rs_houseowners', \\\n",
    "                                           4:'rs_top_earners'})"
   ]
  },
  {
   "cell_type": "code",
   "execution_count": 39,
   "metadata": {},
   "outputs": [],
   "source": [
    "azdias_under = encoding_df(azdias_under, 'NATIONALITAET_KZ')\n",
    "azdias_under = azdias_under.rename(columns={0:'german_sounding', \\\n",
    "                                           1:'foreeign_sounding', \\\n",
    "                                           2:'assimilated_names'})"
   ]
  },
  {
   "cell_type": "code",
   "execution_count": 40,
   "metadata": {},
   "outputs": [],
   "source": [
    "azdias_under = encoding_df(azdias_under, 'SHOPPER_TYP')\n",
    "azdias_under = azdias_under.rename(columns={0:'shopping_stressed', \\\n",
    "                                           1:'family_shopper', \\\n",
    "                                           2:'demanding_shopper', \\\n",
    "                                           3:'SHOPPER_TYP_4'})"
   ]
  },
  {
   "cell_type": "code",
   "execution_count": 41,
   "metadata": {},
   "outputs": [],
   "source": [
    "azdias_under = encoding_df(azdias_under, 'VERS_TYP')\n",
    "azdias_under = azdias_under.rename(columns={0:'social_saftey_driven', \\\n",
    "                                            1:'individ_accepting_risks'})"
   ]
  },
  {
   "cell_type": "code",
   "execution_count": 42,
   "metadata": {},
   "outputs": [],
   "source": [
    "azdias_under = encoding_df(azdias_under, 'ZABEOTYP')\n",
    "azdias_under = azdias_under.rename(columns={0:'green', \\\n",
    "                                           1:'smart', \\\n",
    "                                           2:'fair_supplied', \\\n",
    "                                           3:'price_driven', \\\n",
    "                                           4:'seeking_orientation', \\\n",
    "                                           5:'indifferent'})"
   ]
  },
  {
   "cell_type": "code",
   "execution_count": 43,
   "metadata": {},
   "outputs": [],
   "source": [
    "azdias_under = encoding_df(azdias_under, 'GEBAEUDETYP')\n",
    "azdias_under = azdias_under.rename(columns={0:'residential_building', \\\n",
    "                                           1:'residential_building_unknown_household', \\\n",
    "                                           2:'mixed_building', \\\n",
    "                                           3:'mixed_building_unknown_company_household', \\\n",
    "                                           4:'company_building_unknown_company', \\\n",
    "                                           5:'mixed_building_known_household', \\\n",
    "                                            6:'company_building', \\\n",
    "                                           7:'mixed_building_unknown_company'})"
   ]
  },
  {
   "cell_type": "code",
   "execution_count": 44,
   "metadata": {},
   "outputs": [],
   "source": [
    "updateW = azdias_under['OST_WEST_KZ'] == 'W'\n",
    "azdias_under.loc[updateW, 'OST_WEST_KZ'] = 1\n",
    "updateO = azdias_under['OST_WEST_KZ'] == 'O'\n",
    "azdias_under.loc[updateO, 'OST_WEST_KZ'] = 0"
   ]
  },
  {
   "cell_type": "code",
   "execution_count": 45,
   "metadata": {},
   "outputs": [],
   "source": [
    "azdias_under = encoding_df(azdias_under, 'CAMEO_DEUG_2015')\n",
    "azdias_under = azdias_under.rename(columns={0:'upper_class', \\\n",
    "                                           1:'upper_middleclass', \\\n",
    "                                           2:'established_middleclass', \\\n",
    "                                           3:'consumption_oriented_middleclass', \\\n",
    "                                           4:'active_middleclass', \\\n",
    "                                           5:'low_consumption_middleclass', \\\n",
    "                                           6:'lower_middleclass', \\\n",
    "                                           7:'working_class', \\\n",
    "                                           8:'urban_working_class'})"
   ]
  },
  {
   "cell_type": "code",
   "execution_count": 46,
   "metadata": {},
   "outputs": [],
   "source": [
    "codes = {'1A': 1, '1B': 2, '1C': 3, '1D': 4, '1E': 5, '2A': 6, '2B': 7, '2C': 8, '2D': 9, '3A': 10, \\\n",
    "         '3B': 11, '3C': 12, '3D': 13, '4A': 14, '4B': 15, '4C': 16, '4D': 17, '4E': 18, '5A': 19, \\\n",
    "         '5B': 20, '5C': 21, '5D': 22, '5E': 23, '5F': 24, '6A': 25, '6B': 26, '6C': 27, '6D': 28, \\\n",
    "         '6E': 29, '6F': 30, '7A': 31, '7B': 32, '7C': 33, '7D': 34, '7E': 35, '8A': 36, '8B': 37, \\\n",
    "         '8C': 38, '8D': 39, '9A': 40, '9B': 41, '9C': 42, '9D': 43, '9E': 44}\n",
    "\n",
    "cd2015 = azdias_under['CAMEO_DEU_2015'].unique()\n",
    "i = 0\n",
    "\n",
    "while i < len(cd2015):\n",
    "    update = cd2015[i]\n",
    "    if update != '0':\n",
    "        indexes = azdias_under['CAMEO_DEU_2015'] == update\n",
    "        azdias_under.loc[indexes, 'CAMEO_DEU_2015'] = codes[update]\n",
    "        \n",
    "    i += 1"
   ]
  },
  {
   "cell_type": "code",
   "execution_count": 47,
   "metadata": {},
   "outputs": [],
   "source": [
    "azdias_under = encoding_df(azdias_under, 'CAMEO_DEU_2015')"
   ]
  },
  {
   "cell_type": "code",
   "execution_count": 48,
   "metadata": {},
   "outputs": [],
   "source": [
    "definition = {0: 'work_life_balance', 1: 'wealthy_best_ager', 2: 'successful_songwriter', 3: 'old_nobility', \\\n",
    "              4: 'city_nobility', 5: 'cottage_chic', 6: 'noble_jogger', 7: 'established_gourmet', \\\n",
    "              8: 'fine_management', 9: 'career_and_family', 10: 'powershopping_families', 11: 'rural_neighborhoods', \\\n",
    "              12: 'secure_retirement', 13: 'family_starter', 14: 'family_life', 15: 'string_trimmer', 16: 'empty_nest', \\\n",
    "              17: 'golden_age_person', 18: 'younger_employees', 19: 'suddenly_family', 20: 'family_first', 21: 'stock_market_junkies', \\\n",
    "              22: 'coffee_rider', 23: 'active_retirement', 24: 'jobstarter', 25: 'petty_bourgeois', 26: 'long_established', \\\n",
    "              27: 'sportgardener', 28: 'urban_parents', 29: 'frugal_aging', 30: 'journeymen', 31: 'mantaplatte', \\\n",
    "              32: 'factory_worker', 33: 'rear_window', 34: 'interested_retirees', 35:'multi_culteral', 36:'young_mobile', \\\n",
    "              37: 'prefab', 38: 'town_seniors', 39: 'first_shared_apt', 40: 'temporary_workers', 41:'afternoon_talk_show', \\\n",
    "              42: 'mini_jobber', 43: 'socking_away'}\n",
    "\n",
    "i = 1\n",
    "while len(cd2015) > i:\n",
    "        column_name = definition[i]\n",
    "        encoded_col = i\n",
    "        azdias_under = azdias_under.rename(columns={encoded_col:column_name})\n",
    "        i += 1"
   ]
  },
  {
   "cell_type": "code",
   "execution_count": 49,
   "metadata": {},
   "outputs": [
    {
     "name": "stdout",
     "output_type": "stream",
     "text": [
      "['ALTERSKATEGORIE_GROB', 'ANREDE_KZ', 'FINANZ_MINIMALIST', 'FINANZ_SPARER', 'FINANZ_VORSORGER', 'FINANZ_ANLEGER', 'FINANZ_UNAUFFAELLIGER', 'FINANZ_HAUSBAUER', 'GREEN_AVANTGARDE', 'HEALTH_TYP', 'LP_LEBENSPHASE_FEIN', 'LP_LEBENSPHASE_GROB', 'PRAEGENDE_JUGENDJAHRE', 'RETOURTYP_BK_S', 'SEMIO_SOZ', 'SEMIO_FAM', 'SEMIO_REL', 'SEMIO_MAT', 'SEMIO_VERT', 'SEMIO_LUST', 'SEMIO_ERL', 'SEMIO_KULT', 'SEMIO_RAT', 'SEMIO_KRIT', 'SEMIO_DOM', 'SEMIO_KAEM', 'SEMIO_PFLICHT', 'SEMIO_TRADV', 'SOHO_KZ', 'ANZ_PERSONEN', 'ANZ_TITEL', 'HH_EINKOMMEN_SCORE', 'W_KEIT_KIND_HH', 'WOHNDAUER_2008', 'ANZ_HAUSHALTE_AKTIV', 'ANZ_HH_TITEL', 'KONSUMNAEHE', 'MIN_GEBAEUDEJAHR', 'OST_WEST_KZ', 'WOHNLAGE', 'CAMEO_INTL_2015', 'KBA05_ANTG1', 'KBA05_ANTG2', 'KBA05_ANTG3', 'KBA05_ANTG4', 'KBA05_GBZ', 'BALLRAUM', 'EWDICHTE', 'INNENSTADT', 'GEBAEUDETYP_RASTER', 'KKK', 'MOBI_REGIO', 'ONLINE_AFFINITAET', 'REGIOTYP', 'KBA13_ANZAHL_PKW', 'PLZ8_ANTG1', 'PLZ8_ANTG2', 'PLZ8_ANTG3', 'PLZ8_ANTG4', 'PLZ8_BAUMAX', 'PLZ8_HHZ', 'PLZ8_GBZ', 'ARBEIT', 'ORTSGR_KLS9', 'RELAT_AB', 'null_count', 'consumption_minimalist', 'consumption_traditionalist', 'store_shopper', 'online_shopper', 'cross_channel_enthusiast', 'restricted_CC_enthusiast', 'low_financial_interest', 'money_saver', 'home_ownership', 'be_prepared', 'investor', 'inconspicuous', 'event_travelers', 'family_oriented_vacationist', 'winter_sportspeople', 'culture_lovers', 'nature_fans', 'hiker', 'golden_ager', 'homeland_connected_vacationist', 'package_tour_traveler', 'connoisseurs', 'active_families', 'without_vacation', 'fs_single', 'fs_couple', 'fs_young_single_parent', 'fs_singe_par_w_teen', 'fs_single_par_w_child_full_age', 'fs_young_family', 'fs_family_w_teenager', 'fs_family_w_child_full_age', 'fs_shared_flat', 'fs_two_generational_household', 'fs_multi_generational_household', 'rs_single', 'rs_couple', 'rs_single_parent', 'rs_family', 'rs_multiperson_household', 'fs_low_income_earners', 'fs_orientation_low_income_earners', 'fs_aspiring_low_income_earners', 'fs_villagers', 'fs_minimalistic_high_income_earners', 'fs_independent_workers', 'fs_title_holder_households', 'fs_new_houseowners', 'fs_new_houseowners', 'fs_houseowners', 'rs_low_income_erners', 'rs_average_earners', 'rs_independents', 'rs_houseowners', 'rs_top_earners', 'german_sounding', 'foreeign_sounding', 'assimilated_names', 'shopping_stressed', 'family_shopper', 'demanding_shopper', 'SHOPPER_TYP_4', 'social_saftey_driven', 'individ_accepting_risks', 'green', 'smart', 'fair_supplied', 'price_driven', 'seeking_orientation', 'indifferent', 'residential_building', 'residential_building_unknown_household', 'mixed_building', 'mixed_building_unknown_company_household', 'upper_class', 'upper_middleclass', 'established_middleclass', 'consumption_oriented_middleclass', 'active_middleclass', 'low_consumption_middleclass', 'lower_middleclass', 'working_class', 'urban_working_class', 0, 'wealthy_best_ager', 'successful_songwriter', 'old_nobility', 'city_nobility', 'cottage_chic', 'noble_jogger', 'established_gourmet', 'fine_management', 'career_and_family', 'powershopping_families', 'rural_neighborhoods', 'secure_retirement', 'family_starter', 'family_life', 'string_trimmer', 'empty_nest', 'golden_age_person', 'younger_employees', 'suddenly_family', 'family_first', 'stock_market_junkies', 'coffee_rider', 'active_retirement', 'jobstarter', 'petty_bourgeois', 'long_established', 'sportgardener', 'urban_parents', 'frugal_aging', 'journeymen', 'mantaplatte', 'factory_worker', 'rear_window', 'interested_retirees', 'multi_culteral', 'young_mobile', 'prefab', 'town_seniors', 'first_shared_apt', 'temporary_workers', 'afternoon_talk_show', 'mini_jobber', 'socking_away']\n"
     ]
    }
   ],
   "source": [
    "my_list = azdias_under.columns.values.tolist()\n",
    "print(my_list)"
   ]
  },
  {
   "cell_type": "markdown",
   "metadata": {},
   "source": [
    "#### Discussion 1.2.1: Re-Encode Categorical Features\n",
    "\n",
    "(Double-click this cell and replace this text with your own text, reporting your findings and decisions regarding categorical features. Which ones did you keep, which did you drop, and what engineering steps did you perform?)"
   ]
  },
  {
   "cell_type": "markdown",
   "metadata": {},
   "source": [
    "#### Step 1.2.2: Engineer Mixed-Type Features\n",
    "\n",
    "There are a handful of features that are marked as \"mixed\" in the feature summary that require special treatment in order to be included in the analysis. There are two in particular that deserve attention; the handling of the rest are up to your own choices:\n",
    "- \"PRAEGENDE_JUGENDJAHRE\" combines information on three dimensions: generation by decade, movement (mainstream vs. avantgarde), and nation (east vs. west). While there aren't enough levels to disentangle east from west, you should create two new variables to capture the other two dimensions: an interval-type variable for decade, and a binary variable for movement.\n",
    "- \"CAMEO_INTL_2015\" combines information on two axes: wealth and life stage. Break up the two-digit codes by their 'tens'-place and 'ones'-place digits into two new ordinal variables (which, for the purposes of this project, is equivalent to just treating them as their raw numeric values).\n",
    "- If you decide to keep or engineer new features around the other mixed-type features, make sure you note your steps in the Discussion section.\n",
    "\n",
    "Be sure to check `Data_Dictionary.md` for the details needed to finish these tasks."
   ]
  },
  {
   "cell_type": "code",
   "execution_count": 50,
   "metadata": {},
   "outputs": [
    {
     "data": {
      "text/plain": [
       "array(['90', '70', '50', '80', '60', '40'], dtype=object)"
      ]
     },
     "execution_count": 50,
     "metadata": {},
     "output_type": "execute_result"
    }
   ],
   "source": [
    "# Investigate \"PRAEGENDE_JUGENDJAHRE\" and engineer two new variables.\n",
    "azdias_under['decade'] = np.NaN\n",
    "azdias_under['movement'] = np.NaN\n",
    "\n",
    "azdias_under.loc[(azdias_under['PRAEGENDE_JUGENDJAHRE'] > 0) & (azdias_under['PRAEGENDE_JUGENDJAHRE'] < 3), 'decade'] = '40'\n",
    "azdias_under.loc[(azdias_under['PRAEGENDE_JUGENDJAHRE'] > 2) & (azdias_under['PRAEGENDE_JUGENDJAHRE'] < 5), 'decade'] = '50'\n",
    "azdias_under.loc[(azdias_under['PRAEGENDE_JUGENDJAHRE'] > 4) & (azdias_under['PRAEGENDE_JUGENDJAHRE'] < 8), 'decade'] = '60'\n",
    "azdias_under.loc[(azdias_under['PRAEGENDE_JUGENDJAHRE'] > 7) & (azdias_under['PRAEGENDE_JUGENDJAHRE'] < 10), 'decade'] = '70'\n",
    "azdias_under.loc[(azdias_under['PRAEGENDE_JUGENDJAHRE'] > 9) & (azdias_under['PRAEGENDE_JUGENDJAHRE'] < 14), 'decade'] = '80'\n",
    "azdias_under.loc[(azdias_under['PRAEGENDE_JUGENDJAHRE'] > 13) & (azdias_under['PRAEGENDE_JUGENDJAHRE'] < 16), 'decade'] = '90'\n",
    "\n",
    "mainstream = [1, 3, 5, 8, 10, 12, 14]\n",
    "avantgarde = [2, 4, 6, 7, 9, 11, 13, 15]\n",
    "\n",
    "i = 0\n",
    "while i < len(mainstream):\n",
    "    azdias_under.loc[(azdias_under['PRAEGENDE_JUGENDJAHRE'] == mainstream[i]), 'movement'] = '0'\n",
    "    i += 1\n",
    "\n",
    "i = 0\n",
    "while i < len(avantgarde):\n",
    "    azdias_under.loc[(azdias_under['PRAEGENDE_JUGENDJAHRE'] == avantgarde[i]), 'movement'] = '1'\n",
    "    i += 1\n",
    "\n",
    "azdias_under['decade'].unique()"
   ]
  },
  {
   "cell_type": "code",
   "execution_count": 51,
   "metadata": {},
   "outputs": [
    {
     "data": {
      "text/plain": [
       "array(['0', '1'], dtype=object)"
      ]
     },
     "execution_count": 51,
     "metadata": {},
     "output_type": "execute_result"
    }
   ],
   "source": [
    "azdias_under['movement'].unique()"
   ]
  },
  {
   "cell_type": "code",
   "execution_count": 52,
   "metadata": {},
   "outputs": [],
   "source": [
    "# Investigate \"CAMEO_INTL_2015\" and engineer two new variables.\n",
    "azdias_under['household'] = azdias_under['CAMEO_INTL_2015'].str[0]\n",
    "azdias_under['household_details'] = azdias_under['CAMEO_INTL_2015'].str[1]"
   ]
  },
  {
   "cell_type": "code",
   "execution_count": 53,
   "metadata": {},
   "outputs": [
    {
     "data": {
      "text/plain": [
       "1         0\n",
       "2         0\n",
       "4         0\n",
       "5         0\n",
       "6         0\n",
       "7         0\n",
       "8         0\n",
       "9         0\n",
       "10        0\n",
       "19        0\n",
       "21        0\n",
       "22        0\n",
       "27        0\n",
       "28        0\n",
       "31        0\n",
       "32        0\n",
       "33        0\n",
       "36        0\n",
       "37        0\n",
       "38        0\n",
       "41        0\n",
       "43        0\n",
       "44        0\n",
       "45        0\n",
       "47        0\n",
       "49        0\n",
       "50        0\n",
       "51        0\n",
       "52        0\n",
       "55        0\n",
       "         ..\n",
       "891183    0\n",
       "891186    0\n",
       "891188    0\n",
       "891189    0\n",
       "891190    0\n",
       "891191    0\n",
       "891192    0\n",
       "891193    0\n",
       "891194    0\n",
       "891195    0\n",
       "891196    0\n",
       "891197    0\n",
       "891198    0\n",
       "891199    0\n",
       "891200    0\n",
       "891201    0\n",
       "891202    0\n",
       "891204    0\n",
       "891205    0\n",
       "891206    0\n",
       "891207    0\n",
       "891209    0\n",
       "891210    0\n",
       "891211    0\n",
       "891212    0\n",
       "891213    0\n",
       "891214    0\n",
       "891215    0\n",
       "891219    0\n",
       "891220    0\n",
       "Name: null_count, Length: 623209, dtype: int64"
      ]
     },
     "execution_count": 53,
     "metadata": {},
     "output_type": "execute_result"
    }
   ],
   "source": [
    "azdias_under.pop('PRAEGENDE_JUGENDJAHRE')\n",
    "azdias_under.pop('CAMEO_INTL_2015')\n",
    "azdias_under.pop('null_count')"
   ]
  },
  {
   "cell_type": "code",
   "execution_count": 54,
   "metadata": {},
   "outputs": [
    {
     "name": "stdout",
     "output_type": "stream",
     "text": [
      "<class 'pandas.core.frame.DataFrame'>\n",
      "Int64Index: 623209 entries, 1 to 891220\n",
      "Columns: 194 entries, ALTERSKATEGORIE_GROB to household_details\n",
      "dtypes: float64(188), int64(2), object(4)\n",
      "memory usage: 927.2+ MB\n"
     ]
    }
   ],
   "source": [
    "azdias_under.info()"
   ]
  },
  {
   "cell_type": "markdown",
   "metadata": {},
   "source": [
    "#### Discussion 1.2.2: Engineer Mixed-Type Features\n",
    "\n",
    "(Double-click this cell and replace this text with your own text, reporting your findings and decisions regarding mixed-value features. Which ones did you keep, which did you drop, and what engineering steps did you perform?)"
   ]
  },
  {
   "cell_type": "markdown",
   "metadata": {},
   "source": [
    "#### Step 1.2.3: Complete Feature Selection\n",
    "\n",
    "In order to finish this step up, you need to make sure that your data frame now only has the columns that you want to keep. To summarize, the dataframe should consist of the following:\n",
    "- All numeric, interval, and ordinal type columns from the original dataset.\n",
    "- Binary categorical features (all numerically-encoded).\n",
    "- Engineered features from other multi-level categorical features and mixed features.\n",
    "\n",
    "Make sure that for any new columns that you have engineered, that you've excluded the original columns from the final dataset. Otherwise, their values will interfere with the analysis later on the project. For example, you should not keep \"PRAEGENDE_JUGENDJAHRE\", since its values won't be useful for the algorithm: only the values derived from it in the engineered features you created should be retained. As a reminder, your data should only be from **the subset with few or no missing values**."
   ]
  },
  {
   "cell_type": "code",
   "execution_count": 55,
   "metadata": {},
   "outputs": [],
   "source": [
    "# If there are other re-engineering tasks you need to perform, make sure you\n",
    "# take care of them here. (Dealing with missing data will come in step 2.1.)\n",
    "\n"
   ]
  },
  {
   "cell_type": "code",
   "execution_count": 56,
   "metadata": {},
   "outputs": [],
   "source": [
    "# Do whatever you need to in order to ensure that the dataframe only contains\n",
    "# the columns that should be passed to the algorithm functions.\n",
    "\n"
   ]
  },
  {
   "cell_type": "markdown",
   "metadata": {},
   "source": [
    "### Step 1.3: Create a Cleaning Function\n",
    "\n",
    "Even though you've finished cleaning up the general population demographics data, it's important to look ahead to the future and realize that you'll need to perform the same cleaning steps on the customer demographics data. In this substep, complete the function below to execute the main feature selection, encoding, and re-engineering steps you performed above. Then, when it comes to looking at the customer data in Step 3, you can just run this function on that DataFrame to get the trimmed dataset in a single step."
   ]
  },
  {
   "cell_type": "code",
   "execution_count": 57,
   "metadata": {},
   "outputs": [],
   "source": [
    "def clean_data(df):\n",
    "    \"\"\"\n",
    "    Perform feature trimming, re-encoding, and engineering for demographics\n",
    "    data\n",
    "    \n",
    "    INPUT: Demographics DataFrame\n",
    "    OUTPUT: Trimmed and cleaned demographics DataFrame\n",
    "    \"\"\"\n",
    "    \n",
    "    # Put in code here to execute all main cleaning steps:\n",
    "    # convert missing value codes into NaNs, ...\n",
    "    \n",
    "    \n",
    "    # remove selected columns and rows, ...\n",
    "\n",
    "    \n",
    "    # select, re-encode, and engineer column values.\n",
    "\n",
    "    \n",
    "    # Return the cleaned dataframe.\n",
    "    \n",
    "    "
   ]
  },
  {
   "cell_type": "markdown",
   "metadata": {},
   "source": [
    "## Step 2: Feature Transformation\n",
    "\n",
    "### Step 2.1: Apply Feature Scaling\n",
    "\n",
    "Before we apply dimensionality reduction techniques to the data, we need to perform feature scaling so that the principal component vectors are not influenced by the natural differences in scale for features. Starting from this part of the project, you'll want to keep an eye on the [API reference page for sklearn](http://scikit-learn.org/stable/modules/classes.html) to help you navigate to all of the classes and functions that you'll need. In this substep, you'll need to check the following:\n",
    "\n",
    "- sklearn requires that data not have missing values in order for its estimators to work properly. So, before applying the scaler to your data, make sure that you've cleaned the DataFrame of the remaining missing values. This can be as simple as just removing all data points with missing data, or applying an [Imputer](https://scikit-learn.org/0.16/modules/generated/sklearn.preprocessing.Imputer.html) to replace all missing values. You might also try a more complicated procedure where you temporarily remove missing values in order to compute the scaling parameters before re-introducing those missing values and applying imputation. Think about how much missing data you have and what possible effects each approach might have on your analysis, and justify your decision in the discussion section below.\n",
    "- For the actual scaling function, a [StandardScaler](http://scikit-learn.org/stable/modules/generated/sklearn.preprocessing.StandardScaler.html) instance is suggested, scaling each feature to mean 0 and standard deviation 1.\n",
    "- For these classes, you can make use of the `.fit_transform()` method to both fit a procedure to the data as well as apply the transformation to the data at the same time. Don't forget to keep the fit sklearn objects handy, since you'll be applying them to the customer demographics data towards the end of the project."
   ]
  },
  {
   "cell_type": "code",
   "execution_count": 58,
   "metadata": {},
   "outputs": [
    {
     "data": {
      "text/plain": [
       "ALTERSKATEGORIE_GROB          0\n",
       "ANREDE_KZ                     0\n",
       "FINANZ_MINIMALIST             0\n",
       "FINANZ_SPARER                 0\n",
       "FINANZ_VORSORGER              0\n",
       "FINANZ_ANLEGER                0\n",
       "FINANZ_UNAUFFAELLIGER         0\n",
       "FINANZ_HAUSBAUER              0\n",
       "GREEN_AVANTGARDE              0\n",
       "HEALTH_TYP                    0\n",
       "LP_LEBENSPHASE_FEIN           0\n",
       "LP_LEBENSPHASE_GROB           0\n",
       "RETOURTYP_BK_S                0\n",
       "SEMIO_SOZ                     0\n",
       "SEMIO_FAM                     0\n",
       "SEMIO_REL                     0\n",
       "SEMIO_MAT                     0\n",
       "SEMIO_VERT                    0\n",
       "SEMIO_LUST                    0\n",
       "SEMIO_ERL                     0\n",
       "SEMIO_KULT                    0\n",
       "SEMIO_RAT                     0\n",
       "SEMIO_KRIT                    0\n",
       "SEMIO_DOM                     0\n",
       "SEMIO_KAEM                    0\n",
       "SEMIO_PFLICHT                 0\n",
       "SEMIO_TRADV                   0\n",
       "SOHO_KZ                       0\n",
       "ANZ_PERSONEN                  0\n",
       "ANZ_TITEL                     0\n",
       "                          ...  \n",
       "younger_employees        186950\n",
       "suddenly_family          186950\n",
       "family_first             186950\n",
       "stock_market_junkies     186950\n",
       "coffee_rider             186950\n",
       "active_retirement        186950\n",
       "jobstarter               186950\n",
       "petty_bourgeois          186950\n",
       "long_established         186950\n",
       "sportgardener            186950\n",
       "urban_parents            186950\n",
       "frugal_aging             186950\n",
       "journeymen               186950\n",
       "mantaplatte              186950\n",
       "factory_worker           186950\n",
       "rear_window              186950\n",
       "interested_retirees      186950\n",
       "multi_culteral           186950\n",
       "young_mobile             186950\n",
       "prefab                   186950\n",
       "town_seniors             186950\n",
       "first_shared_apt         186950\n",
       "temporary_workers        186950\n",
       "afternoon_talk_show      186950\n",
       "mini_jobber              186950\n",
       "socking_away             186950\n",
       "decade                        0\n",
       "movement                      0\n",
       "household                     0\n",
       "household_details             0\n",
       "Length: 194, dtype: int64"
      ]
     },
     "execution_count": 58,
     "metadata": {},
     "output_type": "execute_result"
    }
   ],
   "source": [
    "azdias_under.dtypes\n",
    "azdias_under.isnull().sum()"
   ]
  },
  {
   "cell_type": "code",
   "execution_count": 59,
   "metadata": {},
   "outputs": [],
   "source": [
    "# If you've not yet cleaned the dataset of all NaN values, then investigate and\n",
    "# do that now.\n",
    "from sklearn.preprocessing import Imputer\n",
    "\n",
    "azdias_under_test = azdias_under.astype(float)\n",
    "imp = Imputer(strategy=\"mean\")\n",
    "azdias_under_test_imputed = imp.fit_transform(azdias_under_test)"
   ]
  },
  {
   "cell_type": "code",
   "execution_count": 60,
   "metadata": {},
   "outputs": [
    {
     "data": {
      "text/plain": [
       "array([[ 0.97419929,  4.00100579,  0.73487662, ...,  0.        ,\n",
       "         3.42979848,  0.66697645],\n",
       "       [ 2.92259787,  4.00100579,  0.73487662, ...,  2.35979956,\n",
       "         1.37191939,  2.6679058 ],\n",
       "       [ 2.92259787,  2.00050289,  2.93950647, ...,  0.        ,\n",
       "         2.74383879,  2.00092935],\n",
       "       ..., \n",
       "       [ 1.94839858,  4.00100579,  0.73487662, ...,  0.        ,\n",
       "         2.05787909,  0.66697645],\n",
       "       [ 0.97419929,  2.00050289,  0.73487662, ...,  0.        ,\n",
       "         3.42979848,  0.66697645],\n",
       "       [ 3.89679716,  2.00050289,  2.93950647, ...,  0.        ,\n",
       "         2.74383879,  2.00092935]])"
      ]
     },
     "execution_count": 60,
     "metadata": {},
     "output_type": "execute_result"
    }
   ],
   "source": [
    "# Apply feature scaling to the general population demographics data.\n",
    "from sklearn.preprocessing import StandardScaler\n",
    "\n",
    "feat_scale = StandardScaler(with_mean=0, with_std=1)\n",
    "feat_scale.fit_transform(azdias_under_test_imputed)"
   ]
  },
  {
   "cell_type": "code",
   "execution_count": null,
   "metadata": {},
   "outputs": [],
   "source": []
  },
  {
   "cell_type": "code",
   "execution_count": 61,
   "metadata": {},
   "outputs": [
    {
     "data": {
      "text/plain": [
       "(623209, 194)"
      ]
     },
     "execution_count": 61,
     "metadata": {},
     "output_type": "execute_result"
    }
   ],
   "source": [
    "azdias_under_test_imputed.shape"
   ]
  },
  {
   "cell_type": "markdown",
   "metadata": {},
   "source": [
    "### Discussion 2.1: Apply Feature Scaling\n",
    "\n",
    "(Double-click this cell and replace this text with your own text, reporting your decisions regarding feature scaling.)"
   ]
  },
  {
   "cell_type": "markdown",
   "metadata": {},
   "source": [
    "### Step 2.2: Perform Dimensionality Reduction\n",
    "\n",
    "On your scaled data, you are now ready to apply dimensionality reduction techniques.\n",
    "\n",
    "- Use sklearn's [PCA](http://scikit-learn.org/stable/modules/generated/sklearn.decomposition.PCA.html) class to apply principal component analysis on the data, thus finding the vectors of maximal variance in the data. To start, you should not set any parameters (so all components are computed) or set a number of components that is at least half the number of features (so there's enough features to see the general trend in variability).\n",
    "- Check out the ratio of variance explained by each principal component as well as the cumulative variance explained. Try plotting the cumulative or sequential values using matplotlib's [`plot()`](https://matplotlib.org/api/_as_gen/matplotlib.pyplot.plot.html) function. Based on what you find, select a value for the number of transformed features you'll retain for the clustering part of the project.\n",
    "- Once you've made a choice for the number of components to keep, make sure you re-fit a PCA instance to perform the decided-on transformation."
   ]
  },
  {
   "cell_type": "code",
   "execution_count": 83,
   "metadata": {},
   "outputs": [],
   "source": [
    "def run_pca(n, data):\n",
    "\n",
    "    X = StandardScaler().fit_transform(data)\n",
    "    pca = PCA(n_components = n)\n",
    "    X_pca = pca.fit_transform(X)\n",
    "    \n",
    "    return pca, X_pca"
   ]
  },
  {
   "cell_type": "code",
   "execution_count": 84,
   "metadata": {},
   "outputs": [
    {
     "name": "stdout",
     "output_type": "stream",
     "text": [
      "[  6.26167143e-02   4.61076635e-02   3.20519304e-02   2.90074073e-02\n",
      "   1.99578466e-02   1.88719535e-02   1.54065206e-02   1.44723769e-02\n",
      "   1.41634888e-02   1.36748192e-02   1.30252307e-02   1.20650878e-02\n",
      "   1.16742960e-02   1.14696321e-02   1.12855918e-02   1.12330452e-02\n",
      "   1.11212921e-02   1.10094385e-02   1.09068329e-02   1.08180752e-02\n",
      "   1.07343976e-02   1.02755537e-02   1.01473312e-02   9.60605925e-03\n",
      "   9.06427075e-03   8.86070701e-03   8.48238153e-03   8.03113510e-03\n",
      "   7.62460987e-03   7.53784715e-03   7.32653757e-03   7.25296770e-03\n",
      "   7.06238068e-03   6.79855399e-03   6.74931360e-03   6.62977800e-03\n",
      "   6.51631621e-03   6.39574211e-03   6.37392547e-03   6.35348116e-03\n",
      "   6.28948003e-03   6.18360087e-03   6.06748811e-03   6.02473048e-03\n",
      "   5.99727759e-03   5.95760646e-03   5.84630383e-03   5.75636056e-03\n",
      "   5.73244463e-03   5.69300514e-03   5.63701531e-03   5.57715838e-03\n",
      "   5.56656367e-03   5.54208599e-03   5.50690160e-03   5.46889102e-03\n",
      "   5.45884856e-03   5.42319795e-03   5.41607525e-03   5.40115498e-03\n",
      "   5.38114293e-03   5.37131109e-03   5.36494258e-03   5.35675309e-03\n",
      "   5.32737727e-03   5.32320491e-03   5.30867286e-03   5.30144145e-03\n",
      "   5.29094406e-03   5.28409587e-03   5.27338730e-03   5.26205220e-03\n",
      "   5.25593190e-03   5.24720498e-03   5.24695460e-03   5.23925808e-03\n",
      "   5.23623737e-03   5.23424918e-03   5.23005276e-03   5.22652676e-03\n",
      "   5.22475972e-03   5.22294242e-03   5.21835187e-03   5.21377602e-03\n",
      "   5.21101613e-03   5.21071388e-03   5.20651029e-03   5.19640834e-03\n",
      "   5.19114774e-03   5.18361024e-03   5.17025080e-03   5.14867377e-03\n",
      "   5.14118937e-03   5.12294740e-03   5.06738328e-03   5.01097056e-03\n",
      "   4.97747253e-03   4.96028654e-03   4.91838338e-03   4.84833904e-03\n",
      "   4.81776489e-03   4.80801372e-03   4.72931096e-03   4.69347234e-03\n",
      "   4.59062429e-03   4.55286354e-03   4.47221028e-03   4.36827937e-03\n",
      "   4.28500959e-03   4.27782861e-03   4.07084280e-03   4.06870798e-03\n",
      "   3.97924252e-03   3.93572575e-03   3.84717674e-03   3.75028366e-03\n",
      "   3.65850003e-03   3.39980018e-03   3.27026288e-03   3.19789953e-03\n",
      "   3.05039803e-03   2.61733021e-03   2.59291225e-03   2.53510822e-03\n",
      "   2.40827756e-03   2.34968772e-03   2.33048525e-03   2.20360057e-03\n",
      "   2.09841956e-03   2.03860252e-03   2.02914330e-03   1.95611593e-03\n",
      "   1.75912800e-03   1.54304591e-03   1.47087835e-03   1.41221351e-03\n",
      "   1.37512415e-03   1.31063120e-03   1.27465290e-03   1.22588110e-03\n",
      "   1.18795281e-03   1.16687176e-03   1.08852092e-03   1.05561553e-03\n",
      "   1.02890273e-03   9.82268378e-04   9.30526419e-04   8.73354563e-04\n",
      "   8.46235703e-04   8.02876223e-04   7.55793626e-04   7.34828505e-04\n",
      "   7.22759168e-04   6.97038058e-04   6.21599915e-04   5.61974811e-04\n",
      "   5.41149597e-04   4.43193548e-04   4.26402577e-04   4.07700034e-04\n",
      "   2.18218210e-04   3.51628765e-05   5.00819075e-27   2.85809632e-29\n",
      "   1.75025777e-29   8.01937282e-30   6.56717962e-30   6.09191708e-30\n",
      "   5.93241039e-30   5.57965438e-30   4.60290382e-30   4.15280500e-30\n",
      "   3.79593074e-30   3.50085585e-30   3.31692377e-30   3.15844580e-30\n",
      "   2.79910847e-30   2.75366506e-30   2.75281283e-30   2.57869393e-30\n",
      "   2.30998334e-30   1.83537446e-30   1.66983934e-30   1.35805361e-30\n",
      "   1.26957308e-30   1.01059787e-30   8.74958435e-31   7.39675776e-31\n",
      "   6.11754082e-31   3.91940642e-31   2.47754818e-31   2.37526485e-31\n",
      "   1.23489694e-32   3.51554256e-34]\n"
     ]
    }
   ],
   "source": [
    "# Apply PCA to the data.\n",
    "from sklearn.decomposition import PCA\n",
    "\n",
    "pca, X_pca = run_pca(194, azdias_under_test_imputed)\n",
    "\n",
    "print(pca.explained_variance_ratio_)"
   ]
  },
  {
   "cell_type": "code",
   "execution_count": 85,
   "metadata": {},
   "outputs": [
    {
     "name": "stdout",
     "output_type": "stream",
     "text": [
      "[  1.20850452e+01   8.89879333e+00   6.18603249e+00   5.59843860e+00\n",
      "   3.85187058e+00   3.64229287e+00   2.97346324e+00   2.79317323e+00\n",
      "   2.73355772e+00   2.63924435e+00   2.51387356e+00   2.32856569e+00\n",
      "   2.25314275e+00   2.21364255e+00   2.17812272e+00   2.16798120e+00\n",
      "   2.14641282e+00   2.12482505e+00   2.10502213e+00   2.08789186e+00\n",
      "   2.07174206e+00   1.98318504e+00   1.95843806e+00   1.85397241e+00\n",
      "   1.74940706e+00   1.71011920e+00   1.63710226e+00   1.55001156e+00\n",
      "   1.47155207e+00   1.45480683e+00   1.41402402e+00   1.39982501e+00\n",
      "   1.36304166e+00   1.31212303e+00   1.30261961e+00   1.27954921e+00\n",
      "   1.25765105e+00   1.23438021e+00   1.23016959e+00   1.22622383e+00\n",
      "   1.21387159e+00   1.19343688e+00   1.17102709e+00   1.16277485e+00\n",
      "   1.15747643e+00   1.14981989e+00   1.12833845e+00   1.11097937e+00\n",
      "   1.10636359e+00   1.09875176e+00   1.08794570e+00   1.07639329e+00\n",
      "   1.07434851e+00   1.06962431e+00   1.06283371e+00   1.05549766e+00\n",
      "   1.05355946e+00   1.04667888e+00   1.04530420e+00   1.04242458e+00\n",
      "   1.03856225e+00   1.03666470e+00   1.03543558e+00   1.03385500e+00\n",
      "   1.02818546e+00   1.02738020e+00   1.02457551e+00   1.02317984e+00\n",
      "   1.02115384e+00   1.01983214e+00   1.01776538e+00   1.01557770e+00\n",
      "   1.01439648e+00   1.01271219e+00   1.01266386e+00   1.01117843e+00\n",
      "   1.01059543e+00   1.01021171e+00   1.00940180e+00   1.00872128e+00\n",
      "   1.00838024e+00   1.00802950e+00   1.00714353e+00   1.00626039e+00\n",
      "   1.00572773e+00   1.00566939e+00   1.00485810e+00   1.00290842e+00\n",
      "   1.00189312e+00   1.00043838e+00   9.97860006e-01   9.93695631e-01\n",
      "   9.92251141e-01   9.88730434e-01   9.78006542e-01   9.67118870e-01\n",
      "   9.60653739e-01   9.57336839e-01   9.49249516e-01   9.35730935e-01\n",
      "   9.29830116e-01   9.27948137e-01   9.12758481e-01   9.05841615e-01\n",
      "   8.85991910e-01   8.78704073e-01   8.63137969e-01   8.43079272e-01\n",
      "   8.27008179e-01   8.25622247e-01   7.85673921e-01   7.85261900e-01\n",
      "   7.67995039e-01   7.59596288e-01   7.42506302e-01   7.23805907e-01\n",
      "   7.06091639e-01   6.56162487e-01   6.31161748e-01   6.17195599e-01\n",
      "   5.88727764e-01   5.05145540e-01   5.00432868e-01   4.89276671e-01\n",
      "   4.64798315e-01   4.53490458e-01   4.49784375e-01   4.25295592e-01\n",
      "   4.04995626e-01   3.93450917e-01   3.91625286e-01   3.77530981e-01\n",
      "   3.39512249e-01   2.97808339e-01   2.83879977e-01   2.72557645e-01\n",
      "   2.65399388e-01   2.52952228e-01   2.46008404e-01   2.36595432e-01\n",
      "   2.29275260e-01   2.25206612e-01   2.10084875e-01   2.03734123e-01\n",
      "   1.98578546e-01   1.89578101e-01   1.79591887e-01   1.68557701e-01\n",
      "   1.63323753e-01   1.54955360e-01   1.45868404e-01   1.41822129e-01\n",
      "   1.39492743e-01   1.34528561e-01   1.19968976e-01   1.08461312e-01\n",
      "   1.04442040e-01   8.55364921e-02   8.22958294e-02   7.86862327e-02\n",
      "   4.21161821e-02   6.78644604e-03   9.66582366e-25   5.51613475e-27\n",
      "   3.37800292e-27   1.54774144e-27   1.26746770e-27   1.17574188e-27\n",
      "   1.14495704e-27   1.07687502e-27   8.88361864e-28   8.01492651e-28\n",
      "   7.32615809e-28   6.75666264e-28   6.40167314e-28   6.09581017e-28\n",
      "   5.40228801e-28   5.31458210e-28   5.31293729e-28   4.97688727e-28\n",
      "   4.45827501e-28   3.54227839e-28   3.22279510e-28   2.62104767e-28\n",
      "   2.45027998e-28   1.95045703e-28   1.68867249e-28   1.42757654e-28\n",
      "   1.18068727e-28   7.56446653e-29   4.78167566e-29   4.58426851e-29\n",
      "   2.38335491e-30   6.78500804e-32]\n"
     ]
    }
   ],
   "source": [
    "print(pca.explained_variance_)"
   ]
  },
  {
   "cell_type": "code",
   "execution_count": 86,
   "metadata": {},
   "outputs": [
    {
     "data": {
      "image/png": "[encoded data removed]",
      "text/plain": [
       "<matplotlib.figure.Figure at 0x7fcebe8b5c18>"
      ]
     },
     "metadata": {
      "needs_background": "light"
     },
     "output_type": "display_data"
    }
   ],
   "source": [
    "# Investigate the variance accounted for by each principal component.\n",
    "plt.plot(pca.explained_variance_ratio_)\n",
    "plt.show()"
   ]
  },
  {
   "cell_type": "code",
   "execution_count": 87,
   "metadata": {},
   "outputs": [
    {
     "data": {
      "image/png": "[encoded data removed]",
      "text/plain": [
       "<matplotlib.figure.Figure at 0x7fcebe8b59b0>"
      ]
     },
     "metadata": {
      "needs_background": "light"
     },
     "output_type": "display_data"
    }
   ],
   "source": [
    "plt.plot(pca.explained_variance_)\n",
    "plt.show()"
   ]
  },
  {
   "cell_type": "code",
   "execution_count": 88,
   "metadata": {},
   "outputs": [
    {
     "name": "stdout",
     "output_type": "stream",
     "text": [
      "[ 0.06261671  0.04610766  0.0320519   0.02900738  0.01995644  0.01887056\n",
      "  0.01539372  0.01445561  0.01415439  0.01365604  0.01298278  0.01202936\n",
      "  0.01156495  0.01139919  0.01119092  0.01109725  0.01106361  0.01094774\n",
      "  0.01077448  0.01067087  0.01041737  0.0101446   0.00996555  0.00940799\n",
      "  0.00861762]\n"
     ]
    }
   ],
   "source": [
    "# Re-apply PCA to the data while selecting for number of components to retain.\n",
    "pca, X_pca = run_pca(25, azdias_under_test_imputed)\n",
    "\n",
    "print(pca.explained_variance_ratio_)\n"
   ]
  },
  {
   "cell_type": "code",
   "execution_count": 89,
   "metadata": {},
   "outputs": [
    {
     "name": "stdout",
     "output_type": "stream",
     "text": [
      "[ 12.08504522   8.89879302   6.18602751   5.59843309   3.85159922\n",
      "   3.64202421   2.9709926    2.78993658   2.73180248   2.63561977\n",
      "   2.50567976   2.3216698    2.23203945   2.20004795   2.15985176\n",
      "   2.14177344   2.13527939   2.11291661   2.07947794   2.05948199\n",
      "   2.01055624   1.95791118   1.92335415   1.81574574   1.66320267]\n"
     ]
    }
   ],
   "source": [
    "print(pca.explained_variance_)"
   ]
  },
  {
   "cell_type": "code",
   "execution_count": 90,
   "metadata": {},
   "outputs": [
    {
     "data": {
      "image/png": "[encoded data removed]",
      "text/plain": [
       "<matplotlib.figure.Figure at 0x7fcebe8b5278>"
      ]
     },
     "metadata": {
      "needs_background": "light"
     },
     "output_type": "display_data"
    }
   ],
   "source": [
    "plt.plot(pca.explained_variance_ratio_)\n",
    "plt.show()"
   ]
  },
  {
   "cell_type": "code",
   "execution_count": 91,
   "metadata": {},
   "outputs": [
    {
     "data": {
      "image/png": "[encoded data removed]",
      "text/plain": [
       "<matplotlib.figure.Figure at 0x7fcebd364eb8>"
      ]
     },
     "metadata": {
      "needs_background": "light"
     },
     "output_type": "display_data"
    }
   ],
   "source": [
    "plt.plot(pca.explained_variance_)\n",
    "plt.show()"
   ]
  },
  {
   "cell_type": "markdown",
   "metadata": {},
   "source": [
    "### Discussion 2.2: Perform Dimensionality Reduction\n",
    "\n",
    "(Double-click this cell and replace this text with your own text, reporting your findings and decisions regarding dimensionality reduction. How many principal components / transformed features are you retaining for the next step of the analysis?)"
   ]
  },
  {
   "cell_type": "markdown",
   "metadata": {},
   "source": [
    "### Step 2.3: Interpret Principal Components\n",
    "\n",
    "Now that we have our transformed principal components, it's a nice idea to check out the weight of each variable on the first few components to see if they can be interpreted in some fashion.\n",
    "\n",
    "As a reminder, each principal component is a unit vector that points in the direction of highest variance (after accounting for the variance captured by earlier principal components). The further a weight is from zero, the more the principal component is in the direction of the corresponding feature. If two features have large weights of the same sign (both positive or both negative), then increases in one tend expect to be associated with increases in the other. To contrast, features with different signs can be expected to show a negative correlation: increases in one variable should result in a decrease in the other.\n",
    "\n",
    "- To investigate the features, you should map each weight to their corresponding feature name, then sort the features according to weight. The most interesting features for each principal component, then, will be those at the beginning and end of the sorted list. Use the data dictionary document to help you understand these most prominent features, their relationships, and what a positive or negative value on the principal component might indicate.\n",
    "- You should investigate and interpret feature associations from the first three principal components in this substep. To help facilitate this, you should write a function that you can call at any time to print the sorted list of feature weights, for the *i*-th principal component. This might come in handy in the next step of the project, when you interpret the tendencies of the discovered clusters."
   ]
  },
  {
   "cell_type": "code",
   "execution_count": 92,
   "metadata": {},
   "outputs": [],
   "source": [
    "# Map weights for the first principal component to corresponding feature names\n",
    "# and then print the linked values, sorted by weight.\n",
    "# HINT: Try defining a function here or in a new cell that you can reuse in the\n",
    "# other cells.\n",
    "def calc_weights(x): \n",
    "    column_list = azdias_under.columns.values.tolist()\n",
    "\n",
    "    df = pd.DataFrame(pca.components_,  columns = column_list)\n",
    "    weights = df.iloc[x].sort_values(ascending=False)\n",
    "\n",
    "    return weights"
   ]
  },
  {
   "cell_type": "code",
   "execution_count": 93,
   "metadata": {},
   "outputs": [
    {
     "name": "stdout",
     "output_type": "stream",
     "text": [
      "PLZ8_ANTG3               0.216148\n",
      "PLZ8_ANTG4               0.210802\n",
      "PLZ8_BAUMAX              0.207711\n",
      "household                0.194847\n",
      "HH_EINKOMMEN_SCORE       0.191294\n",
      "ORTSGR_KLS9              0.187685\n",
      "EWDICHTE                 0.184243\n",
      "FINANZ_HAUSBAUER         0.150911\n",
      "KBA05_ANTG4              0.146820\n",
      "PLZ8_ANTG2               0.142769\n",
      "ARBEIT                   0.137907\n",
      "FINANZ_SPARER            0.133810\n",
      "ANZ_HAUSHALTE_AKTIV      0.130482\n",
      "KBA05_ANTG3              0.130044\n",
      "RELAT_AB                 0.125529\n",
      "SEMIO_PFLICHT            0.102907\n",
      "SEMIO_REL                0.099627\n",
      "decade                   0.094528\n",
      "SEMIO_TRADV              0.091126\n",
      "SEMIO_RAT                0.085684\n",
      "SEMIO_MAT                0.078939\n",
      "SEMIO_FAM                0.075023\n",
      "REGIOTYP                 0.068718\n",
      "SEMIO_KULT               0.068248\n",
      "FINANZ_UNAUFFAELLIGER    0.067713\n",
      "FINANZ_ANLEGER           0.059474\n",
      "W_KEIT_KIND_HH           0.046345\n",
      "SEMIO_SOZ                0.042427\n",
      "KKK                      0.040433\n",
      "PLZ8_HHZ                 0.036427\n",
      "                           ...   \n",
      "SOHO_KZ                 -0.002359\n",
      "ANZ_TITEL               -0.005043\n",
      "RETOURTYP_BK_S          -0.018720\n",
      "SEMIO_VERT              -0.027747\n",
      "MIN_GEBAEUDEJAHR        -0.035312\n",
      "ONLINE_AFFINITAET       -0.045611\n",
      "OST_WEST_KZ             -0.061325\n",
      "WOHNDAUER_2008          -0.063852\n",
      "WOHNLAGE                -0.076435\n",
      "SEMIO_ERL               -0.078715\n",
      "KBA13_ANZAHL_PKW        -0.079771\n",
      "SEMIO_LUST              -0.082309\n",
      "ANZ_PERSONEN            -0.095402\n",
      "FINANZ_VORSORGER        -0.107382\n",
      "GREEN_AVANTGARDE        -0.110520\n",
      "movement                -0.110520\n",
      "GEBAEUDETYP_RASTER      -0.112463\n",
      "ALTERSKATEGORIE_GROB    -0.114017\n",
      "BALLRAUM                -0.118554\n",
      "household_details       -0.120763\n",
      "LP_LEBENSPHASE_GROB     -0.130551\n",
      "LP_LEBENSPHASE_FEIN     -0.146012\n",
      "INNENSTADT              -0.156335\n",
      "KONSUMNAEHE             -0.158214\n",
      "PLZ8_GBZ                -0.165092\n",
      "FINANZ_MINIMALIST       -0.205729\n",
      "KBA05_GBZ               -0.207492\n",
      "KBA05_ANTG1             -0.216902\n",
      "PLZ8_ANTG1              -0.217748\n",
      "MOBI_REGIO              -0.232218\n",
      "Name: 0, Length: 194, dtype: float64\n"
     ]
    }
   ],
   "source": [
    "print(calc_weights(0))"
   ]
  },
  {
   "cell_type": "code",
   "execution_count": 94,
   "metadata": {},
   "outputs": [
    {
     "name": "stdout",
     "output_type": "stream",
     "text": [
      "ALTERSKATEGORIE_GROB     0.262843\n",
      "SEMIO_ERL                0.233660\n",
      "FINANZ_VORSORGER         0.229928\n",
      "SEMIO_LUST               0.182149\n",
      "RETOURTYP_BK_S           0.164751\n",
      "W_KEIT_KIND_HH           0.119370\n",
      "SEMIO_KRIT               0.119325\n",
      "FINANZ_HAUSBAUER         0.107318\n",
      "SEMIO_KAEM               0.106691\n",
      "PLZ8_ANTG3               0.086756\n",
      "ANREDE_KZ                0.086038\n",
      "EWDICHTE                 0.085210\n",
      "ORTSGR_KLS9              0.085107\n",
      "PLZ8_ANTG4               0.083154\n",
      "PLZ8_BAUMAX              0.078275\n",
      "FINANZ_MINIMALIST        0.073440\n",
      "SEMIO_DOM                0.065489\n",
      "ARBEIT                   0.062603\n",
      "household                0.061615\n",
      "WOHNDAUER_2008           0.060216\n",
      "KBA05_ANTG4              0.060143\n",
      "RELAT_AB                 0.059004\n",
      "PLZ8_ANTG2               0.057336\n",
      "ANZ_HAUSHALTE_AKTIV      0.053137\n",
      "KBA05_ANTG3              0.041524\n",
      "HH_EINKOMMEN_SCORE       0.037594\n",
      "ANZ_HH_TITEL             0.028076\n",
      "REGIOTYP                 0.018094\n",
      "PLZ8_HHZ                 0.010492\n",
      "ANZ_TITEL                0.007607\n",
      "                           ...   \n",
      "OST_WEST_KZ             -0.028026\n",
      "KBA13_ANZAHL_PKW        -0.034432\n",
      "LP_LEBENSPHASE_FEIN     -0.037165\n",
      "GEBAEUDETYP_RASTER      -0.037422\n",
      "LP_LEBENSPHASE_GROB     -0.043939\n",
      "WOHNLAGE                -0.052833\n",
      "HEALTH_TYP              -0.054190\n",
      "BALLRAUM                -0.056320\n",
      "KONSUMNAEHE             -0.060703\n",
      "SEMIO_VERT              -0.063594\n",
      "ANZ_PERSONEN            -0.064052\n",
      "PLZ8_GBZ                -0.068396\n",
      "INNENSTADT              -0.069806\n",
      "KBA05_ANTG1             -0.071599\n",
      "KBA05_GBZ               -0.078817\n",
      "MOBI_REGIO              -0.079077\n",
      "PLZ8_ANTG1              -0.084835\n",
      "SEMIO_SOZ               -0.102744\n",
      "SEMIO_MAT               -0.156244\n",
      "ONLINE_AFFINITAET       -0.158791\n",
      "SEMIO_RAT               -0.175146\n",
      "SEMIO_FAM               -0.180289\n",
      "FINANZ_ANLEGER          -0.205738\n",
      "SEMIO_KULT              -0.219731\n",
      "FINANZ_UNAUFFAELLIGER   -0.226627\n",
      "SEMIO_TRADV             -0.232011\n",
      "FINANZ_SPARER           -0.238405\n",
      "SEMIO_PFLICHT           -0.241054\n",
      "decade                  -0.251808\n",
      "SEMIO_REL               -0.265171\n",
      "Name: 1, Length: 194, dtype: float64\n"
     ]
    }
   ],
   "source": [
    "# Map weights for the second principal component to corresponding feature names\n",
    "# and then print the linked values, sorted by weight.\n",
    "print(calc_weights(1))\n"
   ]
  },
  {
   "cell_type": "code",
   "execution_count": 95,
   "metadata": {},
   "outputs": [
    {
     "name": "stdout",
     "output_type": "stream",
     "text": [
      "SEMIO_VERT               0.349148\n",
      "SEMIO_SOZ                0.263626\n",
      "SEMIO_FAM                0.251568\n",
      "SEMIO_KULT               0.232463\n",
      "FINANZ_MINIMALIST        0.161368\n",
      "RETOURTYP_BK_S           0.113387\n",
      "FINANZ_VORSORGER         0.096657\n",
      "W_KEIT_KIND_HH           0.089747\n",
      "ALTERSKATEGORIE_GROB     0.080872\n",
      "SEMIO_REL                0.077945\n",
      "SEMIO_LUST               0.072841\n",
      "movement                 0.058516\n",
      "GREEN_AVANTGARDE         0.058516\n",
      "SEMIO_MAT                0.049965\n",
      "ORTSGR_KLS9              0.046821\n",
      "EWDICHTE                 0.046669\n",
      "PLZ8_BAUMAX              0.044466\n",
      "PLZ8_ANTG4               0.042761\n",
      "PLZ8_ANTG3               0.041560\n",
      "WOHNDAUER_2008           0.036001\n",
      "ARBEIT                   0.029870\n",
      "RELAT_AB                 0.028583\n",
      "PLZ8_ANTG2               0.027259\n",
      "KBA05_ANTG4              0.024838\n",
      "ANZ_HAUSHALTE_AKTIV      0.022464\n",
      "household                0.017677\n",
      "ANZ_HH_TITEL             0.013649\n",
      "ANZ_TITEL                0.010961\n",
      "LP_LEBENSPHASE_FEIN      0.008329\n",
      "PLZ8_HHZ                 0.006302\n",
      "                           ...   \n",
      "OST_WEST_KZ             -0.010686\n",
      "HEALTH_TYP              -0.011860\n",
      "KBA05_ANTG2             -0.012960\n",
      "KBA05_ANTG1             -0.015879\n",
      "KBA13_ANZAHL_PKW        -0.020190\n",
      "KKK                     -0.020687\n",
      "KBA05_GBZ               -0.020880\n",
      "MOBI_REGIO              -0.023060\n",
      "WOHNLAGE                -0.024773\n",
      "GEBAEUDETYP_RASTER      -0.029391\n",
      "PLZ8_GBZ                -0.034291\n",
      "HH_EINKOMMEN_SCORE      -0.034760\n",
      "BALLRAUM                -0.035665\n",
      "KONSUMNAEHE             -0.036496\n",
      "PLZ8_ANTG1              -0.041471\n",
      "INNENSTADT              -0.042760\n",
      "ONLINE_AFFINITAET       -0.049541\n",
      "FINANZ_HAUSBAUER        -0.053964\n",
      "SEMIO_PFLICHT           -0.075574\n",
      "SEMIO_TRADV             -0.083979\n",
      "FINANZ_UNAUFFAELLIGER   -0.090123\n",
      "FINANZ_SPARER           -0.100971\n",
      "decade                  -0.105519\n",
      "SEMIO_ERL               -0.171062\n",
      "FINANZ_ANLEGER          -0.187734\n",
      "SEMIO_RAT               -0.217192\n",
      "SEMIO_KRIT              -0.270925\n",
      "SEMIO_DOM               -0.312092\n",
      "SEMIO_KAEM              -0.337874\n",
      "ANREDE_KZ               -0.367630\n",
      "Name: 2, Length: 194, dtype: float64\n"
     ]
    }
   ],
   "source": [
    "# Map weights for the third principal component to corresponding feature names\n",
    "# and then print the linked values, sorted by weight.\n",
    "print(calc_weights(2))\n"
   ]
  },
  {
   "cell_type": "markdown",
   "metadata": {},
   "source": [
    "### Discussion 2.3: Interpret Principal Components\n",
    "\n",
    "(Double-click this cell and replace this text with your own text, reporting your observations from detailed investigation of the first few principal components generated. Can we interpret positive and negative values from them in a meaningful way?)"
   ]
  },
  {
   "cell_type": "markdown",
   "metadata": {},
   "source": [
    "## Step 3: Clustering\n",
    "\n",
    "### Step 3.1: Apply Clustering to General Population\n",
    "\n",
    "You've assessed and cleaned the demographics data, then scaled and transformed them. Now, it's time to see how the data clusters in the principal components space. In this substep, you will apply k-means clustering to the dataset and use the average within-cluster distances from each point to their assigned cluster's centroid to decide on a number of clusters to keep.\n",
    "\n",
    "- Use sklearn's [KMeans](http://scikit-learn.org/stable/modules/generated/sklearn.cluster.KMeans.html#sklearn.cluster.KMeans) class to perform k-means clustering on the PCA-transformed data.\n",
    "- Then, compute the average difference from each point to its assigned cluster's center. **Hint**: The KMeans object's `.score()` method might be useful here, but note that in sklearn, scores tend to be defined so that larger is better. Try applying it to a small, toy dataset, or use an internet search to help your understanding.\n",
    "- Perform the above two steps for a number of different cluster counts. You can then see how the average distance decreases with an increasing number of clusters. However, each additional cluster provides a smaller net benefit. Use this fact to select a final number of clusters in which to group the data. **Warning**: because of the large size of the dataset, it can take a long time for the algorithm to resolve. The more clusters to fit, the longer the algorithm will take. You should test for cluster counts through at least 10 clusters to get the full picture, but you shouldn't need to test for a number of clusters above about 30.\n",
    "- Once you've selected a final number of clusters to use, re-fit a KMeans instance to perform the clustering operation. Make sure that you also obtain the cluster assignments for the general demographics data, since you'll be using them in the final Step 3.3."
   ]
  },
  {
   "cell_type": "code",
   "execution_count": 96,
   "metadata": {},
   "outputs": [],
   "source": [
    "# Over a number of different cluster counts...\n",
    "from sklearn.cluster import KMeans\n",
    "\n",
    "def cluster_data(n_clusters, data):\n",
    "    model = KMeans(n_clusters = n_clusters)\n",
    "    preds = model.fit_predict(data)\n",
    "    score = model.score(preds)\n",
    "    \n",
    "    return score\n",
    "\n",
    "    # run k-means clustering on the data and...\n",
    "    \n",
    "    \n",
    "    # compute the average within-cluster distances.\n",
    "    \n",
    "    "
   ]
  },
  {
   "cell_type": "code",
   "execution_count": 98,
   "metadata": {},
   "outputs": [
    {
     "ename": "TypeError",
     "evalue": "float() argument must be a string or a number, not 'PCA'",
     "output_type": "error",
     "traceback": [
      "\u001b[0;31m---------------------------------------------------------------------------\u001b[0m",
      "\u001b[0;31mTypeError\u001b[0m                                 Traceback (most recent call last)",
      "\u001b[0;32m<ipython-input-98-d83f0ab97b80>\u001b[0m in \u001b[0;36m<module>\u001b[0;34m()\u001b[0m\n\u001b[0;32m----> 1\u001b[0;31m \u001b[0mcluster_data\u001b[0m\u001b[0;34m(\u001b[0m\u001b[0;36m30\u001b[0m\u001b[0;34m,\u001b[0m \u001b[0mpca\u001b[0m\u001b[0;34m)\u001b[0m\u001b[0;34m\u001b[0m\u001b[0m\n\u001b[0m",
      "\u001b[0;32m<ipython-input-96-1a0b4a7d0d73>\u001b[0m in \u001b[0;36mcluster_data\u001b[0;34m(n_clusters, data)\u001b[0m\n\u001b[1;32m      4\u001b[0m \u001b[0;32mdef\u001b[0m \u001b[0mcluster_data\u001b[0m\u001b[0;34m(\u001b[0m\u001b[0mn_clusters\u001b[0m\u001b[0;34m,\u001b[0m \u001b[0mdata\u001b[0m\u001b[0;34m)\u001b[0m\u001b[0;34m:\u001b[0m\u001b[0;34m\u001b[0m\u001b[0m\n\u001b[1;32m      5\u001b[0m     \u001b[0mmodel\u001b[0m \u001b[0;34m=\u001b[0m \u001b[0mKMeans\u001b[0m\u001b[0;34m(\u001b[0m\u001b[0mn_clusters\u001b[0m \u001b[0;34m=\u001b[0m \u001b[0mn_clusters\u001b[0m\u001b[0;34m)\u001b[0m\u001b[0;34m\u001b[0m\u001b[0m\n\u001b[0;32m----> 6\u001b[0;31m     \u001b[0mpreds\u001b[0m \u001b[0;34m=\u001b[0m \u001b[0mmodel\u001b[0m\u001b[0;34m.\u001b[0m\u001b[0mfit_predict\u001b[0m\u001b[0;34m(\u001b[0m\u001b[0mdata\u001b[0m\u001b[0;34m)\u001b[0m\u001b[0;34m\u001b[0m\u001b[0m\n\u001b[0m\u001b[1;32m      7\u001b[0m     \u001b[0mscore\u001b[0m \u001b[0;34m=\u001b[0m \u001b[0mmodel\u001b[0m\u001b[0;34m.\u001b[0m\u001b[0mscore\u001b[0m\u001b[0;34m(\u001b[0m\u001b[0mpreds\u001b[0m\u001b[0;34m)\u001b[0m\u001b[0;34m\u001b[0m\u001b[0m\n\u001b[1;32m      8\u001b[0m \u001b[0;34m\u001b[0m\u001b[0m\n",
      "\u001b[0;32m/opt/conda/lib/python3.6/site-packages/sklearn/cluster/k_means_.py\u001b[0m in \u001b[0;36mfit_predict\u001b[0;34m(self, X, y)\u001b[0m\n\u001b[1;32m    915\u001b[0m             \u001b[0mIndex\u001b[0m \u001b[0mof\u001b[0m \u001b[0mthe\u001b[0m \u001b[0mcluster\u001b[0m \u001b[0meach\u001b[0m \u001b[0msample\u001b[0m \u001b[0mbelongs\u001b[0m \u001b[0mto\u001b[0m\u001b[0;34m.\u001b[0m\u001b[0;34m\u001b[0m\u001b[0m\n\u001b[1;32m    916\u001b[0m         \"\"\"\n\u001b[0;32m--> 917\u001b[0;31m         \u001b[0;32mreturn\u001b[0m \u001b[0mself\u001b[0m\u001b[0;34m.\u001b[0m\u001b[0mfit\u001b[0m\u001b[0;34m(\u001b[0m\u001b[0mX\u001b[0m\u001b[0;34m)\u001b[0m\u001b[0;34m.\u001b[0m\u001b[0mlabels_\u001b[0m\u001b[0;34m\u001b[0m\u001b[0m\n\u001b[0m\u001b[1;32m    918\u001b[0m \u001b[0;34m\u001b[0m\u001b[0m\n\u001b[1;32m    919\u001b[0m     \u001b[0;32mdef\u001b[0m \u001b[0mfit_transform\u001b[0m\u001b[0;34m(\u001b[0m\u001b[0mself\u001b[0m\u001b[0;34m,\u001b[0m \u001b[0mX\u001b[0m\u001b[0;34m,\u001b[0m \u001b[0my\u001b[0m\u001b[0;34m=\u001b[0m\u001b[0;32mNone\u001b[0m\u001b[0;34m)\u001b[0m\u001b[0;34m:\u001b[0m\u001b[0;34m\u001b[0m\u001b[0m\n",
      "\u001b[0;32m/opt/conda/lib/python3.6/site-packages/sklearn/cluster/k_means_.py\u001b[0m in \u001b[0;36mfit\u001b[0;34m(self, X, y)\u001b[0m\n\u001b[1;32m    885\u001b[0m         \"\"\"\n\u001b[1;32m    886\u001b[0m         \u001b[0mrandom_state\u001b[0m \u001b[0;34m=\u001b[0m \u001b[0mcheck_random_state\u001b[0m\u001b[0;34m(\u001b[0m\u001b[0mself\u001b[0m\u001b[0;34m.\u001b[0m\u001b[0mrandom_state\u001b[0m\u001b[0;34m)\u001b[0m\u001b[0;34m\u001b[0m\u001b[0m\n\u001b[0;32m--> 887\u001b[0;31m         \u001b[0mX\u001b[0m \u001b[0;34m=\u001b[0m \u001b[0mself\u001b[0m\u001b[0;34m.\u001b[0m\u001b[0m_check_fit_data\u001b[0m\u001b[0;34m(\u001b[0m\u001b[0mX\u001b[0m\u001b[0;34m)\u001b[0m\u001b[0;34m\u001b[0m\u001b[0m\n\u001b[0m\u001b[1;32m    888\u001b[0m \u001b[0;34m\u001b[0m\u001b[0m\n\u001b[1;32m    889\u001b[0m         \u001b[0mself\u001b[0m\u001b[0;34m.\u001b[0m\u001b[0mcluster_centers_\u001b[0m\u001b[0;34m,\u001b[0m \u001b[0mself\u001b[0m\u001b[0;34m.\u001b[0m\u001b[0mlabels_\u001b[0m\u001b[0;34m,\u001b[0m \u001b[0mself\u001b[0m\u001b[0;34m.\u001b[0m\u001b[0minertia_\u001b[0m\u001b[0;34m,\u001b[0m \u001b[0mself\u001b[0m\u001b[0;34m.\u001b[0m\u001b[0mn_iter_\u001b[0m \u001b[0;34m=\u001b[0m\u001b[0;31m \u001b[0m\u001b[0;31m\\\u001b[0m\u001b[0;34m\u001b[0m\u001b[0m\n",
      "\u001b[0;32m/opt/conda/lib/python3.6/site-packages/sklearn/cluster/k_means_.py\u001b[0m in \u001b[0;36m_check_fit_data\u001b[0;34m(self, X)\u001b[0m\n\u001b[1;32m    856\u001b[0m     \u001b[0;32mdef\u001b[0m \u001b[0m_check_fit_data\u001b[0m\u001b[0;34m(\u001b[0m\u001b[0mself\u001b[0m\u001b[0;34m,\u001b[0m \u001b[0mX\u001b[0m\u001b[0;34m)\u001b[0m\u001b[0;34m:\u001b[0m\u001b[0;34m\u001b[0m\u001b[0m\n\u001b[1;32m    857\u001b[0m         \u001b[0;34m\"\"\"Verify that the number of samples given is larger than k\"\"\"\u001b[0m\u001b[0;34m\u001b[0m\u001b[0m\n\u001b[0;32m--> 858\u001b[0;31m         \u001b[0mX\u001b[0m \u001b[0;34m=\u001b[0m \u001b[0mcheck_array\u001b[0m\u001b[0;34m(\u001b[0m\u001b[0mX\u001b[0m\u001b[0;34m,\u001b[0m \u001b[0maccept_sparse\u001b[0m\u001b[0;34m=\u001b[0m\u001b[0;34m'csr'\u001b[0m\u001b[0;34m,\u001b[0m \u001b[0mdtype\u001b[0m\u001b[0;34m=\u001b[0m\u001b[0;34m[\u001b[0m\u001b[0mnp\u001b[0m\u001b[0;34m.\u001b[0m\u001b[0mfloat64\u001b[0m\u001b[0;34m,\u001b[0m \u001b[0mnp\u001b[0m\u001b[0;34m.\u001b[0m\u001b[0mfloat32\u001b[0m\u001b[0;34m]\u001b[0m\u001b[0;34m)\u001b[0m\u001b[0;34m\u001b[0m\u001b[0m\n\u001b[0m\u001b[1;32m    859\u001b[0m         \u001b[0;32mif\u001b[0m \u001b[0mX\u001b[0m\u001b[0;34m.\u001b[0m\u001b[0mshape\u001b[0m\u001b[0;34m[\u001b[0m\u001b[0;36m0\u001b[0m\u001b[0;34m]\u001b[0m \u001b[0;34m<\u001b[0m \u001b[0mself\u001b[0m\u001b[0;34m.\u001b[0m\u001b[0mn_clusters\u001b[0m\u001b[0;34m:\u001b[0m\u001b[0;34m\u001b[0m\u001b[0m\n\u001b[1;32m    860\u001b[0m             raise ValueError(\"n_samples=%d should be >= n_clusters=%d\" % (\n",
      "\u001b[0;32m/opt/conda/lib/python3.6/site-packages/sklearn/utils/validation.py\u001b[0m in \u001b[0;36mcheck_array\u001b[0;34m(array, accept_sparse, dtype, order, copy, force_all_finite, ensure_2d, allow_nd, ensure_min_samples, ensure_min_features, warn_on_dtype, estimator)\u001b[0m\n\u001b[1;32m    431\u001b[0m                                       force_all_finite)\n\u001b[1;32m    432\u001b[0m     \u001b[0;32melse\u001b[0m\u001b[0;34m:\u001b[0m\u001b[0;34m\u001b[0m\u001b[0m\n\u001b[0;32m--> 433\u001b[0;31m         \u001b[0marray\u001b[0m \u001b[0;34m=\u001b[0m \u001b[0mnp\u001b[0m\u001b[0;34m.\u001b[0m\u001b[0marray\u001b[0m\u001b[0;34m(\u001b[0m\u001b[0marray\u001b[0m\u001b[0;34m,\u001b[0m \u001b[0mdtype\u001b[0m\u001b[0;34m=\u001b[0m\u001b[0mdtype\u001b[0m\u001b[0;34m,\u001b[0m \u001b[0morder\u001b[0m\u001b[0;34m=\u001b[0m\u001b[0morder\u001b[0m\u001b[0;34m,\u001b[0m \u001b[0mcopy\u001b[0m\u001b[0;34m=\u001b[0m\u001b[0mcopy\u001b[0m\u001b[0;34m)\u001b[0m\u001b[0;34m\u001b[0m\u001b[0m\n\u001b[0m\u001b[1;32m    434\u001b[0m \u001b[0;34m\u001b[0m\u001b[0m\n\u001b[1;32m    435\u001b[0m         \u001b[0;32mif\u001b[0m \u001b[0mensure_2d\u001b[0m\u001b[0;34m:\u001b[0m\u001b[0;34m\u001b[0m\u001b[0m\n",
      "\u001b[0;31mTypeError\u001b[0m: float() argument must be a string or a number, not 'PCA'"
     ]
    }
   ],
   "source": [
    "cluster_data(30, pca)"
   ]
  },
  {
   "cell_type": "code",
   "execution_count": null,
   "metadata": {},
   "outputs": [],
   "source": [
    "# Investigate the change in within-cluster distance across number of clusters.\n",
    "# HINT: Use matplotlib's plot function to visualize this relationship.\n",
    "\n"
   ]
  },
  {
   "cell_type": "code",
   "execution_count": null,
   "metadata": {},
   "outputs": [],
   "source": [
    "# Re-fit the k-means model with the selected number of clusters and obtain\n",
    "# cluster predictions for the general population demographics data.\n",
    "\n"
   ]
  },
  {
   "cell_type": "markdown",
   "metadata": {},
   "source": [
    "### Discussion 3.1: Apply Clustering to General Population\n",
    "\n",
    "(Double-click this cell and replace this text with your own text, reporting your findings and decisions regarding clustering. Into how many clusters have you decided to segment the population?)"
   ]
  },
  {
   "cell_type": "markdown",
   "metadata": {},
   "source": [
    "### Step 3.2: Apply All Steps to the Customer Data\n",
    "\n",
    "Now that you have clusters and cluster centers for the general population, it's time to see how the customer data maps on to those clusters. Take care to not confuse this for re-fitting all of the models to the customer data. Instead, you're going to use the fits from the general population to clean, transform, and cluster the customer data. In the last step of the project, you will interpret how the general population fits apply to the customer data.\n",
    "\n",
    "- Don't forget when loading in the customers data, that it is semicolon (`;`) delimited.\n",
    "- Apply the same feature wrangling, selection, and engineering steps to the customer demographics using the `clean_data()` function you created earlier. (You can assume that the customer demographics data has similar meaning behind missing data patterns as the general demographics data.)\n",
    "- Use the sklearn objects from the general demographics data, and apply their transformations to the customers data. That is, you should not be using a `.fit()` or `.fit_transform()` method to re-fit the old objects, nor should you be creating new sklearn objects! Carry the data through the feature scaling, PCA, and clustering steps, obtaining cluster assignments for all of the data in the customer demographics data."
   ]
  },
  {
   "cell_type": "code",
   "execution_count": null,
   "metadata": {},
   "outputs": [],
   "source": [
    "# Load in the customer demographics data."
   ]
  },
  {
   "cell_type": "code",
   "execution_count": null,
   "metadata": {},
   "outputs": [],
   "source": [
    "# Apply preprocessing, feature transformation, and clustering from the general\n",
    "# demographics onto the customer data, obtaining cluster predictions for the\n",
    "# customer demographics data.\n",
    "\n"
   ]
  },
  {
   "cell_type": "markdown",
   "metadata": {},
   "source": [
    "### Step 3.3: Compare Customer Data to Demographics Data\n",
    "\n",
    "At this point, you have clustered data based on demographics of the general population of Germany, and seen how the customer data for a mail-order sales company maps onto those demographic clusters. In this final substep, you will compare the two cluster distributions to see where the strongest customer base for the company is.\n",
    "\n",
    "Consider the proportion of persons in each cluster for the general population, and the proportions for the customers. If we think the company's customer base to be universal, then the cluster assignment proportions should be fairly similar between the two. If there are only particular segments of the population that are interested in the company's products, then we should see a mismatch from one to the other. If there is a higher proportion of persons in a cluster for the customer data compared to the general population (e.g. 5% of persons are assigned to a cluster for the general population, but 15% of the customer data is closest to that cluster's centroid) then that suggests the people in that cluster to be a target audience for the company. On the other hand, the proportion of the data in a cluster being larger in the general population than the customer data (e.g. only 2% of customers closest to a population centroid that captures 6% of the data) suggests that group of persons to be outside of the target demographics.\n",
    "\n",
    "Take a look at the following points in this step:\n",
    "\n",
    "- Compute the proportion of data points in each cluster for the general population and the customer data. Visualizations will be useful here: both for the individual dataset proportions, but also to visualize the ratios in cluster representation between groups. Seaborn's [`countplot()`](https://seaborn.pydata.org/generated/seaborn.countplot.html) or [`barplot()`](https://seaborn.pydata.org/generated/seaborn.barplot.html) function could be handy.\n",
    "  - Recall the analysis you performed in step 1.1.3 of the project, where you separated out certain data points from the dataset if they had more than a specified threshold of missing values. If you found that this group was qualitatively different from the main bulk of the data, you should treat this as an additional data cluster in this analysis. Make sure that you account for the number of data points in this subset, for both the general population and customer datasets, when making your computations!\n",
    "- Which cluster or clusters are overrepresented in the customer dataset compared to the general population? Select at least one such cluster and infer what kind of people might be represented by that cluster. Use the principal component interpretations from step 2.3 or look at additional components to help you make this inference. Alternatively, you can use the `.inverse_transform()` method of the PCA and StandardScaler objects to transform centroids back to the original data space and interpret the retrieved values directly.\n",
    "- Perform a similar investigation for the underrepresented clusters. Which cluster or clusters are underrepresented in the customer dataset compared to the general population, and what kinds of people are typified by these clusters?"
   ]
  },
  {
   "cell_type": "code",
   "execution_count": null,
   "metadata": {},
   "outputs": [],
   "source": [
    "# Compare the proportion of data in each cluster for the customer data to the\n",
    "# proportion of data in each cluster for the general population.\n",
    "\n"
   ]
  },
  {
   "cell_type": "code",
   "execution_count": null,
   "metadata": {},
   "outputs": [],
   "source": [
    "# What kinds of people are part of a cluster that is overrepresented in the\n",
    "# customer data compared to the general population?\n",
    "\n"
   ]
  },
  {
   "cell_type": "code",
   "execution_count": null,
   "metadata": {},
   "outputs": [],
   "source": [
    "# What kinds of people are part of a cluster that is underrepresented in the\n",
    "# customer data compared to the general population?\n",
    "\n"
   ]
  },
  {
   "cell_type": "markdown",
   "metadata": {},
   "source": [
    "### Discussion 3.3: Compare Customer Data to Demographics Data\n",
    "\n",
    "(Double-click this cell and replace this text with your own text, reporting findings and conclusions from the clustering analysis. Can we describe segments of the population that are relatively popular with the mail-order company, or relatively unpopular with the company?)"
   ]
  },
  {
   "cell_type": "markdown",
   "metadata": {},
   "source": [
    "> Congratulations on making it this far in the project! Before you finish, make sure to check through the entire notebook from top to bottom to make sure that your analysis follows a logical flow and all of your findings are documented in **Discussion** cells. Once you've checked over all of your work, you should export the notebook as an HTML document to submit for evaluation. You can do this from the menu, navigating to **File -> Download as -> HTML (.html)**. You will submit both that document and this notebook for your project submission."
   ]
  },
  {
   "cell_type": "code",
   "execution_count": null,
   "metadata": {},
   "outputs": [],
   "source": []
  }
 ],
 "metadata": {
  "kernelspec": {
   "display_name": "Python 3",
   "language": "python",
   "name": "python3"
  },
  "language_info": {
   "codemirror_mode": {
    "name": "ipython",
    "version": 3
   },
   "file_extension": ".py",
   "mimetype": "text/x-python",
   "name": "python",
   "nbconvert_exporter": "python",
   "pygments_lexer": "ipython3",
   "version": "3.6.3"
  }
 },
 "nbformat": 4,
 "nbformat_minor": 2
}
